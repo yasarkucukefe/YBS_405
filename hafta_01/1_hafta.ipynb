{
 "cells": [
  {
   "cell_type": "markdown",
   "id": "developmental-spanking",
   "metadata": {},
   "source": [
    "# Python Hatırlatma Dersi"
   ]
  },
  {
   "cell_type": "markdown",
   "id": "departmental-arrangement",
   "metadata": {},
   "source": [
    "## Rakamlar"
   ]
  },
  {
   "cell_type": "code",
   "execution_count": 1,
   "id": "pursuant-satin",
   "metadata": {},
   "outputs": [
    {
     "data": {
      "text/plain": [
       "2"
      ]
     },
     "execution_count": 1,
     "metadata": {},
     "output_type": "execute_result"
    }
   ],
   "source": [
    "1 + 1"
   ]
  },
  {
   "cell_type": "code",
   "execution_count": 2,
   "id": "vertical-plasma",
   "metadata": {},
   "outputs": [
    {
     "data": {
      "text/plain": [
       "0.3333333333333333"
      ]
     },
     "execution_count": 2,
     "metadata": {},
     "output_type": "execute_result"
    }
   ],
   "source": [
    "1 / 3"
   ]
  },
  {
   "cell_type": "code",
   "execution_count": 3,
   "id": "desperate-witness",
   "metadata": {},
   "outputs": [
    {
     "data": {
      "text/plain": [
       "16"
      ]
     },
     "execution_count": 3,
     "metadata": {},
     "output_type": "execute_result"
    }
   ],
   "source": [
    "2 ** 4"
   ]
  },
  {
   "cell_type": "code",
   "execution_count": 4,
   "id": "absolute-cooling",
   "metadata": {},
   "outputs": [
    {
     "data": {
      "text/plain": [
       "2.0"
      ]
     },
     "execution_count": 4,
     "metadata": {},
     "output_type": "execute_result"
    }
   ],
   "source": [
    "4 ** (1/2)"
   ]
  },
  {
   "cell_type": "code",
   "execution_count": 5,
   "id": "plain-ballet",
   "metadata": {},
   "outputs": [
    {
     "data": {
      "text/plain": [
       "1"
      ]
     },
     "execution_count": 5,
     "metadata": {},
     "output_type": "execute_result"
    }
   ],
   "source": [
    "5 % 2"
   ]
  },
  {
   "cell_type": "code",
   "execution_count": 6,
   "id": "supported-clerk",
   "metadata": {},
   "outputs": [],
   "source": [
    "degisken_isim = 4"
   ]
  },
  {
   "cell_type": "code",
   "execution_count": 7,
   "id": "proprietary-beverage",
   "metadata": {},
   "outputs": [
    {
     "name": "stdout",
     "output_type": "stream",
     "text": [
      "4\n"
     ]
    }
   ],
   "source": [
    "print(degisken_isim)"
   ]
  },
  {
   "cell_type": "code",
   "execution_count": 8,
   "id": "considered-ghana",
   "metadata": {},
   "outputs": [
    {
     "data": {
      "text/plain": [
       "9"
      ]
     },
     "execution_count": 8,
     "metadata": {},
     "output_type": "execute_result"
    }
   ],
   "source": [
    "degisken_isim + 5"
   ]
  },
  {
   "cell_type": "markdown",
   "id": "wired-louisville",
   "metadata": {},
   "source": [
    "## String (karakter dizinleri)"
   ]
  },
  {
   "cell_type": "code",
   "execution_count": 9,
   "id": "psychological-speech",
   "metadata": {},
   "outputs": [],
   "source": [
    "x = \"Merhaba\""
   ]
  },
  {
   "cell_type": "code",
   "execution_count": 10,
   "id": "worse-causing",
   "metadata": {},
   "outputs": [
    {
     "data": {
      "text/plain": [
       "'Merhaba'"
      ]
     },
     "execution_count": 10,
     "metadata": {},
     "output_type": "execute_result"
    }
   ],
   "source": [
    "x"
   ]
  },
  {
   "cell_type": "code",
   "execution_count": 14,
   "id": "domestic-installation",
   "metadata": {},
   "outputs": [],
   "source": [
    "yas = 24; isim = \"Mehmet\""
   ]
  },
  {
   "cell_type": "code",
   "execution_count": 15,
   "id": "naughty-mixture",
   "metadata": {},
   "outputs": [
    {
     "name": "stdout",
     "output_type": "stream",
     "text": [
      "Mehmet kaç yaşında?\n"
     ]
    }
   ],
   "source": [
    "print(f\"{isim} kaç yaşında?\")"
   ]
  },
  {
   "cell_type": "code",
   "execution_count": 16,
   "id": "australian-short",
   "metadata": {},
   "outputs": [
    {
     "name": "stdout",
     "output_type": "stream",
     "text": [
      "Mehmet, 24 yaşında.\n"
     ]
    }
   ],
   "source": [
    "print(f\"{isim}, {yas} yaşında.\")"
   ]
  },
  {
   "cell_type": "markdown",
   "id": "pressing-ontario",
   "metadata": {},
   "source": [
    "## Listeler"
   ]
  },
  {
   "cell_type": "code",
   "execution_count": 18,
   "id": "boolean-toner",
   "metadata": {},
   "outputs": [
    {
     "data": {
      "text/plain": [
       "[1, 2, 3]"
      ]
     },
     "execution_count": 18,
     "metadata": {},
     "output_type": "execute_result"
    }
   ],
   "source": [
    "[1, 2, 3]"
   ]
  },
  {
   "cell_type": "code",
   "execution_count": 19,
   "id": "industrial-actor",
   "metadata": {},
   "outputs": [
    {
     "data": {
      "text/plain": [
       "['selam', 12, True, 1.6]"
      ]
     },
     "execution_count": 19,
     "metadata": {},
     "output_type": "execute_result"
    }
   ],
   "source": [
    "[\"selam\", 12, True, 1.6]"
   ]
  },
  {
   "cell_type": "code",
   "execution_count": 20,
   "id": "pressed-matter",
   "metadata": {},
   "outputs": [],
   "source": [
    "liste = [\"selam\", 12, True, 1.6]"
   ]
  },
  {
   "cell_type": "code",
   "execution_count": 21,
   "id": "authentic-karma",
   "metadata": {},
   "outputs": [],
   "source": [
    "liste.append(\"Selma\")"
   ]
  },
  {
   "cell_type": "code",
   "execution_count": 22,
   "id": "floral-double",
   "metadata": {},
   "outputs": [
    {
     "name": "stdout",
     "output_type": "stream",
     "text": [
      "['selam', 12, True, 1.6, 'Selma']\n"
     ]
    }
   ],
   "source": [
    "print(liste)"
   ]
  },
  {
   "cell_type": "code",
   "execution_count": 23,
   "id": "anticipated-nebraska",
   "metadata": {},
   "outputs": [
    {
     "data": {
      "text/plain": [
       "'selam'"
      ]
     },
     "execution_count": 23,
     "metadata": {},
     "output_type": "execute_result"
    }
   ],
   "source": [
    "liste[0]"
   ]
  },
  {
   "cell_type": "code",
   "execution_count": 24,
   "id": "flush-finance",
   "metadata": {},
   "outputs": [
    {
     "data": {
      "text/plain": [
       "[True]"
      ]
     },
     "execution_count": 24,
     "metadata": {},
     "output_type": "execute_result"
    }
   ],
   "source": [
    "liste[2:3]"
   ]
  },
  {
   "cell_type": "markdown",
   "id": "french-product",
   "metadata": {},
   "source": [
    "## Dictionary (Sözlük)"
   ]
  },
  {
   "cell_type": "code",
   "execution_count": 25,
   "id": "departmental-diary",
   "metadata": {},
   "outputs": [],
   "source": [
    "sozluk = {'isim':'Yaşar', 'yas':50}"
   ]
  },
  {
   "cell_type": "code",
   "execution_count": 26,
   "id": "unauthorized-faith",
   "metadata": {},
   "outputs": [
    {
     "data": {
      "text/plain": [
       "{'isim': 'Yaşar', 'yas': 50}"
      ]
     },
     "execution_count": 26,
     "metadata": {},
     "output_type": "execute_result"
    }
   ],
   "source": [
    "sozluk"
   ]
  },
  {
   "cell_type": "code",
   "execution_count": 27,
   "id": "statistical-garage",
   "metadata": {},
   "outputs": [
    {
     "data": {
      "text/plain": [
       "50"
      ]
     },
     "execution_count": 27,
     "metadata": {},
     "output_type": "execute_result"
    }
   ],
   "source": [
    "sozluk['yas']"
   ]
  },
  {
   "cell_type": "markdown",
   "id": "solid-chair",
   "metadata": {},
   "source": [
    "## Tuple (deste)"
   ]
  },
  {
   "cell_type": "code",
   "execution_count": 28,
   "id": "registered-burden",
   "metadata": {},
   "outputs": [],
   "source": [
    "deste = (1,2,'isim')"
   ]
  },
  {
   "cell_type": "code",
   "execution_count": 30,
   "id": "correct-paintball",
   "metadata": {},
   "outputs": [
    {
     "ename": "TypeError",
     "evalue": "'tuple' object does not support item assignment",
     "output_type": "error",
     "traceback": [
      "\u001b[1;31m---------------------------------------------------------------------------\u001b[0m",
      "\u001b[1;31mTypeError\u001b[0m                                 Traceback (most recent call last)",
      "\u001b[1;32m<ipython-input-30-d817f018c167>\u001b[0m in \u001b[0;36m<module>\u001b[1;34m\u001b[0m\n\u001b[1;32m----> 1\u001b[1;33m \u001b[0mdeste\u001b[0m\u001b[1;33m[\u001b[0m\u001b[1;36m0\u001b[0m\u001b[1;33m]\u001b[0m\u001b[1;33m=\u001b[0m\u001b[1;36m3\u001b[0m\u001b[1;33m\u001b[0m\u001b[1;33m\u001b[0m\u001b[0m\n\u001b[0m",
      "\u001b[1;31mTypeError\u001b[0m: 'tuple' object does not support item assignment"
     ]
    }
   ],
   "source": [
    "deste[0]=3"
   ]
  },
  {
   "cell_type": "markdown",
   "id": "fixed-tiffany",
   "metadata": {},
   "source": [
    "## Set (küme)"
   ]
  },
  {
   "cell_type": "code",
   "execution_count": 31,
   "id": "developing-liverpool",
   "metadata": {},
   "outputs": [],
   "source": [
    "kume = {1, 2, 3, 5, 5}"
   ]
  },
  {
   "cell_type": "code",
   "execution_count": 32,
   "id": "vietnamese-timeline",
   "metadata": {},
   "outputs": [
    {
     "name": "stdout",
     "output_type": "stream",
     "text": [
      "{1, 2, 3, 5}\n"
     ]
    }
   ],
   "source": [
    "print(kume)"
   ]
  },
  {
   "cell_type": "markdown",
   "id": "noticed-budget",
   "metadata": {},
   "source": [
    "## Kıyaslama Operatörleri"
   ]
  },
  {
   "cell_type": "code",
   "execution_count": 33,
   "id": "chemical-singapore",
   "metadata": {},
   "outputs": [
    {
     "data": {
      "text/plain": [
       "False"
      ]
     },
     "execution_count": 33,
     "metadata": {},
     "output_type": "execute_result"
    }
   ],
   "source": [
    "1 > 2"
   ]
  },
  {
   "cell_type": "code",
   "execution_count": 34,
   "id": "distributed-boring",
   "metadata": {},
   "outputs": [
    {
     "data": {
      "text/plain": [
       "True"
      ]
     },
     "execution_count": 34,
     "metadata": {},
     "output_type": "execute_result"
    }
   ],
   "source": [
    "2 == 2"
   ]
  },
  {
   "cell_type": "code",
   "execution_count": 35,
   "id": "variable-criticism",
   "metadata": {},
   "outputs": [],
   "source": [
    "a = 2 == 3"
   ]
  },
  {
   "cell_type": "code",
   "execution_count": 36,
   "id": "respected-ceremony",
   "metadata": {},
   "outputs": [
    {
     "name": "stdout",
     "output_type": "stream",
     "text": [
      "False\n"
     ]
    }
   ],
   "source": [
    "print(a)"
   ]
  },
  {
   "cell_type": "markdown",
   "id": "exterior-wyoming",
   "metadata": {},
   "source": [
    "## Mantık Operatörleri"
   ]
  },
  {
   "cell_type": "code",
   "execution_count": 37,
   "id": "valid-album",
   "metadata": {},
   "outputs": [
    {
     "data": {
      "text/plain": [
       "False"
      ]
     },
     "execution_count": 37,
     "metadata": {},
     "output_type": "execute_result"
    }
   ],
   "source": [
    "(1>2) or (4 == 3)"
   ]
  },
  {
   "cell_type": "code",
   "execution_count": 38,
   "id": "organizational-paintball",
   "metadata": {},
   "outputs": [
    {
     "data": {
      "text/plain": [
       "False"
      ]
     },
     "execution_count": 38,
     "metadata": {},
     "output_type": "execute_result"
    }
   ],
   "source": [
    "(1>2) or (4 == \"4\")"
   ]
  },
  {
   "cell_type": "markdown",
   "id": "thorough-principle",
   "metadata": {},
   "source": [
    "## if, elif, else  (durum kontrolleri)"
   ]
  },
  {
   "cell_type": "code",
   "execution_count": 39,
   "id": "accepted-netscape",
   "metadata": {},
   "outputs": [
    {
     "name": "stdout",
     "output_type": "stream",
     "text": [
      "yanlış\n"
     ]
    }
   ],
   "source": [
    "if 1 < 2:\n",
    "    print(\"yanlış\")\n",
    "else:\n",
    "    print(\"hiç bir zaman\")"
   ]
  },
  {
   "cell_type": "markdown",
   "id": "martial-roman",
   "metadata": {},
   "source": [
    "## for loop (for döngüsü)"
   ]
  },
  {
   "cell_type": "code",
   "execution_count": 40,
   "id": "central-speaker",
   "metadata": {},
   "outputs": [
    {
     "name": "stdout",
     "output_type": "stream",
     "text": [
      "1\n",
      "2\n",
      "3\n",
      "4\n"
     ]
    }
   ],
   "source": [
    "seri = [1, 2, 3, 4]\n",
    "for rakam in seri:\n",
    "    print(rakam)"
   ]
  },
  {
   "cell_type": "code",
   "execution_count": 41,
   "id": "editorial-adventure",
   "metadata": {},
   "outputs": [
    {
     "name": "stdout",
     "output_type": "stream",
     "text": [
      "Ahmet=>34\n",
      "Mehmet=>31\n",
      "Ayşe=>29\n",
      "Zehra=>20\n"
     ]
    }
   ],
   "source": [
    "isimler = [\"Ahmet\",\"Mehmet\",\"Ayşe\",\"Zehra\"]\n",
    "yaslar = [34, 31, 29, 20]\n",
    "for isim,yas in zip(isimler,yaslar):\n",
    "    print(f\"{isim}=>{yas}\")"
   ]
  },
  {
   "cell_type": "markdown",
   "id": "guided-hayes",
   "metadata": {},
   "source": [
    "## while loop (while döngüsü)"
   ]
  },
  {
   "cell_type": "code",
   "execution_count": 43,
   "id": "sporting-memorabilia",
   "metadata": {},
   "outputs": [
    {
     "name": "stdout",
     "output_type": "stream",
     "text": [
      "1\n",
      "2\n",
      "3\n",
      "4\n",
      "5\n"
     ]
    }
   ],
   "source": [
    "i = 1\n",
    "while True:\n",
    "    print(f\"{i}\")\n",
    "    i = i + 1\n",
    "    if(i>5):break"
   ]
  },
  {
   "cell_type": "code",
   "execution_count": 44,
   "id": "smooth-porter",
   "metadata": {},
   "outputs": [
    {
     "name": "stdout",
     "output_type": "stream",
     "text": [
      "1\n",
      "2\n",
      "3\n",
      "4\n",
      "5\n"
     ]
    }
   ],
   "source": [
    "i = 1\n",
    "while i < 6:\n",
    "    print(f\"{i}\")\n",
    "    i = i + 1    "
   ]
  },
  {
   "cell_type": "markdown",
   "id": "talented-holly",
   "metadata": {},
   "source": [
    "## range"
   ]
  },
  {
   "cell_type": "code",
   "execution_count": 45,
   "id": "boring-inclusion",
   "metadata": {},
   "outputs": [
    {
     "data": {
      "text/plain": [
       "range(0, 5)"
      ]
     },
     "execution_count": 45,
     "metadata": {},
     "output_type": "execute_result"
    }
   ],
   "source": [
    "range(5)"
   ]
  },
  {
   "cell_type": "code",
   "execution_count": 46,
   "id": "under-butterfly",
   "metadata": {},
   "outputs": [
    {
     "data": {
      "text/plain": [
       "list"
      ]
     },
     "execution_count": 46,
     "metadata": {},
     "output_type": "execute_result"
    }
   ],
   "source": [
    "type([1,2,3])"
   ]
  },
  {
   "cell_type": "code",
   "execution_count": 47,
   "id": "capable-width",
   "metadata": {},
   "outputs": [
    {
     "data": {
      "text/plain": [
       "range"
      ]
     },
     "execution_count": 47,
     "metadata": {},
     "output_type": "execute_result"
    }
   ],
   "source": [
    "type(range(1,4))"
   ]
  },
  {
   "cell_type": "code",
   "execution_count": 48,
   "id": "decreased-volunteer",
   "metadata": {},
   "outputs": [
    {
     "name": "stdout",
     "output_type": "stream",
     "text": [
      "0\n",
      "1\n",
      "2\n",
      "3\n",
      "4\n"
     ]
    }
   ],
   "source": [
    "for rakam in range(5):\n",
    "    print(rakam)"
   ]
  },
  {
   "cell_type": "code",
   "execution_count": 49,
   "id": "still-accuracy",
   "metadata": {},
   "outputs": [
    {
     "name": "stdout",
     "output_type": "stream",
     "text": [
      "2\n",
      "3\n",
      "4\n"
     ]
    }
   ],
   "source": [
    "for rakam in range(2,5):\n",
    "    print(rakam)"
   ]
  },
  {
   "cell_type": "code",
   "execution_count": 50,
   "id": "trying-canyon",
   "metadata": {},
   "outputs": [
    {
     "name": "stdout",
     "output_type": "stream",
     "text": [
      "2\n",
      "5\n",
      "8\n"
     ]
    }
   ],
   "source": [
    "for rakam in range(2,9,3):\n",
    "    print(rakam)"
   ]
  },
  {
   "cell_type": "markdown",
   "id": "related-wellington",
   "metadata": {},
   "source": [
    "## List comprehension "
   ]
  },
  {
   "cell_type": "code",
   "execution_count": 51,
   "id": "liquid-monitor",
   "metadata": {},
   "outputs": [
    {
     "name": "stdout",
     "output_type": "stream",
     "text": [
      "[1, 4, 9, 16]\n"
     ]
    }
   ],
   "source": [
    "x = [1, 2, 3, 4]\n",
    "out = []\n",
    "for rakam in x:\n",
    "    out.append(rakam**2)\n",
    "print(out)"
   ]
  },
  {
   "cell_type": "code",
   "execution_count": 53,
   "id": "smooth-silver",
   "metadata": {},
   "outputs": [
    {
     "name": "stdout",
     "output_type": "stream",
     "text": [
      "[1, 4, 9, 16]\n"
     ]
    }
   ],
   "source": [
    "out = [rakam**2 for rakam in x]\n",
    "print(out)"
   ]
  },
  {
   "cell_type": "markdown",
   "id": "dependent-battle",
   "metadata": {},
   "source": [
    "## Fonksiyonlar"
   ]
  },
  {
   "cell_type": "code",
   "execution_count": 56,
   "id": "understood-vector",
   "metadata": {},
   "outputs": [],
   "source": [
    "def fonksiyon(a = 1):\n",
    "    return(a**3)"
   ]
  },
  {
   "cell_type": "code",
   "execution_count": 55,
   "id": "oriental-superintendent",
   "metadata": {},
   "outputs": [
    {
     "data": {
      "text/plain": [
       "27"
      ]
     },
     "execution_count": 55,
     "metadata": {},
     "output_type": "execute_result"
    }
   ],
   "source": [
    "fonksiyon(3)"
   ]
  },
  {
   "cell_type": "code",
   "execution_count": 57,
   "id": "floating-parallel",
   "metadata": {},
   "outputs": [
    {
     "data": {
      "text/plain": [
       "1"
      ]
     },
     "execution_count": 57,
     "metadata": {},
     "output_type": "execute_result"
    }
   ],
   "source": [
    "fonksiyon()"
   ]
  },
  {
   "cell_type": "markdown",
   "id": "sharp-stranger",
   "metadata": {},
   "source": [
    "## lambda "
   ]
  },
  {
   "cell_type": "code",
   "execution_count": 60,
   "id": "cardiovascular-looking",
   "metadata": {},
   "outputs": [],
   "source": [
    "fonk = lambda x: x**3"
   ]
  },
  {
   "cell_type": "code",
   "execution_count": 62,
   "id": "funded-assessment",
   "metadata": {},
   "outputs": [
    {
     "data": {
      "text/plain": [
       "27"
      ]
     },
     "execution_count": 62,
     "metadata": {},
     "output_type": "execute_result"
    }
   ],
   "source": [
    "fonk(3)"
   ]
  },
  {
   "cell_type": "markdown",
   "id": "disturbed-italian",
   "metadata": {},
   "source": [
    "## map ve filter"
   ]
  },
  {
   "cell_type": "code",
   "execution_count": 63,
   "id": "intensive-tucson",
   "metadata": {},
   "outputs": [],
   "source": [
    "seri = [1, 2, 3, 4, 5, 8]"
   ]
  },
  {
   "cell_type": "code",
   "execution_count": 64,
   "id": "manual-drink",
   "metadata": {},
   "outputs": [
    {
     "data": {
      "text/plain": [
       "[1, 8, 27, 64, 125, 512]"
      ]
     },
     "execution_count": 64,
     "metadata": {},
     "output_type": "execute_result"
    }
   ],
   "source": [
    "list(map(fonksiyon, seri))"
   ]
  },
  {
   "cell_type": "code",
   "execution_count": 65,
   "id": "appropriate-johnson",
   "metadata": {},
   "outputs": [
    {
     "data": {
      "text/plain": [
       "[1, 8, 27, 64, 125, 512]"
      ]
     },
     "execution_count": 65,
     "metadata": {},
     "output_type": "execute_result"
    }
   ],
   "source": [
    "list(map(lambda x: x**3, seri))"
   ]
  },
  {
   "cell_type": "code",
   "execution_count": null,
   "id": "latter-mixer",
   "metadata": {},
   "outputs": [],
   "source": [
    "list(filter(lambda x: x%2 == 1, seri))"
   ]
  },
  {
   "cell_type": "markdown",
   "id": "palestinian-biotechnology",
   "metadata": {},
   "source": [
    "## Method'lar"
   ]
  },
  {
   "cell_type": "code",
   "execution_count": 70,
   "id": "incorporate-budget",
   "metadata": {},
   "outputs": [],
   "source": [
    "metin = \"Bugün günlerden Perşembe\""
   ]
  },
  {
   "cell_type": "code",
   "execution_count": 71,
   "id": "sixth-night",
   "metadata": {},
   "outputs": [
    {
     "data": {
      "text/plain": [
       "'bugün günlerden perşembe'"
      ]
     },
     "execution_count": 71,
     "metadata": {},
     "output_type": "execute_result"
    }
   ],
   "source": [
    "metin.lower()"
   ]
  },
  {
   "cell_type": "code",
   "execution_count": 72,
   "id": "electronic-detail",
   "metadata": {},
   "outputs": [
    {
     "data": {
      "text/plain": [
       "'Bugün günlerden Perşembe'"
      ]
     },
     "execution_count": 72,
     "metadata": {},
     "output_type": "execute_result"
    }
   ],
   "source": [
    "metin"
   ]
  },
  {
   "cell_type": "code",
   "execution_count": 73,
   "id": "steady-august",
   "metadata": {},
   "outputs": [
    {
     "data": {
      "text/plain": [
       "'BUGÜN GÜNLERDEN PERŞEMBE'"
      ]
     },
     "execution_count": 73,
     "metadata": {},
     "output_type": "execute_result"
    }
   ],
   "source": [
    "metin.upper()"
   ]
  },
  {
   "cell_type": "code",
   "execution_count": 75,
   "id": "loved-writing",
   "metadata": {},
   "outputs": [
    {
     "data": {
      "text/plain": [
       "['Bugün', 'günlerden', 'Perşembe']"
      ]
     },
     "execution_count": 75,
     "metadata": {},
     "output_type": "execute_result"
    }
   ],
   "source": [
    "metin.split()"
   ]
  },
  {
   "cell_type": "code",
   "execution_count": 76,
   "id": "compliant-subscriber",
   "metadata": {},
   "outputs": [
    {
     "data": {
      "text/plain": [
       "['Bugün günlerden ', 'erşembe']"
      ]
     },
     "execution_count": 76,
     "metadata": {},
     "output_type": "execute_result"
    }
   ],
   "source": [
    "metin.split(\"P\")"
   ]
  },
  {
   "cell_type": "code",
   "execution_count": 77,
   "id": "premium-monitoring",
   "metadata": {},
   "outputs": [
    {
     "data": {
      "text/plain": [
       "{'isim': 'Yaşar', 'yas': 50}"
      ]
     },
     "execution_count": 77,
     "metadata": {},
     "output_type": "execute_result"
    }
   ],
   "source": [
    "sozluk"
   ]
  },
  {
   "cell_type": "code",
   "execution_count": 78,
   "id": "ambient-truth",
   "metadata": {},
   "outputs": [
    {
     "data": {
      "text/plain": [
       "dict_keys(['isim', 'yas'])"
      ]
     },
     "execution_count": 78,
     "metadata": {},
     "output_type": "execute_result"
    }
   ],
   "source": [
    "sozluk.keys()"
   ]
  },
  {
   "cell_type": "code",
   "execution_count": 79,
   "id": "engaging-pickup",
   "metadata": {},
   "outputs": [
    {
     "data": {
      "text/plain": [
       "['selam', 12, True, 1.6, 'Selma']"
      ]
     },
     "execution_count": 79,
     "metadata": {},
     "output_type": "execute_result"
    }
   ],
   "source": [
    "liste"
   ]
  },
  {
   "cell_type": "code",
   "execution_count": 80,
   "id": "recreational-powder",
   "metadata": {},
   "outputs": [
    {
     "data": {
      "text/plain": [
       "'Selma'"
      ]
     },
     "execution_count": 80,
     "metadata": {},
     "output_type": "execute_result"
    }
   ],
   "source": [
    "liste.pop()"
   ]
  },
  {
   "cell_type": "code",
   "execution_count": 81,
   "id": "great-skill",
   "metadata": {},
   "outputs": [
    {
     "data": {
      "text/plain": [
       "['selam', 12, True, 1.6]"
      ]
     },
     "execution_count": 81,
     "metadata": {},
     "output_type": "execute_result"
    }
   ],
   "source": [
    "liste"
   ]
  },
  {
   "cell_type": "code",
   "execution_count": 82,
   "id": "thousand-oracle",
   "metadata": {},
   "outputs": [
    {
     "data": {
      "text/plain": [
       "['selam', 12, True, 1.6]"
      ]
     },
     "execution_count": 82,
     "metadata": {},
     "output_type": "execute_result"
    }
   ],
   "source": [
    "liste"
   ]
  },
  {
   "cell_type": "code",
   "execution_count": 83,
   "id": "designed-pixel",
   "metadata": {},
   "outputs": [
    {
     "data": {
      "text/plain": [
       "True"
      ]
     },
     "execution_count": 83,
     "metadata": {},
     "output_type": "execute_result"
    }
   ],
   "source": [
    "12 in liste"
   ]
  },
  {
   "cell_type": "code",
   "execution_count": 84,
   "id": "ignored-whole",
   "metadata": {},
   "outputs": [
    {
     "data": {
      "text/plain": [
       "False"
      ]
     },
     "execution_count": 84,
     "metadata": {},
     "output_type": "execute_result"
    }
   ],
   "source": [
    "13 in liste"
   ]
  },
  {
   "cell_type": "markdown",
   "id": "supported-petroleum",
   "metadata": {},
   "source": [
    "# Pandas"
   ]
  },
  {
   "cell_type": "code",
   "execution_count": 101,
   "id": "treated-architect",
   "metadata": {},
   "outputs": [],
   "source": [
    "import numpy as np\n",
    "import pandas as pd"
   ]
  },
  {
   "cell_type": "code",
   "execution_count": 86,
   "id": "supreme-facing",
   "metadata": {},
   "outputs": [],
   "source": [
    "etiketler = ['a','b','c']"
   ]
  },
  {
   "cell_type": "code",
   "execution_count": 87,
   "id": "listed-income",
   "metadata": {},
   "outputs": [],
   "source": [
    "liste = [10, 20, 30]"
   ]
  },
  {
   "cell_type": "code",
   "execution_count": 88,
   "id": "offensive-light",
   "metadata": {},
   "outputs": [
    {
     "data": {
      "text/plain": [
       "0    10\n",
       "1    20\n",
       "2    30\n",
       "dtype: int64"
      ]
     },
     "execution_count": 88,
     "metadata": {},
     "output_type": "execute_result"
    }
   ],
   "source": [
    "pd.Series(data=liste)"
   ]
  },
  {
   "cell_type": "code",
   "execution_count": 90,
   "id": "generic-species",
   "metadata": {},
   "outputs": [
    {
     "data": {
      "text/plain": [
       "a    10\n",
       "b    20\n",
       "c    30\n",
       "dtype: int64"
      ]
     },
     "execution_count": 90,
     "metadata": {},
     "output_type": "execute_result"
    }
   ],
   "source": [
    "pd.Series(data=liste, index =etiketler)"
   ]
  },
  {
   "cell_type": "code",
   "execution_count": 91,
   "id": "behind-moisture",
   "metadata": {},
   "outputs": [],
   "source": [
    "seri = pd.Series([67, 45, 75], index=['ABD','Japonya','Çin'])"
   ]
  },
  {
   "cell_type": "code",
   "execution_count": 92,
   "id": "focal-devices",
   "metadata": {},
   "outputs": [
    {
     "name": "stdout",
     "output_type": "stream",
     "text": [
      "ABD        67\n",
      "Japonya    45\n",
      "Çin        75\n",
      "dtype: int64\n"
     ]
    }
   ],
   "source": [
    "print(seri)"
   ]
  },
  {
   "cell_type": "code",
   "execution_count": 93,
   "id": "strange-simpson",
   "metadata": {},
   "outputs": [
    {
     "data": {
      "text/plain": [
       "67"
      ]
     },
     "execution_count": 93,
     "metadata": {},
     "output_type": "execute_result"
    }
   ],
   "source": [
    "seri['ABD']"
   ]
  },
  {
   "cell_type": "code",
   "execution_count": 94,
   "id": "czech-smith",
   "metadata": {},
   "outputs": [
    {
     "data": {
      "text/plain": [
       "75"
      ]
     },
     "execution_count": 94,
     "metadata": {},
     "output_type": "execute_result"
    }
   ],
   "source": [
    "seri['Çin']"
   ]
  },
  {
   "cell_type": "markdown",
   "id": "close-distribution",
   "metadata": {},
   "source": [
    "## Dataframes"
   ]
  },
  {
   "cell_type": "code",
   "execution_count": 100,
   "id": "spectacular-compilation",
   "metadata": {},
   "outputs": [],
   "source": [
    "from numpy.random import randn"
   ]
  },
  {
   "cell_type": "code",
   "execution_count": 103,
   "id": "affected-december",
   "metadata": {},
   "outputs": [],
   "source": [
    "df = pd.DataFrame(randn(5,4), index=['A','B','C','D','E'], columns=['W','X','Y','Z'])"
   ]
  },
  {
   "cell_type": "code",
   "execution_count": 104,
   "id": "micro-spread",
   "metadata": {},
   "outputs": [
    {
     "name": "stdout",
     "output_type": "stream",
     "text": [
      "          W         X         Y         Z\n",
      "A  0.955176  0.405775 -2.141486 -0.818987\n",
      "B -0.018597  0.978104 -1.397059  0.519750\n",
      "C -0.381397 -1.232897  0.075042  0.681514\n",
      "D  0.278426  0.791482  0.220963 -0.752739\n",
      "E -0.891373  0.277331 -0.401241 -1.377744\n"
     ]
    }
   ],
   "source": [
    "print(df)"
   ]
  },
  {
   "cell_type": "code",
   "execution_count": 107,
   "id": "chief-coating",
   "metadata": {},
   "outputs": [
    {
     "data": {
      "text/html": [
       "<div>\n",
       "<style scoped>\n",
       "    .dataframe tbody tr th:only-of-type {\n",
       "        vertical-align: middle;\n",
       "    }\n",
       "\n",
       "    .dataframe tbody tr th {\n",
       "        vertical-align: top;\n",
       "    }\n",
       "\n",
       "    .dataframe thead th {\n",
       "        text-align: right;\n",
       "    }\n",
       "</style>\n",
       "<table border=\"1\" class=\"dataframe\">\n",
       "  <thead>\n",
       "    <tr style=\"text-align: right;\">\n",
       "      <th></th>\n",
       "      <th>W</th>\n",
       "      <th>X</th>\n",
       "      <th>Y</th>\n",
       "      <th>Z</th>\n",
       "    </tr>\n",
       "  </thead>\n",
       "  <tbody>\n",
       "    <tr>\n",
       "      <th>A</th>\n",
       "      <td>0.955176</td>\n",
       "      <td>0.405775</td>\n",
       "      <td>-2.141486</td>\n",
       "      <td>-0.818987</td>\n",
       "    </tr>\n",
       "    <tr>\n",
       "      <th>B</th>\n",
       "      <td>-0.018597</td>\n",
       "      <td>0.978104</td>\n",
       "      <td>-1.397059</td>\n",
       "      <td>0.519750</td>\n",
       "    </tr>\n",
       "    <tr>\n",
       "      <th>C</th>\n",
       "      <td>-0.381397</td>\n",
       "      <td>-1.232897</td>\n",
       "      <td>0.075042</td>\n",
       "      <td>0.681514</td>\n",
       "    </tr>\n",
       "    <tr>\n",
       "      <th>D</th>\n",
       "      <td>0.278426</td>\n",
       "      <td>0.791482</td>\n",
       "      <td>0.220963</td>\n",
       "      <td>-0.752739</td>\n",
       "    </tr>\n",
       "    <tr>\n",
       "      <th>E</th>\n",
       "      <td>-0.891373</td>\n",
       "      <td>0.277331</td>\n",
       "      <td>-0.401241</td>\n",
       "      <td>-1.377744</td>\n",
       "    </tr>\n",
       "  </tbody>\n",
       "</table>\n",
       "</div>"
      ],
      "text/plain": [
       "          W         X         Y         Z\n",
       "A  0.955176  0.405775 -2.141486 -0.818987\n",
       "B -0.018597  0.978104 -1.397059  0.519750\n",
       "C -0.381397 -1.232897  0.075042  0.681514\n",
       "D  0.278426  0.791482  0.220963 -0.752739\n",
       "E -0.891373  0.277331 -0.401241 -1.377744"
      ]
     },
     "execution_count": 107,
     "metadata": {},
     "output_type": "execute_result"
    }
   ],
   "source": [
    "df.head()"
   ]
  },
  {
   "cell_type": "code",
   "execution_count": 108,
   "id": "opposed-timing",
   "metadata": {},
   "outputs": [
    {
     "data": {
      "text/plain": [
       "A    0.405775\n",
       "B    0.978104\n",
       "C   -1.232897\n",
       "D    0.791482\n",
       "E    0.277331\n",
       "Name: X, dtype: float64"
      ]
     },
     "execution_count": 108,
     "metadata": {},
     "output_type": "execute_result"
    }
   ],
   "source": [
    "df['X']"
   ]
  },
  {
   "cell_type": "code",
   "execution_count": 110,
   "id": "identical-convention",
   "metadata": {},
   "outputs": [
    {
     "data": {
      "text/html": [
       "<div>\n",
       "<style scoped>\n",
       "    .dataframe tbody tr th:only-of-type {\n",
       "        vertical-align: middle;\n",
       "    }\n",
       "\n",
       "    .dataframe tbody tr th {\n",
       "        vertical-align: top;\n",
       "    }\n",
       "\n",
       "    .dataframe thead th {\n",
       "        text-align: right;\n",
       "    }\n",
       "</style>\n",
       "<table border=\"1\" class=\"dataframe\">\n",
       "  <thead>\n",
       "    <tr style=\"text-align: right;\">\n",
       "      <th></th>\n",
       "      <th>X</th>\n",
       "      <th>Z</th>\n",
       "    </tr>\n",
       "  </thead>\n",
       "  <tbody>\n",
       "    <tr>\n",
       "      <th>A</th>\n",
       "      <td>0.405775</td>\n",
       "      <td>-0.818987</td>\n",
       "    </tr>\n",
       "    <tr>\n",
       "      <th>B</th>\n",
       "      <td>0.978104</td>\n",
       "      <td>0.519750</td>\n",
       "    </tr>\n",
       "    <tr>\n",
       "      <th>C</th>\n",
       "      <td>-1.232897</td>\n",
       "      <td>0.681514</td>\n",
       "    </tr>\n",
       "    <tr>\n",
       "      <th>D</th>\n",
       "      <td>0.791482</td>\n",
       "      <td>-0.752739</td>\n",
       "    </tr>\n",
       "    <tr>\n",
       "      <th>E</th>\n",
       "      <td>0.277331</td>\n",
       "      <td>-1.377744</td>\n",
       "    </tr>\n",
       "  </tbody>\n",
       "</table>\n",
       "</div>"
      ],
      "text/plain": [
       "          X         Z\n",
       "A  0.405775 -0.818987\n",
       "B  0.978104  0.519750\n",
       "C -1.232897  0.681514\n",
       "D  0.791482 -0.752739\n",
       "E  0.277331 -1.377744"
      ]
     },
     "execution_count": 110,
     "metadata": {},
     "output_type": "execute_result"
    }
   ],
   "source": [
    "df[['X','Z']]"
   ]
  },
  {
   "cell_type": "code",
   "execution_count": 111,
   "id": "corporate-printing",
   "metadata": {},
   "outputs": [
    {
     "data": {
      "text/plain": [
       "A    0.405775\n",
       "B    0.978104\n",
       "C   -1.232897\n",
       "D    0.791482\n",
       "E    0.277331\n",
       "Name: X, dtype: float64"
      ]
     },
     "execution_count": 111,
     "metadata": {},
     "output_type": "execute_result"
    }
   ],
   "source": [
    "df.X"
   ]
  },
  {
   "cell_type": "code",
   "execution_count": 112,
   "id": "secure-black",
   "metadata": {},
   "outputs": [
    {
     "data": {
      "text/plain": [
       "pandas.core.series.Series"
      ]
     },
     "execution_count": 112,
     "metadata": {},
     "output_type": "execute_result"
    }
   ],
   "source": [
    "type(df.X)"
   ]
  },
  {
   "cell_type": "code",
   "execution_count": 113,
   "id": "annoying-negotiation",
   "metadata": {},
   "outputs": [
    {
     "data": {
      "text/plain": [
       "pandas.core.frame.DataFrame"
      ]
     },
     "execution_count": 113,
     "metadata": {},
     "output_type": "execute_result"
    }
   ],
   "source": [
    "type(df)"
   ]
  },
  {
   "cell_type": "code",
   "execution_count": 114,
   "id": "fewer-reform",
   "metadata": {},
   "outputs": [],
   "source": [
    "df['yeni']=df['X']+2*df['Z']"
   ]
  },
  {
   "cell_type": "code",
   "execution_count": 115,
   "id": "toxic-rabbit",
   "metadata": {},
   "outputs": [
    {
     "data": {
      "text/html": [
       "<div>\n",
       "<style scoped>\n",
       "    .dataframe tbody tr th:only-of-type {\n",
       "        vertical-align: middle;\n",
       "    }\n",
       "\n",
       "    .dataframe tbody tr th {\n",
       "        vertical-align: top;\n",
       "    }\n",
       "\n",
       "    .dataframe thead th {\n",
       "        text-align: right;\n",
       "    }\n",
       "</style>\n",
       "<table border=\"1\" class=\"dataframe\">\n",
       "  <thead>\n",
       "    <tr style=\"text-align: right;\">\n",
       "      <th></th>\n",
       "      <th>W</th>\n",
       "      <th>X</th>\n",
       "      <th>Y</th>\n",
       "      <th>Z</th>\n",
       "      <th>yeni</th>\n",
       "    </tr>\n",
       "  </thead>\n",
       "  <tbody>\n",
       "    <tr>\n",
       "      <th>A</th>\n",
       "      <td>0.955176</td>\n",
       "      <td>0.405775</td>\n",
       "      <td>-2.141486</td>\n",
       "      <td>-0.818987</td>\n",
       "      <td>-1.232198</td>\n",
       "    </tr>\n",
       "    <tr>\n",
       "      <th>B</th>\n",
       "      <td>-0.018597</td>\n",
       "      <td>0.978104</td>\n",
       "      <td>-1.397059</td>\n",
       "      <td>0.519750</td>\n",
       "      <td>2.017604</td>\n",
       "    </tr>\n",
       "    <tr>\n",
       "      <th>C</th>\n",
       "      <td>-0.381397</td>\n",
       "      <td>-1.232897</td>\n",
       "      <td>0.075042</td>\n",
       "      <td>0.681514</td>\n",
       "      <td>0.130131</td>\n",
       "    </tr>\n",
       "    <tr>\n",
       "      <th>D</th>\n",
       "      <td>0.278426</td>\n",
       "      <td>0.791482</td>\n",
       "      <td>0.220963</td>\n",
       "      <td>-0.752739</td>\n",
       "      <td>-0.713996</td>\n",
       "    </tr>\n",
       "    <tr>\n",
       "      <th>E</th>\n",
       "      <td>-0.891373</td>\n",
       "      <td>0.277331</td>\n",
       "      <td>-0.401241</td>\n",
       "      <td>-1.377744</td>\n",
       "      <td>-2.478156</td>\n",
       "    </tr>\n",
       "  </tbody>\n",
       "</table>\n",
       "</div>"
      ],
      "text/plain": [
       "          W         X         Y         Z      yeni\n",
       "A  0.955176  0.405775 -2.141486 -0.818987 -1.232198\n",
       "B -0.018597  0.978104 -1.397059  0.519750  2.017604\n",
       "C -0.381397 -1.232897  0.075042  0.681514  0.130131\n",
       "D  0.278426  0.791482  0.220963 -0.752739 -0.713996\n",
       "E -0.891373  0.277331 -0.401241 -1.377744 -2.478156"
      ]
     },
     "execution_count": 115,
     "metadata": {},
     "output_type": "execute_result"
    }
   ],
   "source": [
    "df.head()"
   ]
  },
  {
   "cell_type": "code",
   "execution_count": 116,
   "id": "positive-canadian",
   "metadata": {},
   "outputs": [],
   "source": [
    "df['kontrol']=df['W'] > df['Y']"
   ]
  },
  {
   "cell_type": "code",
   "execution_count": 117,
   "id": "regular-crown",
   "metadata": {},
   "outputs": [
    {
     "data": {
      "text/html": [
       "<div>\n",
       "<style scoped>\n",
       "    .dataframe tbody tr th:only-of-type {\n",
       "        vertical-align: middle;\n",
       "    }\n",
       "\n",
       "    .dataframe tbody tr th {\n",
       "        vertical-align: top;\n",
       "    }\n",
       "\n",
       "    .dataframe thead th {\n",
       "        text-align: right;\n",
       "    }\n",
       "</style>\n",
       "<table border=\"1\" class=\"dataframe\">\n",
       "  <thead>\n",
       "    <tr style=\"text-align: right;\">\n",
       "      <th></th>\n",
       "      <th>W</th>\n",
       "      <th>X</th>\n",
       "      <th>Y</th>\n",
       "      <th>Z</th>\n",
       "      <th>yeni</th>\n",
       "      <th>kontrol</th>\n",
       "    </tr>\n",
       "  </thead>\n",
       "  <tbody>\n",
       "    <tr>\n",
       "      <th>A</th>\n",
       "      <td>0.955176</td>\n",
       "      <td>0.405775</td>\n",
       "      <td>-2.141486</td>\n",
       "      <td>-0.818987</td>\n",
       "      <td>-1.232198</td>\n",
       "      <td>True</td>\n",
       "    </tr>\n",
       "    <tr>\n",
       "      <th>B</th>\n",
       "      <td>-0.018597</td>\n",
       "      <td>0.978104</td>\n",
       "      <td>-1.397059</td>\n",
       "      <td>0.519750</td>\n",
       "      <td>2.017604</td>\n",
       "      <td>True</td>\n",
       "    </tr>\n",
       "    <tr>\n",
       "      <th>C</th>\n",
       "      <td>-0.381397</td>\n",
       "      <td>-1.232897</td>\n",
       "      <td>0.075042</td>\n",
       "      <td>0.681514</td>\n",
       "      <td>0.130131</td>\n",
       "      <td>False</td>\n",
       "    </tr>\n",
       "    <tr>\n",
       "      <th>D</th>\n",
       "      <td>0.278426</td>\n",
       "      <td>0.791482</td>\n",
       "      <td>0.220963</td>\n",
       "      <td>-0.752739</td>\n",
       "      <td>-0.713996</td>\n",
       "      <td>True</td>\n",
       "    </tr>\n",
       "    <tr>\n",
       "      <th>E</th>\n",
       "      <td>-0.891373</td>\n",
       "      <td>0.277331</td>\n",
       "      <td>-0.401241</td>\n",
       "      <td>-1.377744</td>\n",
       "      <td>-2.478156</td>\n",
       "      <td>False</td>\n",
       "    </tr>\n",
       "  </tbody>\n",
       "</table>\n",
       "</div>"
      ],
      "text/plain": [
       "          W         X         Y         Z      yeni  kontrol\n",
       "A  0.955176  0.405775 -2.141486 -0.818987 -1.232198     True\n",
       "B -0.018597  0.978104 -1.397059  0.519750  2.017604     True\n",
       "C -0.381397 -1.232897  0.075042  0.681514  0.130131    False\n",
       "D  0.278426  0.791482  0.220963 -0.752739 -0.713996     True\n",
       "E -0.891373  0.277331 -0.401241 -1.377744 -2.478156    False"
      ]
     },
     "execution_count": 117,
     "metadata": {},
     "output_type": "execute_result"
    }
   ],
   "source": [
    "df.head()"
   ]
  },
  {
   "cell_type": "code",
   "execution_count": 118,
   "id": "fuzzy-chuck",
   "metadata": {},
   "outputs": [
    {
     "data": {
      "text/html": [
       "<div>\n",
       "<style scoped>\n",
       "    .dataframe tbody tr th:only-of-type {\n",
       "        vertical-align: middle;\n",
       "    }\n",
       "\n",
       "    .dataframe tbody tr th {\n",
       "        vertical-align: top;\n",
       "    }\n",
       "\n",
       "    .dataframe thead th {\n",
       "        text-align: right;\n",
       "    }\n",
       "</style>\n",
       "<table border=\"1\" class=\"dataframe\">\n",
       "  <thead>\n",
       "    <tr style=\"text-align: right;\">\n",
       "      <th></th>\n",
       "      <th>W</th>\n",
       "      <th>X</th>\n",
       "      <th>Y</th>\n",
       "      <th>Z</th>\n",
       "      <th>kontrol</th>\n",
       "    </tr>\n",
       "  </thead>\n",
       "  <tbody>\n",
       "    <tr>\n",
       "      <th>A</th>\n",
       "      <td>0.955176</td>\n",
       "      <td>0.405775</td>\n",
       "      <td>-2.141486</td>\n",
       "      <td>-0.818987</td>\n",
       "      <td>True</td>\n",
       "    </tr>\n",
       "    <tr>\n",
       "      <th>B</th>\n",
       "      <td>-0.018597</td>\n",
       "      <td>0.978104</td>\n",
       "      <td>-1.397059</td>\n",
       "      <td>0.519750</td>\n",
       "      <td>True</td>\n",
       "    </tr>\n",
       "    <tr>\n",
       "      <th>C</th>\n",
       "      <td>-0.381397</td>\n",
       "      <td>-1.232897</td>\n",
       "      <td>0.075042</td>\n",
       "      <td>0.681514</td>\n",
       "      <td>False</td>\n",
       "    </tr>\n",
       "    <tr>\n",
       "      <th>D</th>\n",
       "      <td>0.278426</td>\n",
       "      <td>0.791482</td>\n",
       "      <td>0.220963</td>\n",
       "      <td>-0.752739</td>\n",
       "      <td>True</td>\n",
       "    </tr>\n",
       "    <tr>\n",
       "      <th>E</th>\n",
       "      <td>-0.891373</td>\n",
       "      <td>0.277331</td>\n",
       "      <td>-0.401241</td>\n",
       "      <td>-1.377744</td>\n",
       "      <td>False</td>\n",
       "    </tr>\n",
       "  </tbody>\n",
       "</table>\n",
       "</div>"
      ],
      "text/plain": [
       "          W         X         Y         Z  kontrol\n",
       "A  0.955176  0.405775 -2.141486 -0.818987     True\n",
       "B -0.018597  0.978104 -1.397059  0.519750     True\n",
       "C -0.381397 -1.232897  0.075042  0.681514    False\n",
       "D  0.278426  0.791482  0.220963 -0.752739     True\n",
       "E -0.891373  0.277331 -0.401241 -1.377744    False"
      ]
     },
     "execution_count": 118,
     "metadata": {},
     "output_type": "execute_result"
    }
   ],
   "source": [
    "df.drop('yeni',axis=1)"
   ]
  },
  {
   "cell_type": "code",
   "execution_count": 119,
   "id": "measured-purchase",
   "metadata": {},
   "outputs": [
    {
     "data": {
      "text/html": [
       "<div>\n",
       "<style scoped>\n",
       "    .dataframe tbody tr th:only-of-type {\n",
       "        vertical-align: middle;\n",
       "    }\n",
       "\n",
       "    .dataframe tbody tr th {\n",
       "        vertical-align: top;\n",
       "    }\n",
       "\n",
       "    .dataframe thead th {\n",
       "        text-align: right;\n",
       "    }\n",
       "</style>\n",
       "<table border=\"1\" class=\"dataframe\">\n",
       "  <thead>\n",
       "    <tr style=\"text-align: right;\">\n",
       "      <th></th>\n",
       "      <th>W</th>\n",
       "      <th>X</th>\n",
       "      <th>Y</th>\n",
       "      <th>Z</th>\n",
       "      <th>yeni</th>\n",
       "      <th>kontrol</th>\n",
       "    </tr>\n",
       "  </thead>\n",
       "  <tbody>\n",
       "    <tr>\n",
       "      <th>A</th>\n",
       "      <td>0.955176</td>\n",
       "      <td>0.405775</td>\n",
       "      <td>-2.141486</td>\n",
       "      <td>-0.818987</td>\n",
       "      <td>-1.232198</td>\n",
       "      <td>True</td>\n",
       "    </tr>\n",
       "    <tr>\n",
       "      <th>B</th>\n",
       "      <td>-0.018597</td>\n",
       "      <td>0.978104</td>\n",
       "      <td>-1.397059</td>\n",
       "      <td>0.519750</td>\n",
       "      <td>2.017604</td>\n",
       "      <td>True</td>\n",
       "    </tr>\n",
       "    <tr>\n",
       "      <th>C</th>\n",
       "      <td>-0.381397</td>\n",
       "      <td>-1.232897</td>\n",
       "      <td>0.075042</td>\n",
       "      <td>0.681514</td>\n",
       "      <td>0.130131</td>\n",
       "      <td>False</td>\n",
       "    </tr>\n",
       "    <tr>\n",
       "      <th>D</th>\n",
       "      <td>0.278426</td>\n",
       "      <td>0.791482</td>\n",
       "      <td>0.220963</td>\n",
       "      <td>-0.752739</td>\n",
       "      <td>-0.713996</td>\n",
       "      <td>True</td>\n",
       "    </tr>\n",
       "    <tr>\n",
       "      <th>E</th>\n",
       "      <td>-0.891373</td>\n",
       "      <td>0.277331</td>\n",
       "      <td>-0.401241</td>\n",
       "      <td>-1.377744</td>\n",
       "      <td>-2.478156</td>\n",
       "      <td>False</td>\n",
       "    </tr>\n",
       "  </tbody>\n",
       "</table>\n",
       "</div>"
      ],
      "text/plain": [
       "          W         X         Y         Z      yeni  kontrol\n",
       "A  0.955176  0.405775 -2.141486 -0.818987 -1.232198     True\n",
       "B -0.018597  0.978104 -1.397059  0.519750  2.017604     True\n",
       "C -0.381397 -1.232897  0.075042  0.681514  0.130131    False\n",
       "D  0.278426  0.791482  0.220963 -0.752739 -0.713996     True\n",
       "E -0.891373  0.277331 -0.401241 -1.377744 -2.478156    False"
      ]
     },
     "execution_count": 119,
     "metadata": {},
     "output_type": "execute_result"
    }
   ],
   "source": [
    "df"
   ]
  },
  {
   "cell_type": "code",
   "execution_count": 120,
   "id": "specific-melbourne",
   "metadata": {},
   "outputs": [],
   "source": [
    "df.drop('yeni',axis=1, inplace=True)"
   ]
  },
  {
   "cell_type": "code",
   "execution_count": 121,
   "id": "responsible-disney",
   "metadata": {},
   "outputs": [
    {
     "data": {
      "text/html": [
       "<div>\n",
       "<style scoped>\n",
       "    .dataframe tbody tr th:only-of-type {\n",
       "        vertical-align: middle;\n",
       "    }\n",
       "\n",
       "    .dataframe tbody tr th {\n",
       "        vertical-align: top;\n",
       "    }\n",
       "\n",
       "    .dataframe thead th {\n",
       "        text-align: right;\n",
       "    }\n",
       "</style>\n",
       "<table border=\"1\" class=\"dataframe\">\n",
       "  <thead>\n",
       "    <tr style=\"text-align: right;\">\n",
       "      <th></th>\n",
       "      <th>W</th>\n",
       "      <th>X</th>\n",
       "      <th>Y</th>\n",
       "      <th>Z</th>\n",
       "      <th>kontrol</th>\n",
       "    </tr>\n",
       "  </thead>\n",
       "  <tbody>\n",
       "    <tr>\n",
       "      <th>A</th>\n",
       "      <td>0.955176</td>\n",
       "      <td>0.405775</td>\n",
       "      <td>-2.141486</td>\n",
       "      <td>-0.818987</td>\n",
       "      <td>True</td>\n",
       "    </tr>\n",
       "    <tr>\n",
       "      <th>B</th>\n",
       "      <td>-0.018597</td>\n",
       "      <td>0.978104</td>\n",
       "      <td>-1.397059</td>\n",
       "      <td>0.519750</td>\n",
       "      <td>True</td>\n",
       "    </tr>\n",
       "    <tr>\n",
       "      <th>C</th>\n",
       "      <td>-0.381397</td>\n",
       "      <td>-1.232897</td>\n",
       "      <td>0.075042</td>\n",
       "      <td>0.681514</td>\n",
       "      <td>False</td>\n",
       "    </tr>\n",
       "    <tr>\n",
       "      <th>D</th>\n",
       "      <td>0.278426</td>\n",
       "      <td>0.791482</td>\n",
       "      <td>0.220963</td>\n",
       "      <td>-0.752739</td>\n",
       "      <td>True</td>\n",
       "    </tr>\n",
       "    <tr>\n",
       "      <th>E</th>\n",
       "      <td>-0.891373</td>\n",
       "      <td>0.277331</td>\n",
       "      <td>-0.401241</td>\n",
       "      <td>-1.377744</td>\n",
       "      <td>False</td>\n",
       "    </tr>\n",
       "  </tbody>\n",
       "</table>\n",
       "</div>"
      ],
      "text/plain": [
       "          W         X         Y         Z  kontrol\n",
       "A  0.955176  0.405775 -2.141486 -0.818987     True\n",
       "B -0.018597  0.978104 -1.397059  0.519750     True\n",
       "C -0.381397 -1.232897  0.075042  0.681514    False\n",
       "D  0.278426  0.791482  0.220963 -0.752739     True\n",
       "E -0.891373  0.277331 -0.401241 -1.377744    False"
      ]
     },
     "execution_count": 121,
     "metadata": {},
     "output_type": "execute_result"
    }
   ],
   "source": [
    "df"
   ]
  },
  {
   "cell_type": "code",
   "execution_count": 122,
   "id": "toxic-secretariat",
   "metadata": {},
   "outputs": [
    {
     "data": {
      "text/html": [
       "<div>\n",
       "<style scoped>\n",
       "    .dataframe tbody tr th:only-of-type {\n",
       "        vertical-align: middle;\n",
       "    }\n",
       "\n",
       "    .dataframe tbody tr th {\n",
       "        vertical-align: top;\n",
       "    }\n",
       "\n",
       "    .dataframe thead th {\n",
       "        text-align: right;\n",
       "    }\n",
       "</style>\n",
       "<table border=\"1\" class=\"dataframe\">\n",
       "  <thead>\n",
       "    <tr style=\"text-align: right;\">\n",
       "      <th></th>\n",
       "      <th>W</th>\n",
       "      <th>X</th>\n",
       "      <th>Y</th>\n",
       "      <th>Z</th>\n",
       "      <th>kontrol</th>\n",
       "    </tr>\n",
       "  </thead>\n",
       "  <tbody>\n",
       "    <tr>\n",
       "      <th>A</th>\n",
       "      <td>0.955176</td>\n",
       "      <td>0.405775</td>\n",
       "      <td>-2.141486</td>\n",
       "      <td>-0.818987</td>\n",
       "      <td>True</td>\n",
       "    </tr>\n",
       "    <tr>\n",
       "      <th>B</th>\n",
       "      <td>-0.018597</td>\n",
       "      <td>0.978104</td>\n",
       "      <td>-1.397059</td>\n",
       "      <td>0.519750</td>\n",
       "      <td>True</td>\n",
       "    </tr>\n",
       "    <tr>\n",
       "      <th>D</th>\n",
       "      <td>0.278426</td>\n",
       "      <td>0.791482</td>\n",
       "      <td>0.220963</td>\n",
       "      <td>-0.752739</td>\n",
       "      <td>True</td>\n",
       "    </tr>\n",
       "    <tr>\n",
       "      <th>E</th>\n",
       "      <td>-0.891373</td>\n",
       "      <td>0.277331</td>\n",
       "      <td>-0.401241</td>\n",
       "      <td>-1.377744</td>\n",
       "      <td>False</td>\n",
       "    </tr>\n",
       "  </tbody>\n",
       "</table>\n",
       "</div>"
      ],
      "text/plain": [
       "          W         X         Y         Z  kontrol\n",
       "A  0.955176  0.405775 -2.141486 -0.818987     True\n",
       "B -0.018597  0.978104 -1.397059  0.519750     True\n",
       "D  0.278426  0.791482  0.220963 -0.752739     True\n",
       "E -0.891373  0.277331 -0.401241 -1.377744    False"
      ]
     },
     "execution_count": 122,
     "metadata": {},
     "output_type": "execute_result"
    }
   ],
   "source": [
    "df.drop('C',axis=0)"
   ]
  },
  {
   "cell_type": "code",
   "execution_count": 123,
   "id": "subsequent-palace",
   "metadata": {},
   "outputs": [
    {
     "data": {
      "text/html": [
       "<div>\n",
       "<style scoped>\n",
       "    .dataframe tbody tr th:only-of-type {\n",
       "        vertical-align: middle;\n",
       "    }\n",
       "\n",
       "    .dataframe tbody tr th {\n",
       "        vertical-align: top;\n",
       "    }\n",
       "\n",
       "    .dataframe thead th {\n",
       "        text-align: right;\n",
       "    }\n",
       "</style>\n",
       "<table border=\"1\" class=\"dataframe\">\n",
       "  <thead>\n",
       "    <tr style=\"text-align: right;\">\n",
       "      <th></th>\n",
       "      <th>W</th>\n",
       "      <th>X</th>\n",
       "      <th>Y</th>\n",
       "      <th>Z</th>\n",
       "      <th>kontrol</th>\n",
       "    </tr>\n",
       "  </thead>\n",
       "  <tbody>\n",
       "    <tr>\n",
       "      <th>A</th>\n",
       "      <td>0.955176</td>\n",
       "      <td>0.405775</td>\n",
       "      <td>-2.141486</td>\n",
       "      <td>-0.818987</td>\n",
       "      <td>True</td>\n",
       "    </tr>\n",
       "    <tr>\n",
       "      <th>B</th>\n",
       "      <td>-0.018597</td>\n",
       "      <td>0.978104</td>\n",
       "      <td>-1.397059</td>\n",
       "      <td>0.519750</td>\n",
       "      <td>True</td>\n",
       "    </tr>\n",
       "    <tr>\n",
       "      <th>C</th>\n",
       "      <td>-0.381397</td>\n",
       "      <td>-1.232897</td>\n",
       "      <td>0.075042</td>\n",
       "      <td>0.681514</td>\n",
       "      <td>False</td>\n",
       "    </tr>\n",
       "    <tr>\n",
       "      <th>D</th>\n",
       "      <td>0.278426</td>\n",
       "      <td>0.791482</td>\n",
       "      <td>0.220963</td>\n",
       "      <td>-0.752739</td>\n",
       "      <td>True</td>\n",
       "    </tr>\n",
       "    <tr>\n",
       "      <th>E</th>\n",
       "      <td>-0.891373</td>\n",
       "      <td>0.277331</td>\n",
       "      <td>-0.401241</td>\n",
       "      <td>-1.377744</td>\n",
       "      <td>False</td>\n",
       "    </tr>\n",
       "  </tbody>\n",
       "</table>\n",
       "</div>"
      ],
      "text/plain": [
       "          W         X         Y         Z  kontrol\n",
       "A  0.955176  0.405775 -2.141486 -0.818987     True\n",
       "B -0.018597  0.978104 -1.397059  0.519750     True\n",
       "C -0.381397 -1.232897  0.075042  0.681514    False\n",
       "D  0.278426  0.791482  0.220963 -0.752739     True\n",
       "E -0.891373  0.277331 -0.401241 -1.377744    False"
      ]
     },
     "execution_count": 123,
     "metadata": {},
     "output_type": "execute_result"
    }
   ],
   "source": [
    "df"
   ]
  },
  {
   "cell_type": "code",
   "execution_count": 124,
   "id": "necessary-warehouse",
   "metadata": {},
   "outputs": [],
   "source": [
    "df.drop('C',axis=0,inplace=True)"
   ]
  },
  {
   "cell_type": "code",
   "execution_count": 125,
   "id": "exciting-information",
   "metadata": {},
   "outputs": [
    {
     "data": {
      "text/html": [
       "<div>\n",
       "<style scoped>\n",
       "    .dataframe tbody tr th:only-of-type {\n",
       "        vertical-align: middle;\n",
       "    }\n",
       "\n",
       "    .dataframe tbody tr th {\n",
       "        vertical-align: top;\n",
       "    }\n",
       "\n",
       "    .dataframe thead th {\n",
       "        text-align: right;\n",
       "    }\n",
       "</style>\n",
       "<table border=\"1\" class=\"dataframe\">\n",
       "  <thead>\n",
       "    <tr style=\"text-align: right;\">\n",
       "      <th></th>\n",
       "      <th>W</th>\n",
       "      <th>X</th>\n",
       "      <th>Y</th>\n",
       "      <th>Z</th>\n",
       "      <th>kontrol</th>\n",
       "    </tr>\n",
       "  </thead>\n",
       "  <tbody>\n",
       "    <tr>\n",
       "      <th>A</th>\n",
       "      <td>0.955176</td>\n",
       "      <td>0.405775</td>\n",
       "      <td>-2.141486</td>\n",
       "      <td>-0.818987</td>\n",
       "      <td>True</td>\n",
       "    </tr>\n",
       "    <tr>\n",
       "      <th>B</th>\n",
       "      <td>-0.018597</td>\n",
       "      <td>0.978104</td>\n",
       "      <td>-1.397059</td>\n",
       "      <td>0.519750</td>\n",
       "      <td>True</td>\n",
       "    </tr>\n",
       "    <tr>\n",
       "      <th>D</th>\n",
       "      <td>0.278426</td>\n",
       "      <td>0.791482</td>\n",
       "      <td>0.220963</td>\n",
       "      <td>-0.752739</td>\n",
       "      <td>True</td>\n",
       "    </tr>\n",
       "    <tr>\n",
       "      <th>E</th>\n",
       "      <td>-0.891373</td>\n",
       "      <td>0.277331</td>\n",
       "      <td>-0.401241</td>\n",
       "      <td>-1.377744</td>\n",
       "      <td>False</td>\n",
       "    </tr>\n",
       "  </tbody>\n",
       "</table>\n",
       "</div>"
      ],
      "text/plain": [
       "          W         X         Y         Z  kontrol\n",
       "A  0.955176  0.405775 -2.141486 -0.818987     True\n",
       "B -0.018597  0.978104 -1.397059  0.519750     True\n",
       "D  0.278426  0.791482  0.220963 -0.752739     True\n",
       "E -0.891373  0.277331 -0.401241 -1.377744    False"
      ]
     },
     "execution_count": 125,
     "metadata": {},
     "output_type": "execute_result"
    }
   ],
   "source": [
    "df"
   ]
  },
  {
   "cell_type": "code",
   "execution_count": 126,
   "id": "latter-rebate",
   "metadata": {},
   "outputs": [],
   "source": [
    "df.drop('kontrol',axis=1,inplace=True)"
   ]
  },
  {
   "cell_type": "code",
   "execution_count": 127,
   "id": "shaped-baking",
   "metadata": {},
   "outputs": [
    {
     "data": {
      "text/html": [
       "<div>\n",
       "<style scoped>\n",
       "    .dataframe tbody tr th:only-of-type {\n",
       "        vertical-align: middle;\n",
       "    }\n",
       "\n",
       "    .dataframe tbody tr th {\n",
       "        vertical-align: top;\n",
       "    }\n",
       "\n",
       "    .dataframe thead th {\n",
       "        text-align: right;\n",
       "    }\n",
       "</style>\n",
       "<table border=\"1\" class=\"dataframe\">\n",
       "  <thead>\n",
       "    <tr style=\"text-align: right;\">\n",
       "      <th></th>\n",
       "      <th>W</th>\n",
       "      <th>X</th>\n",
       "      <th>Y</th>\n",
       "      <th>Z</th>\n",
       "    </tr>\n",
       "  </thead>\n",
       "  <tbody>\n",
       "    <tr>\n",
       "      <th>A</th>\n",
       "      <td>0.955176</td>\n",
       "      <td>0.405775</td>\n",
       "      <td>-2.141486</td>\n",
       "      <td>-0.818987</td>\n",
       "    </tr>\n",
       "    <tr>\n",
       "      <th>B</th>\n",
       "      <td>-0.018597</td>\n",
       "      <td>0.978104</td>\n",
       "      <td>-1.397059</td>\n",
       "      <td>0.519750</td>\n",
       "    </tr>\n",
       "    <tr>\n",
       "      <th>D</th>\n",
       "      <td>0.278426</td>\n",
       "      <td>0.791482</td>\n",
       "      <td>0.220963</td>\n",
       "      <td>-0.752739</td>\n",
       "    </tr>\n",
       "    <tr>\n",
       "      <th>E</th>\n",
       "      <td>-0.891373</td>\n",
       "      <td>0.277331</td>\n",
       "      <td>-0.401241</td>\n",
       "      <td>-1.377744</td>\n",
       "    </tr>\n",
       "  </tbody>\n",
       "</table>\n",
       "</div>"
      ],
      "text/plain": [
       "          W         X         Y         Z\n",
       "A  0.955176  0.405775 -2.141486 -0.818987\n",
       "B -0.018597  0.978104 -1.397059  0.519750\n",
       "D  0.278426  0.791482  0.220963 -0.752739\n",
       "E -0.891373  0.277331 -0.401241 -1.377744"
      ]
     },
     "execution_count": 127,
     "metadata": {},
     "output_type": "execute_result"
    }
   ],
   "source": [
    "df"
   ]
  },
  {
   "cell_type": "code",
   "execution_count": 128,
   "id": "generic-night",
   "metadata": {},
   "outputs": [
    {
     "data": {
      "text/plain": [
       "W    0.955176\n",
       "X    0.405775\n",
       "Y   -2.141486\n",
       "Z   -0.818987\n",
       "Name: A, dtype: float64"
      ]
     },
     "execution_count": 128,
     "metadata": {},
     "output_type": "execute_result"
    }
   ],
   "source": [
    "df.loc['A']"
   ]
  },
  {
   "cell_type": "code",
   "execution_count": 129,
   "id": "welsh-japan",
   "metadata": {},
   "outputs": [
    {
     "data": {
      "text/plain": [
       "W    0.955176\n",
       "X    0.405775\n",
       "Y   -2.141486\n",
       "Z   -0.818987\n",
       "Name: A, dtype: float64"
      ]
     },
     "execution_count": 129,
     "metadata": {},
     "output_type": "execute_result"
    }
   ],
   "source": [
    "df.iloc[0]"
   ]
  },
  {
   "cell_type": "code",
   "execution_count": 131,
   "id": "vulnerable-science",
   "metadata": {},
   "outputs": [
    {
     "data": {
      "text/html": [
       "<div>\n",
       "<style scoped>\n",
       "    .dataframe tbody tr th:only-of-type {\n",
       "        vertical-align: middle;\n",
       "    }\n",
       "\n",
       "    .dataframe tbody tr th {\n",
       "        vertical-align: top;\n",
       "    }\n",
       "\n",
       "    .dataframe thead th {\n",
       "        text-align: right;\n",
       "    }\n",
       "</style>\n",
       "<table border=\"1\" class=\"dataframe\">\n",
       "  <thead>\n",
       "    <tr style=\"text-align: right;\">\n",
       "      <th></th>\n",
       "      <th>W</th>\n",
       "      <th>X</th>\n",
       "      <th>Y</th>\n",
       "      <th>Z</th>\n",
       "    </tr>\n",
       "  </thead>\n",
       "  <tbody>\n",
       "    <tr>\n",
       "      <th>A</th>\n",
       "      <td>0.955176</td>\n",
       "      <td>0.405775</td>\n",
       "      <td>-2.141486</td>\n",
       "      <td>-0.818987</td>\n",
       "    </tr>\n",
       "    <tr>\n",
       "      <th>E</th>\n",
       "      <td>-0.891373</td>\n",
       "      <td>0.277331</td>\n",
       "      <td>-0.401241</td>\n",
       "      <td>-1.377744</td>\n",
       "    </tr>\n",
       "  </tbody>\n",
       "</table>\n",
       "</div>"
      ],
      "text/plain": [
       "          W         X         Y         Z\n",
       "A  0.955176  0.405775 -2.141486 -0.818987\n",
       "E -0.891373  0.277331 -0.401241 -1.377744"
      ]
     },
     "execution_count": 131,
     "metadata": {},
     "output_type": "execute_result"
    }
   ],
   "source": [
    "df.loc[['A','E']]"
   ]
  },
  {
   "cell_type": "code",
   "execution_count": 135,
   "id": "furnished-morocco",
   "metadata": {},
   "outputs": [
    {
     "data": {
      "text/html": [
       "<div>\n",
       "<style scoped>\n",
       "    .dataframe tbody tr th:only-of-type {\n",
       "        vertical-align: middle;\n",
       "    }\n",
       "\n",
       "    .dataframe tbody tr th {\n",
       "        vertical-align: top;\n",
       "    }\n",
       "\n",
       "    .dataframe thead th {\n",
       "        text-align: right;\n",
       "    }\n",
       "</style>\n",
       "<table border=\"1\" class=\"dataframe\">\n",
       "  <thead>\n",
       "    <tr style=\"text-align: right;\">\n",
       "      <th></th>\n",
       "      <th>W</th>\n",
       "      <th>X</th>\n",
       "      <th>Y</th>\n",
       "      <th>Z</th>\n",
       "    </tr>\n",
       "  </thead>\n",
       "  <tbody>\n",
       "    <tr>\n",
       "      <th>A</th>\n",
       "      <td>0.955176</td>\n",
       "      <td>0.405775</td>\n",
       "      <td>-2.141486</td>\n",
       "      <td>-0.818987</td>\n",
       "    </tr>\n",
       "    <tr>\n",
       "      <th>D</th>\n",
       "      <td>0.278426</td>\n",
       "      <td>0.791482</td>\n",
       "      <td>0.220963</td>\n",
       "      <td>-0.752739</td>\n",
       "    </tr>\n",
       "  </tbody>\n",
       "</table>\n",
       "</div>"
      ],
      "text/plain": [
       "          W         X         Y         Z\n",
       "A  0.955176  0.405775 -2.141486 -0.818987\n",
       "D  0.278426  0.791482  0.220963 -0.752739"
      ]
     },
     "execution_count": 135,
     "metadata": {},
     "output_type": "execute_result"
    }
   ],
   "source": [
    "df[df['W']>0]"
   ]
  },
  {
   "cell_type": "code",
   "execution_count": 137,
   "id": "collected-hamilton",
   "metadata": {},
   "outputs": [
    {
     "data": {
      "text/html": [
       "<div>\n",
       "<style scoped>\n",
       "    .dataframe tbody tr th:only-of-type {\n",
       "        vertical-align: middle;\n",
       "    }\n",
       "\n",
       "    .dataframe tbody tr th {\n",
       "        vertical-align: top;\n",
       "    }\n",
       "\n",
       "    .dataframe thead th {\n",
       "        text-align: right;\n",
       "    }\n",
       "</style>\n",
       "<table border=\"1\" class=\"dataframe\">\n",
       "  <thead>\n",
       "    <tr style=\"text-align: right;\">\n",
       "      <th></th>\n",
       "      <th>W</th>\n",
       "      <th>X</th>\n",
       "      <th>Y</th>\n",
       "      <th>Z</th>\n",
       "    </tr>\n",
       "  </thead>\n",
       "  <tbody>\n",
       "    <tr>\n",
       "      <th>D</th>\n",
       "      <td>0.278426</td>\n",
       "      <td>0.791482</td>\n",
       "      <td>0.220963</td>\n",
       "      <td>-0.752739</td>\n",
       "    </tr>\n",
       "  </tbody>\n",
       "</table>\n",
       "</div>"
      ],
      "text/plain": [
       "          W         X         Y         Z\n",
       "D  0.278426  0.791482  0.220963 -0.752739"
      ]
     },
     "execution_count": 137,
     "metadata": {},
     "output_type": "execute_result"
    }
   ],
   "source": [
    "df[(df['W']>0) & (df['Y']>0)]"
   ]
  },
  {
   "cell_type": "code",
   "execution_count": 138,
   "id": "pointed-texture",
   "metadata": {},
   "outputs": [
    {
     "data": {
      "text/html": [
       "<div>\n",
       "<style scoped>\n",
       "    .dataframe tbody tr th:only-of-type {\n",
       "        vertical-align: middle;\n",
       "    }\n",
       "\n",
       "    .dataframe tbody tr th {\n",
       "        vertical-align: top;\n",
       "    }\n",
       "\n",
       "    .dataframe thead th {\n",
       "        text-align: right;\n",
       "    }\n",
       "</style>\n",
       "<table border=\"1\" class=\"dataframe\">\n",
       "  <thead>\n",
       "    <tr style=\"text-align: right;\">\n",
       "      <th></th>\n",
       "      <th>W</th>\n",
       "      <th>X</th>\n",
       "      <th>Y</th>\n",
       "      <th>Z</th>\n",
       "    </tr>\n",
       "  </thead>\n",
       "  <tbody>\n",
       "    <tr>\n",
       "      <th>A</th>\n",
       "      <td>0.955176</td>\n",
       "      <td>0.405775</td>\n",
       "      <td>-2.141486</td>\n",
       "      <td>-0.818987</td>\n",
       "    </tr>\n",
       "    <tr>\n",
       "      <th>B</th>\n",
       "      <td>-0.018597</td>\n",
       "      <td>0.978104</td>\n",
       "      <td>-1.397059</td>\n",
       "      <td>0.519750</td>\n",
       "    </tr>\n",
       "    <tr>\n",
       "      <th>D</th>\n",
       "      <td>0.278426</td>\n",
       "      <td>0.791482</td>\n",
       "      <td>0.220963</td>\n",
       "      <td>-0.752739</td>\n",
       "    </tr>\n",
       "    <tr>\n",
       "      <th>E</th>\n",
       "      <td>-0.891373</td>\n",
       "      <td>0.277331</td>\n",
       "      <td>-0.401241</td>\n",
       "      <td>-1.377744</td>\n",
       "    </tr>\n",
       "  </tbody>\n",
       "</table>\n",
       "</div>"
      ],
      "text/plain": [
       "          W         X         Y         Z\n",
       "A  0.955176  0.405775 -2.141486 -0.818987\n",
       "B -0.018597  0.978104 -1.397059  0.519750\n",
       "D  0.278426  0.791482  0.220963 -0.752739\n",
       "E -0.891373  0.277331 -0.401241 -1.377744"
      ]
     },
     "execution_count": 138,
     "metadata": {},
     "output_type": "execute_result"
    }
   ],
   "source": [
    "df"
   ]
  },
  {
   "cell_type": "code",
   "execution_count": 139,
   "id": "differential-summer",
   "metadata": {},
   "outputs": [
    {
     "data": {
      "text/html": [
       "<div>\n",
       "<style scoped>\n",
       "    .dataframe tbody tr th:only-of-type {\n",
       "        vertical-align: middle;\n",
       "    }\n",
       "\n",
       "    .dataframe tbody tr th {\n",
       "        vertical-align: top;\n",
       "    }\n",
       "\n",
       "    .dataframe thead th {\n",
       "        text-align: right;\n",
       "    }\n",
       "</style>\n",
       "<table border=\"1\" class=\"dataframe\">\n",
       "  <thead>\n",
       "    <tr style=\"text-align: right;\">\n",
       "      <th></th>\n",
       "      <th>index</th>\n",
       "      <th>W</th>\n",
       "      <th>X</th>\n",
       "      <th>Y</th>\n",
       "      <th>Z</th>\n",
       "    </tr>\n",
       "  </thead>\n",
       "  <tbody>\n",
       "    <tr>\n",
       "      <th>0</th>\n",
       "      <td>A</td>\n",
       "      <td>0.955176</td>\n",
       "      <td>0.405775</td>\n",
       "      <td>-2.141486</td>\n",
       "      <td>-0.818987</td>\n",
       "    </tr>\n",
       "    <tr>\n",
       "      <th>1</th>\n",
       "      <td>B</td>\n",
       "      <td>-0.018597</td>\n",
       "      <td>0.978104</td>\n",
       "      <td>-1.397059</td>\n",
       "      <td>0.519750</td>\n",
       "    </tr>\n",
       "    <tr>\n",
       "      <th>2</th>\n",
       "      <td>D</td>\n",
       "      <td>0.278426</td>\n",
       "      <td>0.791482</td>\n",
       "      <td>0.220963</td>\n",
       "      <td>-0.752739</td>\n",
       "    </tr>\n",
       "    <tr>\n",
       "      <th>3</th>\n",
       "      <td>E</td>\n",
       "      <td>-0.891373</td>\n",
       "      <td>0.277331</td>\n",
       "      <td>-0.401241</td>\n",
       "      <td>-1.377744</td>\n",
       "    </tr>\n",
       "  </tbody>\n",
       "</table>\n",
       "</div>"
      ],
      "text/plain": [
       "  index         W         X         Y         Z\n",
       "0     A  0.955176  0.405775 -2.141486 -0.818987\n",
       "1     B -0.018597  0.978104 -1.397059  0.519750\n",
       "2     D  0.278426  0.791482  0.220963 -0.752739\n",
       "3     E -0.891373  0.277331 -0.401241 -1.377744"
      ]
     },
     "execution_count": 139,
     "metadata": {},
     "output_type": "execute_result"
    }
   ],
   "source": [
    "df.reset_index()"
   ]
  },
  {
   "cell_type": "code",
   "execution_count": 140,
   "id": "appointed-enforcement",
   "metadata": {},
   "outputs": [
    {
     "data": {
      "text/html": [
       "<div>\n",
       "<style scoped>\n",
       "    .dataframe tbody tr th:only-of-type {\n",
       "        vertical-align: middle;\n",
       "    }\n",
       "\n",
       "    .dataframe tbody tr th {\n",
       "        vertical-align: top;\n",
       "    }\n",
       "\n",
       "    .dataframe thead th {\n",
       "        text-align: right;\n",
       "    }\n",
       "</style>\n",
       "<table border=\"1\" class=\"dataframe\">\n",
       "  <thead>\n",
       "    <tr style=\"text-align: right;\">\n",
       "      <th></th>\n",
       "      <th>W</th>\n",
       "      <th>X</th>\n",
       "      <th>Y</th>\n",
       "      <th>Z</th>\n",
       "    </tr>\n",
       "  </thead>\n",
       "  <tbody>\n",
       "    <tr>\n",
       "      <th>A</th>\n",
       "      <td>0.955176</td>\n",
       "      <td>0.405775</td>\n",
       "      <td>-2.141486</td>\n",
       "      <td>-0.818987</td>\n",
       "    </tr>\n",
       "    <tr>\n",
       "      <th>B</th>\n",
       "      <td>-0.018597</td>\n",
       "      <td>0.978104</td>\n",
       "      <td>-1.397059</td>\n",
       "      <td>0.519750</td>\n",
       "    </tr>\n",
       "    <tr>\n",
       "      <th>D</th>\n",
       "      <td>0.278426</td>\n",
       "      <td>0.791482</td>\n",
       "      <td>0.220963</td>\n",
       "      <td>-0.752739</td>\n",
       "    </tr>\n",
       "    <tr>\n",
       "      <th>E</th>\n",
       "      <td>-0.891373</td>\n",
       "      <td>0.277331</td>\n",
       "      <td>-0.401241</td>\n",
       "      <td>-1.377744</td>\n",
       "    </tr>\n",
       "  </tbody>\n",
       "</table>\n",
       "</div>"
      ],
      "text/plain": [
       "          W         X         Y         Z\n",
       "A  0.955176  0.405775 -2.141486 -0.818987\n",
       "B -0.018597  0.978104 -1.397059  0.519750\n",
       "D  0.278426  0.791482  0.220963 -0.752739\n",
       "E -0.891373  0.277331 -0.401241 -1.377744"
      ]
     },
     "execution_count": 140,
     "metadata": {},
     "output_type": "execute_result"
    }
   ],
   "source": [
    "df"
   ]
  },
  {
   "cell_type": "code",
   "execution_count": 141,
   "id": "legendary-trash",
   "metadata": {},
   "outputs": [],
   "source": [
    "df.reset_index(inplace=True)"
   ]
  },
  {
   "cell_type": "code",
   "execution_count": 142,
   "id": "behavioral-representative",
   "metadata": {},
   "outputs": [
    {
     "data": {
      "text/html": [
       "<div>\n",
       "<style scoped>\n",
       "    .dataframe tbody tr th:only-of-type {\n",
       "        vertical-align: middle;\n",
       "    }\n",
       "\n",
       "    .dataframe tbody tr th {\n",
       "        vertical-align: top;\n",
       "    }\n",
       "\n",
       "    .dataframe thead th {\n",
       "        text-align: right;\n",
       "    }\n",
       "</style>\n",
       "<table border=\"1\" class=\"dataframe\">\n",
       "  <thead>\n",
       "    <tr style=\"text-align: right;\">\n",
       "      <th></th>\n",
       "      <th>index</th>\n",
       "      <th>W</th>\n",
       "      <th>X</th>\n",
       "      <th>Y</th>\n",
       "      <th>Z</th>\n",
       "    </tr>\n",
       "  </thead>\n",
       "  <tbody>\n",
       "    <tr>\n",
       "      <th>0</th>\n",
       "      <td>A</td>\n",
       "      <td>0.955176</td>\n",
       "      <td>0.405775</td>\n",
       "      <td>-2.141486</td>\n",
       "      <td>-0.818987</td>\n",
       "    </tr>\n",
       "    <tr>\n",
       "      <th>1</th>\n",
       "      <td>B</td>\n",
       "      <td>-0.018597</td>\n",
       "      <td>0.978104</td>\n",
       "      <td>-1.397059</td>\n",
       "      <td>0.519750</td>\n",
       "    </tr>\n",
       "    <tr>\n",
       "      <th>2</th>\n",
       "      <td>D</td>\n",
       "      <td>0.278426</td>\n",
       "      <td>0.791482</td>\n",
       "      <td>0.220963</td>\n",
       "      <td>-0.752739</td>\n",
       "    </tr>\n",
       "    <tr>\n",
       "      <th>3</th>\n",
       "      <td>E</td>\n",
       "      <td>-0.891373</td>\n",
       "      <td>0.277331</td>\n",
       "      <td>-0.401241</td>\n",
       "      <td>-1.377744</td>\n",
       "    </tr>\n",
       "  </tbody>\n",
       "</table>\n",
       "</div>"
      ],
      "text/plain": [
       "  index         W         X         Y         Z\n",
       "0     A  0.955176  0.405775 -2.141486 -0.818987\n",
       "1     B -0.018597  0.978104 -1.397059  0.519750\n",
       "2     D  0.278426  0.791482  0.220963 -0.752739\n",
       "3     E -0.891373  0.277331 -0.401241 -1.377744"
      ]
     },
     "execution_count": 142,
     "metadata": {},
     "output_type": "execute_result"
    }
   ],
   "source": [
    "df"
   ]
  },
  {
   "cell_type": "markdown",
   "id": "statistical-diagram",
   "metadata": {},
   "source": [
    "## Eksik veriler (missing data)"
   ]
  },
  {
   "cell_type": "code",
   "execution_count": 144,
   "id": "tired-polls",
   "metadata": {},
   "outputs": [],
   "source": [
    "df = pd.DataFrame({'A':[1,2,np.nan],'B':[3,np.nan,np.nan],'C':[1,3,4]})"
   ]
  },
  {
   "cell_type": "code",
   "execution_count": 145,
   "id": "narrow-raising",
   "metadata": {},
   "outputs": [
    {
     "data": {
      "text/html": [
       "<div>\n",
       "<style scoped>\n",
       "    .dataframe tbody tr th:only-of-type {\n",
       "        vertical-align: middle;\n",
       "    }\n",
       "\n",
       "    .dataframe tbody tr th {\n",
       "        vertical-align: top;\n",
       "    }\n",
       "\n",
       "    .dataframe thead th {\n",
       "        text-align: right;\n",
       "    }\n",
       "</style>\n",
       "<table border=\"1\" class=\"dataframe\">\n",
       "  <thead>\n",
       "    <tr style=\"text-align: right;\">\n",
       "      <th></th>\n",
       "      <th>A</th>\n",
       "      <th>B</th>\n",
       "      <th>C</th>\n",
       "    </tr>\n",
       "  </thead>\n",
       "  <tbody>\n",
       "    <tr>\n",
       "      <th>0</th>\n",
       "      <td>1.0</td>\n",
       "      <td>3.0</td>\n",
       "      <td>1</td>\n",
       "    </tr>\n",
       "    <tr>\n",
       "      <th>1</th>\n",
       "      <td>2.0</td>\n",
       "      <td>NaN</td>\n",
       "      <td>3</td>\n",
       "    </tr>\n",
       "    <tr>\n",
       "      <th>2</th>\n",
       "      <td>NaN</td>\n",
       "      <td>NaN</td>\n",
       "      <td>4</td>\n",
       "    </tr>\n",
       "  </tbody>\n",
       "</table>\n",
       "</div>"
      ],
      "text/plain": [
       "     A    B  C\n",
       "0  1.0  3.0  1\n",
       "1  2.0  NaN  3\n",
       "2  NaN  NaN  4"
      ]
     },
     "execution_count": 145,
     "metadata": {},
     "output_type": "execute_result"
    }
   ],
   "source": [
    "df"
   ]
  },
  {
   "cell_type": "code",
   "execution_count": 146,
   "id": "scientific-handling",
   "metadata": {},
   "outputs": [
    {
     "data": {
      "text/html": [
       "<div>\n",
       "<style scoped>\n",
       "    .dataframe tbody tr th:only-of-type {\n",
       "        vertical-align: middle;\n",
       "    }\n",
       "\n",
       "    .dataframe tbody tr th {\n",
       "        vertical-align: top;\n",
       "    }\n",
       "\n",
       "    .dataframe thead th {\n",
       "        text-align: right;\n",
       "    }\n",
       "</style>\n",
       "<table border=\"1\" class=\"dataframe\">\n",
       "  <thead>\n",
       "    <tr style=\"text-align: right;\">\n",
       "      <th></th>\n",
       "      <th>A</th>\n",
       "      <th>B</th>\n",
       "      <th>C</th>\n",
       "    </tr>\n",
       "  </thead>\n",
       "  <tbody>\n",
       "    <tr>\n",
       "      <th>0</th>\n",
       "      <td>1.0</td>\n",
       "      <td>3.0</td>\n",
       "      <td>1</td>\n",
       "    </tr>\n",
       "  </tbody>\n",
       "</table>\n",
       "</div>"
      ],
      "text/plain": [
       "     A    B  C\n",
       "0  1.0  3.0  1"
      ]
     },
     "execution_count": 146,
     "metadata": {},
     "output_type": "execute_result"
    }
   ],
   "source": [
    "df.dropna()"
   ]
  },
  {
   "cell_type": "code",
   "execution_count": 148,
   "id": "impressed-plate",
   "metadata": {},
   "outputs": [
    {
     "data": {
      "text/html": [
       "<div>\n",
       "<style scoped>\n",
       "    .dataframe tbody tr th:only-of-type {\n",
       "        vertical-align: middle;\n",
       "    }\n",
       "\n",
       "    .dataframe tbody tr th {\n",
       "        vertical-align: top;\n",
       "    }\n",
       "\n",
       "    .dataframe thead th {\n",
       "        text-align: right;\n",
       "    }\n",
       "</style>\n",
       "<table border=\"1\" class=\"dataframe\">\n",
       "  <thead>\n",
       "    <tr style=\"text-align: right;\">\n",
       "      <th></th>\n",
       "      <th>C</th>\n",
       "    </tr>\n",
       "  </thead>\n",
       "  <tbody>\n",
       "    <tr>\n",
       "      <th>0</th>\n",
       "      <td>1</td>\n",
       "    </tr>\n",
       "    <tr>\n",
       "      <th>1</th>\n",
       "      <td>3</td>\n",
       "    </tr>\n",
       "    <tr>\n",
       "      <th>2</th>\n",
       "      <td>4</td>\n",
       "    </tr>\n",
       "  </tbody>\n",
       "</table>\n",
       "</div>"
      ],
      "text/plain": [
       "   C\n",
       "0  1\n",
       "1  3\n",
       "2  4"
      ]
     },
     "execution_count": 148,
     "metadata": {},
     "output_type": "execute_result"
    }
   ],
   "source": [
    "df.dropna(axis=1)"
   ]
  },
  {
   "cell_type": "code",
   "execution_count": 149,
   "id": "unique-mission",
   "metadata": {},
   "outputs": [
    {
     "data": {
      "text/html": [
       "<div>\n",
       "<style scoped>\n",
       "    .dataframe tbody tr th:only-of-type {\n",
       "        vertical-align: middle;\n",
       "    }\n",
       "\n",
       "    .dataframe tbody tr th {\n",
       "        vertical-align: top;\n",
       "    }\n",
       "\n",
       "    .dataframe thead th {\n",
       "        text-align: right;\n",
       "    }\n",
       "</style>\n",
       "<table border=\"1\" class=\"dataframe\">\n",
       "  <thead>\n",
       "    <tr style=\"text-align: right;\">\n",
       "      <th></th>\n",
       "      <th>A</th>\n",
       "      <th>B</th>\n",
       "      <th>C</th>\n",
       "    </tr>\n",
       "  </thead>\n",
       "  <tbody>\n",
       "    <tr>\n",
       "      <th>0</th>\n",
       "      <td>1.0</td>\n",
       "      <td>3.0</td>\n",
       "      <td>1</td>\n",
       "    </tr>\n",
       "    <tr>\n",
       "      <th>1</th>\n",
       "      <td>2.0</td>\n",
       "      <td>NaN</td>\n",
       "      <td>3</td>\n",
       "    </tr>\n",
       "  </tbody>\n",
       "</table>\n",
       "</div>"
      ],
      "text/plain": [
       "     A    B  C\n",
       "0  1.0  3.0  1\n",
       "1  2.0  NaN  3"
      ]
     },
     "execution_count": 149,
     "metadata": {},
     "output_type": "execute_result"
    }
   ],
   "source": [
    "df.dropna(thresh=2)"
   ]
  },
  {
   "cell_type": "code",
   "execution_count": 152,
   "id": "clean-favor",
   "metadata": {},
   "outputs": [
    {
     "data": {
      "text/html": [
       "<div>\n",
       "<style scoped>\n",
       "    .dataframe tbody tr th:only-of-type {\n",
       "        vertical-align: middle;\n",
       "    }\n",
       "\n",
       "    .dataframe tbody tr th {\n",
       "        vertical-align: top;\n",
       "    }\n",
       "\n",
       "    .dataframe thead th {\n",
       "        text-align: right;\n",
       "    }\n",
       "</style>\n",
       "<table border=\"1\" class=\"dataframe\">\n",
       "  <thead>\n",
       "    <tr style=\"text-align: right;\">\n",
       "      <th></th>\n",
       "      <th>A</th>\n",
       "      <th>B</th>\n",
       "      <th>C</th>\n",
       "    </tr>\n",
       "  </thead>\n",
       "  <tbody>\n",
       "    <tr>\n",
       "      <th>0</th>\n",
       "      <td>1.0</td>\n",
       "      <td>3.0</td>\n",
       "      <td>1</td>\n",
       "    </tr>\n",
       "    <tr>\n",
       "      <th>1</th>\n",
       "      <td>2.0</td>\n",
       "      <td>0.0</td>\n",
       "      <td>3</td>\n",
       "    </tr>\n",
       "    <tr>\n",
       "      <th>2</th>\n",
       "      <td>0.0</td>\n",
       "      <td>0.0</td>\n",
       "      <td>4</td>\n",
       "    </tr>\n",
       "  </tbody>\n",
       "</table>\n",
       "</div>"
      ],
      "text/plain": [
       "     A    B  C\n",
       "0  1.0  3.0  1\n",
       "1  2.0  0.0  3\n",
       "2  0.0  0.0  4"
      ]
     },
     "execution_count": 152,
     "metadata": {},
     "output_type": "execute_result"
    }
   ],
   "source": [
    "df.fillna(value=0)"
   ]
  },
  {
   "cell_type": "code",
   "execution_count": null,
   "id": "collective-alpha",
   "metadata": {},
   "outputs": [],
   "source": [
    "df.fillna(value=df['A'].mean())"
   ]
  },
  {
   "cell_type": "markdown",
   "id": "brief-technology",
   "metadata": {},
   "source": [
    "## Group by"
   ]
  },
  {
   "cell_type": "code",
   "execution_count": 155,
   "id": "sunset-philip",
   "metadata": {},
   "outputs": [],
   "source": [
    "data = {'Firma':['A','B','C','C'],'İsim':['Ali','Veli','Cem','Ayşe'],'Satış':[200,100,140,160]}"
   ]
  },
  {
   "cell_type": "code",
   "execution_count": 156,
   "id": "vietnamese-presence",
   "metadata": {},
   "outputs": [],
   "source": [
    "df = pd.DataFrame(data)"
   ]
  },
  {
   "cell_type": "code",
   "execution_count": 157,
   "id": "portable-township",
   "metadata": {},
   "outputs": [
    {
     "data": {
      "text/html": [
       "<div>\n",
       "<style scoped>\n",
       "    .dataframe tbody tr th:only-of-type {\n",
       "        vertical-align: middle;\n",
       "    }\n",
       "\n",
       "    .dataframe tbody tr th {\n",
       "        vertical-align: top;\n",
       "    }\n",
       "\n",
       "    .dataframe thead th {\n",
       "        text-align: right;\n",
       "    }\n",
       "</style>\n",
       "<table border=\"1\" class=\"dataframe\">\n",
       "  <thead>\n",
       "    <tr style=\"text-align: right;\">\n",
       "      <th></th>\n",
       "      <th>Firma</th>\n",
       "      <th>İsim</th>\n",
       "      <th>Satış</th>\n",
       "    </tr>\n",
       "  </thead>\n",
       "  <tbody>\n",
       "    <tr>\n",
       "      <th>0</th>\n",
       "      <td>A</td>\n",
       "      <td>Ali</td>\n",
       "      <td>200</td>\n",
       "    </tr>\n",
       "    <tr>\n",
       "      <th>1</th>\n",
       "      <td>B</td>\n",
       "      <td>Veli</td>\n",
       "      <td>100</td>\n",
       "    </tr>\n",
       "    <tr>\n",
       "      <th>2</th>\n",
       "      <td>C</td>\n",
       "      <td>Cem</td>\n",
       "      <td>140</td>\n",
       "    </tr>\n",
       "    <tr>\n",
       "      <th>3</th>\n",
       "      <td>C</td>\n",
       "      <td>Ayşe</td>\n",
       "      <td>160</td>\n",
       "    </tr>\n",
       "  </tbody>\n",
       "</table>\n",
       "</div>"
      ],
      "text/plain": [
       "  Firma  İsim  Satış\n",
       "0     A   Ali    200\n",
       "1     B  Veli    100\n",
       "2     C   Cem    140\n",
       "3     C  Ayşe    160"
      ]
     },
     "execution_count": 157,
     "metadata": {},
     "output_type": "execute_result"
    }
   ],
   "source": [
    "df"
   ]
  },
  {
   "cell_type": "code",
   "execution_count": 159,
   "id": "theoretical-ridge",
   "metadata": {},
   "outputs": [
    {
     "data": {
      "text/html": [
       "<div>\n",
       "<style scoped>\n",
       "    .dataframe tbody tr th:only-of-type {\n",
       "        vertical-align: middle;\n",
       "    }\n",
       "\n",
       "    .dataframe tbody tr th {\n",
       "        vertical-align: top;\n",
       "    }\n",
       "\n",
       "    .dataframe thead th {\n",
       "        text-align: right;\n",
       "    }\n",
       "</style>\n",
       "<table border=\"1\" class=\"dataframe\">\n",
       "  <thead>\n",
       "    <tr style=\"text-align: right;\">\n",
       "      <th></th>\n",
       "      <th>Satış</th>\n",
       "    </tr>\n",
       "    <tr>\n",
       "      <th>Firma</th>\n",
       "      <th></th>\n",
       "    </tr>\n",
       "  </thead>\n",
       "  <tbody>\n",
       "    <tr>\n",
       "      <th>A</th>\n",
       "      <td>200</td>\n",
       "    </tr>\n",
       "    <tr>\n",
       "      <th>B</th>\n",
       "      <td>100</td>\n",
       "    </tr>\n",
       "    <tr>\n",
       "      <th>C</th>\n",
       "      <td>150</td>\n",
       "    </tr>\n",
       "  </tbody>\n",
       "</table>\n",
       "</div>"
      ],
      "text/plain": [
       "       Satış\n",
       "Firma       \n",
       "A        200\n",
       "B        100\n",
       "C        150"
      ]
     },
     "execution_count": 159,
     "metadata": {},
     "output_type": "execute_result"
    }
   ],
   "source": [
    "df.groupby('Firma').mean()"
   ]
  },
  {
   "cell_type": "code",
   "execution_count": 160,
   "id": "varied-pattern",
   "metadata": {},
   "outputs": [
    {
     "data": {
      "text/html": [
       "<div>\n",
       "<style scoped>\n",
       "    .dataframe tbody tr th:only-of-type {\n",
       "        vertical-align: middle;\n",
       "    }\n",
       "\n",
       "    .dataframe tbody tr th {\n",
       "        vertical-align: top;\n",
       "    }\n",
       "\n",
       "    .dataframe thead th {\n",
       "        text-align: right;\n",
       "    }\n",
       "</style>\n",
       "<table border=\"1\" class=\"dataframe\">\n",
       "  <thead>\n",
       "    <tr style=\"text-align: right;\">\n",
       "      <th></th>\n",
       "      <th>Satış</th>\n",
       "    </tr>\n",
       "    <tr>\n",
       "      <th>Firma</th>\n",
       "      <th></th>\n",
       "    </tr>\n",
       "  </thead>\n",
       "  <tbody>\n",
       "    <tr>\n",
       "      <th>A</th>\n",
       "      <td>NaN</td>\n",
       "    </tr>\n",
       "    <tr>\n",
       "      <th>B</th>\n",
       "      <td>NaN</td>\n",
       "    </tr>\n",
       "    <tr>\n",
       "      <th>C</th>\n",
       "      <td>14.142136</td>\n",
       "    </tr>\n",
       "  </tbody>\n",
       "</table>\n",
       "</div>"
      ],
      "text/plain": [
       "           Satış\n",
       "Firma           \n",
       "A            NaN\n",
       "B            NaN\n",
       "C      14.142136"
      ]
     },
     "execution_count": 160,
     "metadata": {},
     "output_type": "execute_result"
    }
   ],
   "source": [
    "df.groupby('Firma').std()"
   ]
  },
  {
   "cell_type": "code",
   "execution_count": 162,
   "id": "lightweight-rough",
   "metadata": {},
   "outputs": [
    {
     "data": {
      "text/plain": [
       "Firma\n",
       "A    1\n",
       "B    1\n",
       "C    2\n",
       "Name: İsim, dtype: int64"
      ]
     },
     "execution_count": 162,
     "metadata": {},
     "output_type": "execute_result"
    }
   ],
   "source": [
    "df.groupby('Firma').count()['İsim']"
   ]
  },
  {
   "cell_type": "markdown",
   "id": "latter-healing",
   "metadata": {},
   "source": [
    "## Dosyaların okunması"
   ]
  },
  {
   "cell_type": "code",
   "execution_count": 163,
   "id": "blind-cookbook",
   "metadata": {},
   "outputs": [],
   "source": [
    "df = pd.read_csv(\"https://raw.githubusercontent.com/yasarkucukefe/YBS_405/main/data/AirPassengers.csv\")"
   ]
  },
  {
   "cell_type": "code",
   "execution_count": 164,
   "id": "lovely-leave",
   "metadata": {},
   "outputs": [
    {
     "data": {
      "text/html": [
       "<div>\n",
       "<style scoped>\n",
       "    .dataframe tbody tr th:only-of-type {\n",
       "        vertical-align: middle;\n",
       "    }\n",
       "\n",
       "    .dataframe tbody tr th {\n",
       "        vertical-align: top;\n",
       "    }\n",
       "\n",
       "    .dataframe thead th {\n",
       "        text-align: right;\n",
       "    }\n",
       "</style>\n",
       "<table border=\"1\" class=\"dataframe\">\n",
       "  <thead>\n",
       "    <tr style=\"text-align: right;\">\n",
       "      <th></th>\n",
       "      <th>Month</th>\n",
       "      <th>#Passengers</th>\n",
       "    </tr>\n",
       "  </thead>\n",
       "  <tbody>\n",
       "    <tr>\n",
       "      <th>0</th>\n",
       "      <td>1949-01</td>\n",
       "      <td>112</td>\n",
       "    </tr>\n",
       "    <tr>\n",
       "      <th>1</th>\n",
       "      <td>1949-02</td>\n",
       "      <td>118</td>\n",
       "    </tr>\n",
       "    <tr>\n",
       "      <th>2</th>\n",
       "      <td>1949-03</td>\n",
       "      <td>132</td>\n",
       "    </tr>\n",
       "    <tr>\n",
       "      <th>3</th>\n",
       "      <td>1949-04</td>\n",
       "      <td>129</td>\n",
       "    </tr>\n",
       "    <tr>\n",
       "      <th>4</th>\n",
       "      <td>1949-05</td>\n",
       "      <td>121</td>\n",
       "    </tr>\n",
       "  </tbody>\n",
       "</table>\n",
       "</div>"
      ],
      "text/plain": [
       "     Month  #Passengers\n",
       "0  1949-01          112\n",
       "1  1949-02          118\n",
       "2  1949-03          132\n",
       "3  1949-04          129\n",
       "4  1949-05          121"
      ]
     },
     "execution_count": 164,
     "metadata": {},
     "output_type": "execute_result"
    }
   ],
   "source": [
    "df.head()"
   ]
  }
 ],
 "metadata": {
  "kernelspec": {
   "display_name": "Python 3",
   "language": "python",
   "name": "python3"
  },
  "language_info": {
   "codemirror_mode": {
    "name": "ipython",
    "version": 3
   },
   "file_extension": ".py",
   "mimetype": "text/x-python",
   "name": "python",
   "nbconvert_exporter": "python",
   "pygments_lexer": "ipython3",
   "version": "3.8.8"
  }
 },
 "nbformat": 4,
 "nbformat_minor": 5
}
