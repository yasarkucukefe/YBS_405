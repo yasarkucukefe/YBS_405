{
 "cells": [
  {
   "cell_type": "markdown",
   "id": "hollywood-crawford",
   "metadata": {},
   "source": [
    "## Veri Madeciniği 13. hafta dersi"
   ]
  },
  {
   "cell_type": "markdown",
   "id": "valid-subsection",
   "metadata": {},
   "source": [
    "## NLP örnek: SMS mesajlarının spam / \"spam değil\" olarak sınıflandırılması"
   ]
  },
  {
   "cell_type": "code",
   "execution_count": 1,
   "id": "current-indiana",
   "metadata": {},
   "outputs": [],
   "source": [
    "import pandas as pd"
   ]
  },
  {
   "cell_type": "code",
   "execution_count": 47,
   "id": "authentic-aquarium",
   "metadata": {},
   "outputs": [],
   "source": [
    "sms = pd.read_csv('https://raw.githubusercontent.com/yasarkucukefe/YBS_405/main/data/SMSSpamCollection.txt', sep='\\t', names=['etiket','mesaj'])"
   ]
  },
  {
   "cell_type": "code",
   "execution_count": 3,
   "id": "disciplinary-trail",
   "metadata": {},
   "outputs": [
    {
     "data": {
      "text/html": [
       "<div>\n",
       "<style scoped>\n",
       "    .dataframe tbody tr th:only-of-type {\n",
       "        vertical-align: middle;\n",
       "    }\n",
       "\n",
       "    .dataframe tbody tr th {\n",
       "        vertical-align: top;\n",
       "    }\n",
       "\n",
       "    .dataframe thead th {\n",
       "        text-align: right;\n",
       "    }\n",
       "</style>\n",
       "<table border=\"1\" class=\"dataframe\">\n",
       "  <thead>\n",
       "    <tr style=\"text-align: right;\">\n",
       "      <th></th>\n",
       "      <th>etiket</th>\n",
       "      <th>mesaj</th>\n",
       "    </tr>\n",
       "  </thead>\n",
       "  <tbody>\n",
       "    <tr>\n",
       "      <th>0</th>\n",
       "      <td>ham</td>\n",
       "      <td>Go until jurong point, crazy.. Available only ...</td>\n",
       "    </tr>\n",
       "    <tr>\n",
       "      <th>1</th>\n",
       "      <td>ham</td>\n",
       "      <td>Ok lar... Joking wif u oni...</td>\n",
       "    </tr>\n",
       "    <tr>\n",
       "      <th>2</th>\n",
       "      <td>spam</td>\n",
       "      <td>Free entry in 2 a wkly comp to win FA Cup fina...</td>\n",
       "    </tr>\n",
       "    <tr>\n",
       "      <th>3</th>\n",
       "      <td>ham</td>\n",
       "      <td>U dun say so early hor... U c already then say...</td>\n",
       "    </tr>\n",
       "    <tr>\n",
       "      <th>4</th>\n",
       "      <td>ham</td>\n",
       "      <td>Nah I don't think he goes to usf, he lives aro...</td>\n",
       "    </tr>\n",
       "  </tbody>\n",
       "</table>\n",
       "</div>"
      ],
      "text/plain": [
       "  etiket                                              mesaj\n",
       "0    ham  Go until jurong point, crazy.. Available only ...\n",
       "1    ham                      Ok lar... Joking wif u oni...\n",
       "2   spam  Free entry in 2 a wkly comp to win FA Cup fina...\n",
       "3    ham  U dun say so early hor... U c already then say...\n",
       "4    ham  Nah I don't think he goes to usf, he lives aro..."
      ]
     },
     "execution_count": 3,
     "metadata": {},
     "output_type": "execute_result"
    }
   ],
   "source": [
    "sms.head() # ham: spam-değil: not-spam"
   ]
  },
  {
   "cell_type": "code",
   "execution_count": 4,
   "id": "occupational-disease",
   "metadata": {},
   "outputs": [],
   "source": [
    "# EDA: Açıklayıcı Veri Analizi (Exploratory Data Analysis)"
   ]
  },
  {
   "cell_type": "code",
   "execution_count": 5,
   "id": "behavioral-classic",
   "metadata": {},
   "outputs": [
    {
     "data": {
      "text/html": [
       "<div>\n",
       "<style scoped>\n",
       "    .dataframe tbody tr th:only-of-type {\n",
       "        vertical-align: middle;\n",
       "    }\n",
       "\n",
       "    .dataframe tbody tr th {\n",
       "        vertical-align: top;\n",
       "    }\n",
       "\n",
       "    .dataframe thead th {\n",
       "        text-align: right;\n",
       "    }\n",
       "</style>\n",
       "<table border=\"1\" class=\"dataframe\">\n",
       "  <thead>\n",
       "    <tr style=\"text-align: right;\">\n",
       "      <th></th>\n",
       "      <th>etiket</th>\n",
       "      <th>mesaj</th>\n",
       "    </tr>\n",
       "  </thead>\n",
       "  <tbody>\n",
       "    <tr>\n",
       "      <th>count</th>\n",
       "      <td>5572</td>\n",
       "      <td>5572</td>\n",
       "    </tr>\n",
       "    <tr>\n",
       "      <th>unique</th>\n",
       "      <td>2</td>\n",
       "      <td>5169</td>\n",
       "    </tr>\n",
       "    <tr>\n",
       "      <th>top</th>\n",
       "      <td>ham</td>\n",
       "      <td>Sorry, I'll call later</td>\n",
       "    </tr>\n",
       "    <tr>\n",
       "      <th>freq</th>\n",
       "      <td>4825</td>\n",
       "      <td>30</td>\n",
       "    </tr>\n",
       "  </tbody>\n",
       "</table>\n",
       "</div>"
      ],
      "text/plain": [
       "       etiket                   mesaj\n",
       "count    5572                    5572\n",
       "unique      2                    5169\n",
       "top       ham  Sorry, I'll call later\n",
       "freq     4825                      30"
      ]
     },
     "execution_count": 5,
     "metadata": {},
     "output_type": "execute_result"
    }
   ],
   "source": [
    "sms.describe()"
   ]
  },
  {
   "cell_type": "code",
   "execution_count": 6,
   "id": "specified-cruise",
   "metadata": {},
   "outputs": [
    {
     "data": {
      "text/html": [
       "<div>\n",
       "<style scoped>\n",
       "    .dataframe tbody tr th:only-of-type {\n",
       "        vertical-align: middle;\n",
       "    }\n",
       "\n",
       "    .dataframe tbody tr th {\n",
       "        vertical-align: top;\n",
       "    }\n",
       "\n",
       "    .dataframe thead tr th {\n",
       "        text-align: left;\n",
       "    }\n",
       "\n",
       "    .dataframe thead tr:last-of-type th {\n",
       "        text-align: right;\n",
       "    }\n",
       "</style>\n",
       "<table border=\"1\" class=\"dataframe\">\n",
       "  <thead>\n",
       "    <tr>\n",
       "      <th></th>\n",
       "      <th colspan=\"4\" halign=\"left\">mesaj</th>\n",
       "    </tr>\n",
       "    <tr>\n",
       "      <th></th>\n",
       "      <th>count</th>\n",
       "      <th>unique</th>\n",
       "      <th>top</th>\n",
       "      <th>freq</th>\n",
       "    </tr>\n",
       "    <tr>\n",
       "      <th>etiket</th>\n",
       "      <th></th>\n",
       "      <th></th>\n",
       "      <th></th>\n",
       "      <th></th>\n",
       "    </tr>\n",
       "  </thead>\n",
       "  <tbody>\n",
       "    <tr>\n",
       "      <th>ham</th>\n",
       "      <td>4825</td>\n",
       "      <td>4516</td>\n",
       "      <td>Sorry, I'll call later</td>\n",
       "      <td>30</td>\n",
       "    </tr>\n",
       "    <tr>\n",
       "      <th>spam</th>\n",
       "      <td>747</td>\n",
       "      <td>653</td>\n",
       "      <td>Please call our customer service representativ...</td>\n",
       "      <td>4</td>\n",
       "    </tr>\n",
       "  </tbody>\n",
       "</table>\n",
       "</div>"
      ],
      "text/plain": [
       "       mesaj                                                               \n",
       "       count unique                                                top freq\n",
       "etiket                                                                     \n",
       "ham     4825   4516                             Sorry, I'll call later   30\n",
       "spam     747    653  Please call our customer service representativ...    4"
      ]
     },
     "execution_count": 6,
     "metadata": {},
     "output_type": "execute_result"
    }
   ],
   "source": [
    "sms.groupby('etiket').describe()"
   ]
  },
  {
   "cell_type": "code",
   "execution_count": 48,
   "id": "wired-library",
   "metadata": {},
   "outputs": [],
   "source": [
    "# feature engineering (özellik arama ve yenisi oluşturma -gerekirse-)\n",
    "# mesaj karakter sayısı işe yarar yeni bir özellik olabilir.\n",
    "sms['kacKarakter'] = sms[\"mesaj\"].apply(len)"
   ]
  },
  {
   "cell_type": "code",
   "execution_count": 8,
   "id": "parliamentary-piece",
   "metadata": {},
   "outputs": [
    {
     "data": {
      "text/html": [
       "<div>\n",
       "<style scoped>\n",
       "    .dataframe tbody tr th:only-of-type {\n",
       "        vertical-align: middle;\n",
       "    }\n",
       "\n",
       "    .dataframe tbody tr th {\n",
       "        vertical-align: top;\n",
       "    }\n",
       "\n",
       "    .dataframe thead th {\n",
       "        text-align: right;\n",
       "    }\n",
       "</style>\n",
       "<table border=\"1\" class=\"dataframe\">\n",
       "  <thead>\n",
       "    <tr style=\"text-align: right;\">\n",
       "      <th></th>\n",
       "      <th>etiket</th>\n",
       "      <th>mesaj</th>\n",
       "      <th>kacKarakter</th>\n",
       "    </tr>\n",
       "  </thead>\n",
       "  <tbody>\n",
       "    <tr>\n",
       "      <th>0</th>\n",
       "      <td>ham</td>\n",
       "      <td>Go until jurong point, crazy.. Available only ...</td>\n",
       "      <td>111</td>\n",
       "    </tr>\n",
       "    <tr>\n",
       "      <th>1</th>\n",
       "      <td>ham</td>\n",
       "      <td>Ok lar... Joking wif u oni...</td>\n",
       "      <td>29</td>\n",
       "    </tr>\n",
       "    <tr>\n",
       "      <th>2</th>\n",
       "      <td>spam</td>\n",
       "      <td>Free entry in 2 a wkly comp to win FA Cup fina...</td>\n",
       "      <td>155</td>\n",
       "    </tr>\n",
       "    <tr>\n",
       "      <th>3</th>\n",
       "      <td>ham</td>\n",
       "      <td>U dun say so early hor... U c already then say...</td>\n",
       "      <td>49</td>\n",
       "    </tr>\n",
       "    <tr>\n",
       "      <th>4</th>\n",
       "      <td>ham</td>\n",
       "      <td>Nah I don't think he goes to usf, he lives aro...</td>\n",
       "      <td>61</td>\n",
       "    </tr>\n",
       "  </tbody>\n",
       "</table>\n",
       "</div>"
      ],
      "text/plain": [
       "  etiket                                              mesaj  kacKarakter\n",
       "0    ham  Go until jurong point, crazy.. Available only ...          111\n",
       "1    ham                      Ok lar... Joking wif u oni...           29\n",
       "2   spam  Free entry in 2 a wkly comp to win FA Cup fina...          155\n",
       "3    ham  U dun say so early hor... U c already then say...           49\n",
       "4    ham  Nah I don't think he goes to usf, he lives aro...           61"
      ]
     },
     "execution_count": 8,
     "metadata": {},
     "output_type": "execute_result"
    }
   ],
   "source": [
    "sms.head()"
   ]
  },
  {
   "cell_type": "code",
   "execution_count": 20,
   "id": "professional-alloy",
   "metadata": {},
   "outputs": [],
   "source": [
    "# Veri görselleştirme\n",
    "import matplotlib.pyplot as plt\n",
    "import seaborn as sns\n",
    "sns.set_theme()"
   ]
  },
  {
   "cell_type": "code",
   "execution_count": 21,
   "id": "modern-afternoon",
   "metadata": {},
   "outputs": [
    {
     "data": {
      "text/plain": [
       "<AxesSubplot:ylabel='Frequency'>"
      ]
     },
     "execution_count": 21,
     "metadata": {},
     "output_type": "execute_result"
    },
    {
     "data": {
      "image/png": "[encoded data removed]",
      "text/plain": [
       "<Figure size 432x288 with 1 Axes>"
      ]
     },
     "metadata": {},
     "output_type": "display_data"
    }
   ],
   "source": [
    "sms['kacKarakter'].plot(bins=50, kind='hist')"
   ]
  },
  {
   "cell_type": "code",
   "execution_count": 13,
   "id": "conventional-diversity",
   "metadata": {},
   "outputs": [
    {
     "data": {
      "text/plain": [
       "count    5572.000000\n",
       "mean       80.489950\n",
       "std        59.942907\n",
       "min         2.000000\n",
       "25%        36.000000\n",
       "50%        62.000000\n",
       "75%       122.000000\n",
       "max       910.000000\n",
       "Name: kacKarakter, dtype: float64"
      ]
     },
     "execution_count": 13,
     "metadata": {},
     "output_type": "execute_result"
    }
   ],
   "source": [
    "sms['kacKarakter'].describe()"
   ]
  },
  {
   "cell_type": "code",
   "execution_count": 22,
   "id": "painted-webmaster",
   "metadata": {},
   "outputs": [
    {
     "data": {
      "text/plain": [
       "array([<AxesSubplot:title={'center':'ham'}>,\n",
       "       <AxesSubplot:title={'center':'spam'}>], dtype=object)"
      ]
     },
     "execution_count": 22,
     "metadata": {},
     "output_type": "execute_result"
    },
    {
     "data": {
      "image/png": "[encoded data removed]",
      "text/plain": [
       "<Figure size 864x288 with 2 Axes>"
      ]
     },
     "metadata": {},
     "output_type": "display_data"
    }
   ],
   "source": [
    "# Spam ve Spam olmayan olan mesajların ayrı ayrı histogram grafiği\n",
    "sms.hist(column='kacKarakter', by='etiket', bins=50, figsize=(12,4))"
   ]
  },
  {
   "cell_type": "code",
   "execution_count": 17,
   "id": "victorian-memorabilia",
   "metadata": {},
   "outputs": [
    {
     "data": {
      "text/plain": [
       "count    747.000000\n",
       "mean     138.670683\n",
       "std       28.873603\n",
       "min       13.000000\n",
       "25%      133.000000\n",
       "50%      149.000000\n",
       "75%      157.000000\n",
       "max      223.000000\n",
       "Name: kacKarakter, dtype: float64"
      ]
     },
     "execution_count": 17,
     "metadata": {},
     "output_type": "execute_result"
    }
   ],
   "source": [
    "sms[sms['etiket']=='spam']['kacKarakter'].describe()"
   ]
  },
  {
   "cell_type": "code",
   "execution_count": 18,
   "id": "informed-upgrade",
   "metadata": {},
   "outputs": [
    {
     "data": {
      "text/plain": [
       "count    4825.000000\n",
       "mean       71.482487\n",
       "std        58.440652\n",
       "min         2.000000\n",
       "25%        33.000000\n",
       "50%        52.000000\n",
       "75%        93.000000\n",
       "max       910.000000\n",
       "Name: kacKarakter, dtype: float64"
      ]
     },
     "execution_count": 18,
     "metadata": {},
     "output_type": "execute_result"
    }
   ],
   "source": [
    "sms[sms['etiket']=='ham']['kacKarakter'].describe()"
   ]
  },
  {
   "cell_type": "code",
   "execution_count": 23,
   "id": "cheap-venture",
   "metadata": {},
   "outputs": [],
   "source": [
    "# metin ön-işleme"
   ]
  },
  {
   "cell_type": "code",
   "execution_count": 24,
   "id": "earned-designation",
   "metadata": {},
   "outputs": [],
   "source": [
    "import string"
   ]
  },
  {
   "cell_type": "code",
   "execution_count": 26,
   "id": "delayed-pitch",
   "metadata": {},
   "outputs": [
    {
     "name": "stdout",
     "output_type": "stream",
     "text": [
      "[',', '?', '.', '!']\n"
     ]
    }
   ],
   "source": [
    "cumle = \"selam, kaç tane? bilmiyorum. nasıl yani!\"\n",
    "noktalamaIsaretleri = [char for char in cumle if char in string.punctuation]\n",
    "print(noktalamaIsaretleri)\n"
   ]
  },
  {
   "cell_type": "code",
   "execution_count": 28,
   "id": "committed-relation",
   "metadata": {},
   "outputs": [],
   "source": [
    "from nltk.corpus import stopwords"
   ]
  },
  {
   "cell_type": "code",
   "execution_count": 33,
   "id": "occasional-recipe",
   "metadata": {},
   "outputs": [
    {
     "data": {
      "text/plain": [
       "['i', 'me', 'my', 'myself', 'we', 'our', 'ours', 'ourselves', 'you', \"you're\"]"
      ]
     },
     "execution_count": 33,
     "metadata": {},
     "output_type": "execute_result"
    }
   ],
   "source": [
    "stopwords.words('english')[0:10]"
   ]
  },
  {
   "cell_type": "code",
   "execution_count": 38,
   "id": "loose-territory",
   "metadata": {},
   "outputs": [],
   "source": [
    "def metin_isle(mesaj):\n",
    "    # noktalama işaretleri gitsin\n",
    "    # stopwords gitsin\n",
    "    kelimeler = [char for char in mesaj if char not in string.punctuation]\n",
    "    kelimeler = ''.join(kelimeler)\n",
    "    return [kelime for kelime in kelimeler.split() if kelime.lower() not in stopwords.words('english')]"
   ]
  },
  {
   "cell_type": "code",
   "execution_count": 39,
   "id": "convinced-collect",
   "metadata": {},
   "outputs": [
    {
     "data": {
      "text/plain": [
       "['getting', 'hungry']"
      ]
     },
     "execution_count": 39,
     "metadata": {},
     "output_type": "execute_result"
    }
   ],
   "source": [
    "metin_isle(\"I am getting hungry. you?\")"
   ]
  },
  {
   "cell_type": "code",
   "execution_count": 41,
   "id": "loaded-athletics",
   "metadata": {},
   "outputs": [
    {
     "data": {
      "text/html": [
       "<div>\n",
       "<style scoped>\n",
       "    .dataframe tbody tr th:only-of-type {\n",
       "        vertical-align: middle;\n",
       "    }\n",
       "\n",
       "    .dataframe tbody tr th {\n",
       "        vertical-align: top;\n",
       "    }\n",
       "\n",
       "    .dataframe thead th {\n",
       "        text-align: right;\n",
       "    }\n",
       "</style>\n",
       "<table border=\"1\" class=\"dataframe\">\n",
       "  <thead>\n",
       "    <tr style=\"text-align: right;\">\n",
       "      <th></th>\n",
       "      <th>etiket</th>\n",
       "      <th>mesaj</th>\n",
       "      <th>kacKarakter</th>\n",
       "    </tr>\n",
       "  </thead>\n",
       "  <tbody>\n",
       "    <tr>\n",
       "      <th>0</th>\n",
       "      <td>ham</td>\n",
       "      <td>Go until jurong point, crazy.. Available only ...</td>\n",
       "      <td>111</td>\n",
       "    </tr>\n",
       "    <tr>\n",
       "      <th>1</th>\n",
       "      <td>ham</td>\n",
       "      <td>Ok lar... Joking wif u oni...</td>\n",
       "      <td>29</td>\n",
       "    </tr>\n",
       "    <tr>\n",
       "      <th>2</th>\n",
       "      <td>spam</td>\n",
       "      <td>Free entry in 2 a wkly comp to win FA Cup fina...</td>\n",
       "      <td>155</td>\n",
       "    </tr>\n",
       "    <tr>\n",
       "      <th>3</th>\n",
       "      <td>ham</td>\n",
       "      <td>U dun say so early hor... U c already then say...</td>\n",
       "      <td>49</td>\n",
       "    </tr>\n",
       "    <tr>\n",
       "      <th>4</th>\n",
       "      <td>ham</td>\n",
       "      <td>Nah I don't think he goes to usf, he lives aro...</td>\n",
       "      <td>61</td>\n",
       "    </tr>\n",
       "  </tbody>\n",
       "</table>\n",
       "</div>"
      ],
      "text/plain": [
       "  etiket                                              mesaj  kacKarakter\n",
       "0    ham  Go until jurong point, crazy.. Available only ...          111\n",
       "1    ham                      Ok lar... Joking wif u oni...           29\n",
       "2   spam  Free entry in 2 a wkly comp to win FA Cup fina...          155\n",
       "3    ham  U dun say so early hor... U c already then say...           49\n",
       "4    ham  Nah I don't think he goes to usf, he lives aro...           61"
      ]
     },
     "execution_count": 41,
     "metadata": {},
     "output_type": "execute_result"
    }
   ],
   "source": [
    "# Orjinal data frame\n",
    "sms.head()"
   ]
  },
  {
   "cell_type": "code",
   "execution_count": 42,
   "id": "foster-hierarchy",
   "metadata": {},
   "outputs": [
    {
     "data": {
      "text/plain": [
       "0    [Go, jurong, point, crazy, Available, bugis, n...\n",
       "1                       [Ok, lar, Joking, wif, u, oni]\n",
       "2    [Free, entry, 2, wkly, comp, win, FA, Cup, fin...\n",
       "3        [U, dun, say, early, hor, U, c, already, say]\n",
       "4    [Nah, dont, think, goes, usf, lives, around, t...\n",
       "Name: mesaj, dtype: object"
      ]
     },
     "execution_count": 42,
     "metadata": {},
     "output_type": "execute_result"
    }
   ],
   "source": [
    "# mesaj kolonunda noktalama işaretleri ve stopwords gitsin\n",
    "sms['mesaj'].head(5).apply(metin_isle)"
   ]
  },
  {
   "cell_type": "code",
   "execution_count": 45,
   "id": "coordinated-bachelor",
   "metadata": {},
   "outputs": [],
   "source": [
    "# Vectorization\n",
    "# 1. Bir mesajda her kelimenin kaç defa kullanıldığını say (kelime frekansı)\n",
    "# 2. Kullanım sayılarının ağırlığını belirle (Yüksek frekans -> yüksek ağırlık, düşük frekans -> düşük ağırlık)\n",
    "# 3. Vektör uzunluklarını birim uzunluğa normalize et (orjinal metin uzunluğundan çıkarmak için)\n",
    "# https://scikit-learn.org/stable/modules/generated/sklearn.feature_extraction.text.CountVectorizer.html"
   ]
  },
  {
   "cell_type": "code",
   "execution_count": 46,
   "id": "posted-archives",
   "metadata": {},
   "outputs": [],
   "source": [
    "from sklearn.feature_extraction.text import CountVectorizer"
   ]
  },
  {
   "cell_type": "code",
   "execution_count": 50,
   "id": "regular-rehabilitation",
   "metadata": {},
   "outputs": [],
   "source": [
    "bow_transormer = CountVectorizer(analyzer=metin_isle).fit(sms['mesaj'])"
   ]
  },
  {
   "cell_type": "code",
   "execution_count": 51,
   "id": "neither-belize",
   "metadata": {},
   "outputs": [
    {
     "name": "stdout",
     "output_type": "stream",
     "text": [
      "11425\n"
     ]
    }
   ],
   "source": [
    "print(len(bow_transormer.vocabulary_))"
   ]
  },
  {
   "cell_type": "code",
   "execution_count": 52,
   "id": "little-permit",
   "metadata": {},
   "outputs": [
    {
     "name": "stdout",
     "output_type": "stream",
     "text": [
      "Nah I don't think he goes to usf, he lives around here though\n"
     ]
    }
   ],
   "source": [
    "mesajOrnek = sms['mesaj'][4]\n",
    "print(mesajOrnek)"
   ]
  },
  {
   "cell_type": "code",
   "execution_count": 55,
   "id": "least-wireless",
   "metadata": {},
   "outputs": [
    {
     "name": "stdout",
     "output_type": "stream",
     "text": [
      "  (0, 2948)\t1\n",
      "  (0, 4777)\t1\n",
      "  (0, 6123)\t1\n",
      "  (0, 6877)\t1\n",
      "  (0, 7842)\t1\n",
      "  (0, 10433)\t1\n",
      "  (0, 10450)\t1\n",
      "  (0, 10799)\t1\n"
     ]
    }
   ],
   "source": [
    "# Bag-of-Words: bow\n",
    "bowOrnek = bow_transormer.transform([mesajOrnek])\n",
    "print(bowOrnek)"
   ]
  },
  {
   "cell_type": "code",
   "execution_count": 56,
   "id": "victorian-diana",
   "metadata": {},
   "outputs": [
    {
     "data": {
      "text/plain": [
       "'around'"
      ]
     },
     "execution_count": 56,
     "metadata": {},
     "output_type": "execute_result"
    }
   ],
   "source": [
    "bow_transormer.get_feature_names()[4777]"
   ]
  },
  {
   "cell_type": "code",
   "execution_count": 57,
   "id": "automated-trunk",
   "metadata": {},
   "outputs": [
    {
     "data": {
      "text/plain": [
       "'usf'"
      ]
     },
     "execution_count": 57,
     "metadata": {},
     "output_type": "execute_result"
    }
   ],
   "source": [
    "bow_transormer.get_feature_names()[10799]"
   ]
  },
  {
   "cell_type": "code",
   "execution_count": 58,
   "id": "overhead-census",
   "metadata": {},
   "outputs": [],
   "source": [
    "# transform\n",
    "mesajlar_bow = bow_transormer.transform(sms[\"mesaj\"])"
   ]
  },
  {
   "cell_type": "code",
   "execution_count": 59,
   "id": "extraordinary-welding",
   "metadata": {},
   "outputs": [
    {
     "name": "stdout",
     "output_type": "stream",
     "text": [
      "Matris boyutu:  (5572, 11425)\n"
     ]
    }
   ],
   "source": [
    "print('Matris boyutu: ', mesajlar_bow.shape)"
   ]
  },
  {
   "cell_type": "code",
   "execution_count": 60,
   "id": "approved-design",
   "metadata": {},
   "outputs": [
    {
     "name": "stdout",
     "output_type": "stream",
     "text": [
      "Sıfır olmayan matris elemenı sayısı:  50548\n"
     ]
    }
   ],
   "source": [
    "print('Sıfır olmayan matris elemanı sayısı: ',mesajlar_bow.nnz)"
   ]
  },
  {
   "cell_type": "code",
   "execution_count": null,
   "id": "caring-cleaners",
   "metadata": {},
   "outputs": [],
   "source": [
    "# 1. adım (kelime sayma) tamamlandı.\n",
    "# Sonraki 2. ve 3. adımları için TfidfTransformer kullanılacak. \n",
    "# https://scikit-learn.org/stable/modules/generated/sklearn.feature_extraction.text.TfidfTransformer.html"
   ]
  },
  {
   "cell_type": "code",
   "execution_count": 62,
   "id": "grateful-violation",
   "metadata": {},
   "outputs": [],
   "source": [
    "from sklearn.feature_extraction.text import TfidfTransformer"
   ]
  },
  {
   "cell_type": "code",
   "execution_count": 63,
   "id": "worst-ranking",
   "metadata": {},
   "outputs": [],
   "source": [
    "tfidf_transformer = TfidfTransformer().fit(mesajlar_bow)"
   ]
  },
  {
   "cell_type": "code",
   "execution_count": 64,
   "id": "presidential-frank",
   "metadata": {},
   "outputs": [
    {
     "name": "stdout",
     "output_type": "stream",
     "text": [
      "  (0, 10799)\t0.4019015462543087\n",
      "  (0, 10450)\t0.35407004444444734\n",
      "  (0, 10433)\t0.27043580251222216\n",
      "  (0, 7842)\t0.4457437273623316\n",
      "  (0, 6877)\t0.35407004444444734\n",
      "  (0, 6123)\t0.24090226292109554\n",
      "  (0, 4777)\t0.3104226271508041\n",
      "  (0, 2948)\t0.4019015462543087\n"
     ]
    }
   ],
   "source": [
    "tfidfOrnek = tfidf_transformer.transform(bowOrnek)\n",
    "print(tfidfOrnek)"
   ]
  },
  {
   "cell_type": "code",
   "execution_count": 66,
   "id": "excited-measure",
   "metadata": {},
   "outputs": [
    {
     "data": {
      "text/plain": [
       "8.527076498901426"
      ]
     },
     "execution_count": 66,
     "metadata": {},
     "output_type": "execute_result"
    }
   ],
   "source": [
    "# Kelimelerin IDF (Inverse Document Frequency) değerleri \n",
    "tfidf_transformer.idf_[bow_transormer.vocabulary_['university']]"
   ]
  },
  {
   "cell_type": "code",
   "execution_count": 67,
   "id": "julian-slide",
   "metadata": {},
   "outputs": [
    {
     "data": {
      "text/plain": [
       "8.016250875135436"
      ]
     },
     "execution_count": 67,
     "metadata": {},
     "output_type": "execute_result"
    }
   ],
   "source": [
    "tfidf_transformer.idf_[bow_transormer.vocabulary_['cup']]"
   ]
  },
  {
   "cell_type": "code",
   "execution_count": 69,
   "id": "funky-claim",
   "metadata": {},
   "outputs": [],
   "source": [
    "mesaj_tfidf = tfidf_transformer.transform(mesajlar_bow)"
   ]
  },
  {
   "cell_type": "code",
   "execution_count": 68,
   "id": "growing-grant",
   "metadata": {},
   "outputs": [],
   "source": [
    "# EDA tamamlandı\n",
    "# Sonraki aşama model eğitimi"
   ]
  },
  {
   "cell_type": "code",
   "execution_count": 70,
   "id": "private-cowboy",
   "metadata": {},
   "outputs": [],
   "source": [
    "# Naive Bayes sınıflandırıcını kullanacağız.\n",
    "from sklearn.naive_bayes import MultinomialNB\n",
    "spam_model = MultinomialNB().fit(mesaj_tfidf, sms['etiket'])"
   ]
  },
  {
   "cell_type": "code",
   "execution_count": 72,
   "id": "mechanical-lucas",
   "metadata": {},
   "outputs": [
    {
     "name": "stdout",
     "output_type": "stream",
     "text": [
      "tahmin edilen: ham\n",
      "Gerçek: ham\n"
     ]
    }
   ],
   "source": [
    "print('tahmin edilen:', spam_model.predict(tfidfOrnek)[0])\n",
    "print('Gerçek:', sms.etiket[4])"
   ]
  },
  {
   "cell_type": "code",
   "execution_count": 73,
   "id": "waiting-stability",
   "metadata": {},
   "outputs": [],
   "source": [
    "# Modelin değerlendirilmesi\n",
    "butun_tahminler = spam_model.predict(mesaj_tfidf)"
   ]
  },
  {
   "cell_type": "code",
   "execution_count": 74,
   "id": "corresponding-catalog",
   "metadata": {},
   "outputs": [
    {
     "name": "stdout",
     "output_type": "stream",
     "text": [
      "              precision    recall  f1-score   support\n",
      "\n",
      "         ham       0.98      1.00      0.99      4825\n",
      "        spam       1.00      0.85      0.92       747\n",
      "\n",
      "    accuracy                           0.98      5572\n",
      "   macro avg       0.99      0.92      0.95      5572\n",
      "weighted avg       0.98      0.98      0.98      5572\n",
      "\n"
     ]
    }
   ],
   "source": [
    "from sklearn.metrics import classification_report\n",
    "print(classification_report(sms['etiket'], butun_tahminler))"
   ]
  },
  {
   "cell_type": "code",
   "execution_count": 75,
   "id": "numeric-thesaurus",
   "metadata": {},
   "outputs": [],
   "source": [
    "# Eğitim - Test setlerinin ayrılması\n",
    "from sklearn.model_selection import train_test_split\n",
    "\n",
    "sms_train, sms_test, label_train, label_test = train_test_split(sms['mesaj'], sms['etiket'], test_size=0.2)"
   ]
  },
  {
   "cell_type": "code",
   "execution_count": 77,
   "id": "personal-exclusion",
   "metadata": {},
   "outputs": [],
   "source": [
    "# Pipeline\n",
    "# https://scikit-learn.org/stable/modules/generated/sklearn.pipeline.Pipeline.html\n",
    "from sklearn.pipeline import Pipeline"
   ]
  },
  {
   "cell_type": "code",
   "execution_count": 78,
   "id": "consolidated-championship",
   "metadata": {},
   "outputs": [],
   "source": [
    "pipeline = Pipeline([\n",
    "    ('bow', CountVectorizer(analyzer=metin_isle)), # 1. adım, bag-of-word oluştur\n",
    "    ('tfidf', TfidfTransformer()), # bag-of-words -> TF-IDF skorları\n",
    "    ('classifier', MultinomialNB()), # train (eğitim)\n",
    "])"
   ]
  },
  {
   "cell_type": "code",
   "execution_count": 79,
   "id": "certain-richmond",
   "metadata": {},
   "outputs": [
    {
     "data": {
      "text/plain": [
       "Pipeline(steps=[('bow',\n",
       "                 CountVectorizer(analyzer=<function metin_isle at 0x000001F0585EC310>)),\n",
       "                ('tfidf', TfidfTransformer()),\n",
       "                ('classifier', MultinomialNB())])"
      ]
     },
     "execution_count": 79,
     "metadata": {},
     "output_type": "execute_result"
    }
   ],
   "source": [
    "pipeline.fit(sms_train, label_train)"
   ]
  },
  {
   "cell_type": "code",
   "execution_count": 80,
   "id": "egyptian-christian",
   "metadata": {},
   "outputs": [],
   "source": [
    "tahminler = pipeline.predict(sms_test)"
   ]
  },
  {
   "cell_type": "code",
   "execution_count": 82,
   "id": "established-organization",
   "metadata": {},
   "outputs": [
    {
     "name": "stdout",
     "output_type": "stream",
     "text": [
      "              precision    recall  f1-score   support\n",
      "\n",
      "         ham       1.00      0.95      0.98      1009\n",
      "        spam       0.70      1.00      0.82       106\n",
      "\n",
      "    accuracy                           0.96      1115\n",
      "   macro avg       0.85      0.98      0.90      1115\n",
      "weighted avg       0.97      0.96      0.96      1115\n",
      "\n"
     ]
    }
   ],
   "source": [
    "print(classification_report(tahminler, label_test))"
   ]
  },
  {
   "cell_type": "code",
   "execution_count": null,
   "id": "assumed-picture",
   "metadata": {},
   "outputs": [],
   "source": []
  }
 ],
 "metadata": {
  "kernelspec": {
   "display_name": "Python 3",
   "language": "python",
   "name": "python3"
  },
  "language_info": {
   "codemirror_mode": {
    "name": "ipython",
    "version": 3
   },
   "file_extension": ".py",
   "mimetype": "text/x-python",
   "name": "python",
   "nbconvert_exporter": "python",
   "pygments_lexer": "ipython3",
   "version": "3.8.8"
  }
 },
 "nbformat": 4,
 "nbformat_minor": 5
}
