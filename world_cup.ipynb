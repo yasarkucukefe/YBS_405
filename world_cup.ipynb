{
 "cells": [
  {
   "cell_type": "code",
   "execution_count": 1,
   "id": "55f42da6",
   "metadata": {},
   "outputs": [],
   "source": [
    "import pandas as pd\n",
    "import matplotlib.pyplot as plt"
   ]
  },
  {
   "cell_type": "code",
   "execution_count": 7,
   "id": "f5945b6a",
   "metadata": {},
   "outputs": [],
   "source": [
    "df = pd.read_csv('Data/fifa.txt')"
   ]
  },
  {
   "cell_type": "code",
   "execution_count": 8,
   "id": "9465b81f",
   "metadata": {},
   "outputs": [
    {
     "data": {
      "text/html": [
       "<div>\n",
       "<style scoped>\n",
       "    .dataframe tbody tr th:only-of-type {\n",
       "        vertical-align: middle;\n",
       "    }\n",
       "\n",
       "    .dataframe tbody tr th {\n",
       "        vertical-align: top;\n",
       "    }\n",
       "\n",
       "    .dataframe thead th {\n",
       "        text-align: right;\n",
       "    }\n",
       "</style>\n",
       "<table border=\"1\" class=\"dataframe\">\n",
       "  <thead>\n",
       "    <tr style=\"text-align: right;\">\n",
       "      <th></th>\n",
       "      <th>Year</th>\n",
       "      <th>Hosts</th>\n",
       "      <th>Venues/Cities</th>\n",
       "      <th>Totalattendance †</th>\n",
       "      <th>Matches</th>\n",
       "      <th>Averageattendance</th>\n",
       "      <th>highest attendence of Number</th>\n",
       "      <th>highest attendence of Venue</th>\n",
       "      <th>highest attendence of Game(s)</th>\n",
       "    </tr>\n",
       "  </thead>\n",
       "  <tbody>\n",
       "    <tr>\n",
       "      <th>0</th>\n",
       "      <td>1930</td>\n",
       "      <td>Uruguay</td>\n",
       "      <td>3/1</td>\n",
       "      <td>590,549</td>\n",
       "      <td>18</td>\n",
       "      <td>32,808</td>\n",
       "      <td>93,000</td>\n",
       "      <td>Estadio Centenario, Montevideo</td>\n",
       "      <td>Uruguay 6–1 Yugoslavia, Semi-final</td>\n",
       "    </tr>\n",
       "    <tr>\n",
       "      <th>1</th>\n",
       "      <td>1934</td>\n",
       "      <td>Italy</td>\n",
       "      <td>8/8</td>\n",
       "      <td>363,000</td>\n",
       "      <td>17</td>\n",
       "      <td>21,353</td>\n",
       "      <td>55,000</td>\n",
       "      <td>Stadio Nazionale PNF, Rome</td>\n",
       "      <td>Italy 2–1 Czechoslovakia, Final</td>\n",
       "    </tr>\n",
       "    <tr>\n",
       "      <th>2</th>\n",
       "      <td>1938</td>\n",
       "      <td>France</td>\n",
       "      <td>10/9</td>\n",
       "      <td>375,700</td>\n",
       "      <td>18</td>\n",
       "      <td>20,872</td>\n",
       "      <td>58,455</td>\n",
       "      <td>Olympique de Colombes, Paris</td>\n",
       "      <td>France 1–3 Italy, Quarter-final</td>\n",
       "    </tr>\n",
       "    <tr>\n",
       "      <th>3</th>\n",
       "      <td>1950</td>\n",
       "      <td>Brazil</td>\n",
       "      <td>6/6</td>\n",
       "      <td>1,045,246</td>\n",
       "      <td>22</td>\n",
       "      <td>47,511</td>\n",
       "      <td>173,850[86]</td>\n",
       "      <td>Maracanã Stadium, Rio de Janeiro</td>\n",
       "      <td>Brazil 1–2 Uruguay, Deciding match</td>\n",
       "    </tr>\n",
       "    <tr>\n",
       "      <th>4</th>\n",
       "      <td>1954</td>\n",
       "      <td>Switzerland</td>\n",
       "      <td>6/6</td>\n",
       "      <td>768,607</td>\n",
       "      <td>26</td>\n",
       "      <td>29,562</td>\n",
       "      <td>63,000</td>\n",
       "      <td>Wankdorf Stadium, Bern</td>\n",
       "      <td>West Germany 3–2 Hungary, Final</td>\n",
       "    </tr>\n",
       "  </tbody>\n",
       "</table>\n",
       "</div>"
      ],
      "text/plain": [
       "   Year         Hosts Venues/Cities Totalattendance †  Matches  \\\n",
       "0  1930       Uruguay           3/1           590,549       18   \n",
       "1  1934         Italy           8/8           363,000       17   \n",
       "2  1938        France          10/9           375,700       18   \n",
       "3  1950        Brazil           6/6         1,045,246       22   \n",
       "4  1954   Switzerland           6/6           768,607       26   \n",
       "\n",
       "  Averageattendance highest attendence of Number  \\\n",
       "0            32,808                       93,000   \n",
       "1            21,353                       55,000   \n",
       "2            20,872                       58,455   \n",
       "3            47,511                  173,850[86]   \n",
       "4            29,562                       63,000   \n",
       "\n",
       "        highest attendence of Venue       highest attendence of Game(s)  \n",
       "0    Estadio Centenario, Montevideo  Uruguay 6–1 Yugoslavia, Semi-final  \n",
       "1        Stadio Nazionale PNF, Rome     Italy 2–1 Czechoslovakia, Final  \n",
       "2      Olympique de Colombes, Paris     France 1–3 Italy, Quarter-final  \n",
       "3  Maracanã Stadium, Rio de Janeiro  Brazil 1–2 Uruguay, Deciding match  \n",
       "4            Wankdorf Stadium, Bern     West Germany 3–2 Hungary, Final  "
      ]
     },
     "execution_count": 8,
     "metadata": {},
     "output_type": "execute_result"
    }
   ],
   "source": [
    "df.head()"
   ]
  },
  {
   "cell_type": "code",
   "execution_count": 9,
   "id": "060d8eb2",
   "metadata": {},
   "outputs": [
    {
     "name": "stdout",
     "output_type": "stream",
     "text": [
      "<class 'pandas.core.frame.DataFrame'>\n",
      "RangeIndex: 21 entries, 0 to 20\n",
      "Data columns (total 9 columns):\n",
      " #   Column                         Non-Null Count  Dtype \n",
      "---  ------                         --------------  ----- \n",
      " 0   Year                           21 non-null     int64 \n",
      " 1   Hosts                          21 non-null     object\n",
      " 2   Venues/Cities                  21 non-null     object\n",
      " 3   Totalattendance †              21 non-null     object\n",
      " 4   Matches                        21 non-null     int64 \n",
      " 5   Averageattendance              21 non-null     object\n",
      " 6   highest attendence of Number   21 non-null     object\n",
      " 7   highest attendence of Venue    21 non-null     object\n",
      " 8   highest attendence of Game(s)  21 non-null     object\n",
      "dtypes: int64(2), object(7)\n",
      "memory usage: 1.6+ KB\n"
     ]
    }
   ],
   "source": [
    "df.info()"
   ]
  },
  {
   "cell_type": "code",
   "execution_count": 14,
   "id": "c7f27ee9",
   "metadata": {},
   "outputs": [
    {
     "name": "stderr",
     "output_type": "stream",
     "text": [
      "C:\\Users\\yasar\\AppData\\Local\\Temp\\ipykernel_10468\\1274527199.py:1: FutureWarning: In a future version of pandas all arguments of StringMethods.split except for the argument 'pat' will be keyword-only.\n",
      "  df[['Venue','Cities']] = df['Venues/Cities'].str.split('/',1,expand=True)\n"
     ]
    }
   ],
   "source": [
    " df[['Venue','Cities']] = df['Venues/Cities'].str.split('/',1,expand=True)"
   ]
  },
  {
   "cell_type": "code",
   "execution_count": 15,
   "id": "33c2d38f",
   "metadata": {},
   "outputs": [
    {
     "data": {
      "text/html": [
       "<div>\n",
       "<style scoped>\n",
       "    .dataframe tbody tr th:only-of-type {\n",
       "        vertical-align: middle;\n",
       "    }\n",
       "\n",
       "    .dataframe tbody tr th {\n",
       "        vertical-align: top;\n",
       "    }\n",
       "\n",
       "    .dataframe thead th {\n",
       "        text-align: right;\n",
       "    }\n",
       "</style>\n",
       "<table border=\"1\" class=\"dataframe\">\n",
       "  <thead>\n",
       "    <tr style=\"text-align: right;\">\n",
       "      <th></th>\n",
       "      <th>Year</th>\n",
       "      <th>Hosts</th>\n",
       "      <th>Venues/Cities</th>\n",
       "      <th>Totalattendance †</th>\n",
       "      <th>Matches</th>\n",
       "      <th>Averageattendance</th>\n",
       "      <th>highest attendence of Number</th>\n",
       "      <th>highest attendence of Venue</th>\n",
       "      <th>highest attendence of Game(s)</th>\n",
       "      <th>Venue</th>\n",
       "      <th>Cities</th>\n",
       "    </tr>\n",
       "  </thead>\n",
       "  <tbody>\n",
       "    <tr>\n",
       "      <th>0</th>\n",
       "      <td>1930</td>\n",
       "      <td>Uruguay</td>\n",
       "      <td>3/1</td>\n",
       "      <td>590,549</td>\n",
       "      <td>18</td>\n",
       "      <td>32,808</td>\n",
       "      <td>93,000</td>\n",
       "      <td>Estadio Centenario, Montevideo</td>\n",
       "      <td>Uruguay 6–1 Yugoslavia, Semi-final</td>\n",
       "      <td>3</td>\n",
       "      <td>1</td>\n",
       "    </tr>\n",
       "    <tr>\n",
       "      <th>1</th>\n",
       "      <td>1934</td>\n",
       "      <td>Italy</td>\n",
       "      <td>8/8</td>\n",
       "      <td>363,000</td>\n",
       "      <td>17</td>\n",
       "      <td>21,353</td>\n",
       "      <td>55,000</td>\n",
       "      <td>Stadio Nazionale PNF, Rome</td>\n",
       "      <td>Italy 2–1 Czechoslovakia, Final</td>\n",
       "      <td>8</td>\n",
       "      <td>8</td>\n",
       "    </tr>\n",
       "    <tr>\n",
       "      <th>2</th>\n",
       "      <td>1938</td>\n",
       "      <td>France</td>\n",
       "      <td>10/9</td>\n",
       "      <td>375,700</td>\n",
       "      <td>18</td>\n",
       "      <td>20,872</td>\n",
       "      <td>58,455</td>\n",
       "      <td>Olympique de Colombes, Paris</td>\n",
       "      <td>France 1–3 Italy, Quarter-final</td>\n",
       "      <td>10</td>\n",
       "      <td>9</td>\n",
       "    </tr>\n",
       "    <tr>\n",
       "      <th>3</th>\n",
       "      <td>1950</td>\n",
       "      <td>Brazil</td>\n",
       "      <td>6/6</td>\n",
       "      <td>1,045,246</td>\n",
       "      <td>22</td>\n",
       "      <td>47,511</td>\n",
       "      <td>173,850[86]</td>\n",
       "      <td>Maracanã Stadium, Rio de Janeiro</td>\n",
       "      <td>Brazil 1–2 Uruguay, Deciding match</td>\n",
       "      <td>6</td>\n",
       "      <td>6</td>\n",
       "    </tr>\n",
       "    <tr>\n",
       "      <th>4</th>\n",
       "      <td>1954</td>\n",
       "      <td>Switzerland</td>\n",
       "      <td>6/6</td>\n",
       "      <td>768,607</td>\n",
       "      <td>26</td>\n",
       "      <td>29,562</td>\n",
       "      <td>63,000</td>\n",
       "      <td>Wankdorf Stadium, Bern</td>\n",
       "      <td>West Germany 3–2 Hungary, Final</td>\n",
       "      <td>6</td>\n",
       "      <td>6</td>\n",
       "    </tr>\n",
       "  </tbody>\n",
       "</table>\n",
       "</div>"
      ],
      "text/plain": [
       "   Year         Hosts Venues/Cities Totalattendance †  Matches  \\\n",
       "0  1930       Uruguay           3/1           590,549       18   \n",
       "1  1934         Italy           8/8           363,000       17   \n",
       "2  1938        France          10/9           375,700       18   \n",
       "3  1950        Brazil           6/6         1,045,246       22   \n",
       "4  1954   Switzerland           6/6           768,607       26   \n",
       "\n",
       "  Averageattendance highest attendence of Number  \\\n",
       "0            32,808                       93,000   \n",
       "1            21,353                       55,000   \n",
       "2            20,872                       58,455   \n",
       "3            47,511                  173,850[86]   \n",
       "4            29,562                       63,000   \n",
       "\n",
       "        highest attendence of Venue       highest attendence of Game(s) Venue  \\\n",
       "0    Estadio Centenario, Montevideo  Uruguay 6–1 Yugoslavia, Semi-final     3   \n",
       "1        Stadio Nazionale PNF, Rome     Italy 2–1 Czechoslovakia, Final     8   \n",
       "2      Olympique de Colombes, Paris     France 1–3 Italy, Quarter-final    10   \n",
       "3  Maracanã Stadium, Rio de Janeiro  Brazil 1–2 Uruguay, Deciding match     6   \n",
       "4            Wankdorf Stadium, Bern     West Germany 3–2 Hungary, Final     6   \n",
       "\n",
       "  Cities  \n",
       "0      1  \n",
       "1      8  \n",
       "2      9  \n",
       "3      6  \n",
       "4      6  "
      ]
     },
     "execution_count": 15,
     "metadata": {},
     "output_type": "execute_result"
    }
   ],
   "source": [
    "df.head()"
   ]
  },
  {
   "cell_type": "code",
   "execution_count": 18,
   "id": "265c9127",
   "metadata": {},
   "outputs": [],
   "source": [
    "df.drop(labels='Venues/Cities',axis=1,inplace=True)"
   ]
  },
  {
   "cell_type": "code",
   "execution_count": 19,
   "id": "37bb25a4",
   "metadata": {},
   "outputs": [
    {
     "data": {
      "text/html": [
       "<div>\n",
       "<style scoped>\n",
       "    .dataframe tbody tr th:only-of-type {\n",
       "        vertical-align: middle;\n",
       "    }\n",
       "\n",
       "    .dataframe tbody tr th {\n",
       "        vertical-align: top;\n",
       "    }\n",
       "\n",
       "    .dataframe thead th {\n",
       "        text-align: right;\n",
       "    }\n",
       "</style>\n",
       "<table border=\"1\" class=\"dataframe\">\n",
       "  <thead>\n",
       "    <tr style=\"text-align: right;\">\n",
       "      <th></th>\n",
       "      <th>Year</th>\n",
       "      <th>Hosts</th>\n",
       "      <th>Totalattendance †</th>\n",
       "      <th>Matches</th>\n",
       "      <th>Averageattendance</th>\n",
       "      <th>highest attendence of Number</th>\n",
       "      <th>highest attendence of Venue</th>\n",
       "      <th>highest attendence of Game(s)</th>\n",
       "      <th>Venue</th>\n",
       "      <th>Cities</th>\n",
       "    </tr>\n",
       "  </thead>\n",
       "  <tbody>\n",
       "    <tr>\n",
       "      <th>0</th>\n",
       "      <td>1930</td>\n",
       "      <td>Uruguay</td>\n",
       "      <td>590,549</td>\n",
       "      <td>18</td>\n",
       "      <td>32,808</td>\n",
       "      <td>93,000</td>\n",
       "      <td>Estadio Centenario, Montevideo</td>\n",
       "      <td>Uruguay 6–1 Yugoslavia, Semi-final</td>\n",
       "      <td>3</td>\n",
       "      <td>1</td>\n",
       "    </tr>\n",
       "    <tr>\n",
       "      <th>1</th>\n",
       "      <td>1934</td>\n",
       "      <td>Italy</td>\n",
       "      <td>363,000</td>\n",
       "      <td>17</td>\n",
       "      <td>21,353</td>\n",
       "      <td>55,000</td>\n",
       "      <td>Stadio Nazionale PNF, Rome</td>\n",
       "      <td>Italy 2–1 Czechoslovakia, Final</td>\n",
       "      <td>8</td>\n",
       "      <td>8</td>\n",
       "    </tr>\n",
       "    <tr>\n",
       "      <th>2</th>\n",
       "      <td>1938</td>\n",
       "      <td>France</td>\n",
       "      <td>375,700</td>\n",
       "      <td>18</td>\n",
       "      <td>20,872</td>\n",
       "      <td>58,455</td>\n",
       "      <td>Olympique de Colombes, Paris</td>\n",
       "      <td>France 1–3 Italy, Quarter-final</td>\n",
       "      <td>10</td>\n",
       "      <td>9</td>\n",
       "    </tr>\n",
       "    <tr>\n",
       "      <th>3</th>\n",
       "      <td>1950</td>\n",
       "      <td>Brazil</td>\n",
       "      <td>1,045,246</td>\n",
       "      <td>22</td>\n",
       "      <td>47,511</td>\n",
       "      <td>173,850[86]</td>\n",
       "      <td>Maracanã Stadium, Rio de Janeiro</td>\n",
       "      <td>Brazil 1–2 Uruguay, Deciding match</td>\n",
       "      <td>6</td>\n",
       "      <td>6</td>\n",
       "    </tr>\n",
       "    <tr>\n",
       "      <th>4</th>\n",
       "      <td>1954</td>\n",
       "      <td>Switzerland</td>\n",
       "      <td>768,607</td>\n",
       "      <td>26</td>\n",
       "      <td>29,562</td>\n",
       "      <td>63,000</td>\n",
       "      <td>Wankdorf Stadium, Bern</td>\n",
       "      <td>West Germany 3–2 Hungary, Final</td>\n",
       "      <td>6</td>\n",
       "      <td>6</td>\n",
       "    </tr>\n",
       "  </tbody>\n",
       "</table>\n",
       "</div>"
      ],
      "text/plain": [
       "   Year         Hosts Totalattendance †  Matches Averageattendance  \\\n",
       "0  1930       Uruguay           590,549       18            32,808   \n",
       "1  1934         Italy           363,000       17            21,353   \n",
       "2  1938        France           375,700       18            20,872   \n",
       "3  1950        Brazil         1,045,246       22            47,511   \n",
       "4  1954   Switzerland           768,607       26            29,562   \n",
       "\n",
       "  highest attendence of Number       highest attendence of Venue  \\\n",
       "0                       93,000    Estadio Centenario, Montevideo   \n",
       "1                       55,000        Stadio Nazionale PNF, Rome   \n",
       "2                       58,455      Olympique de Colombes, Paris   \n",
       "3                  173,850[86]  Maracanã Stadium, Rio de Janeiro   \n",
       "4                       63,000            Wankdorf Stadium, Bern   \n",
       "\n",
       "        highest attendence of Game(s) Venue Cities  \n",
       "0  Uruguay 6–1 Yugoslavia, Semi-final     3      1  \n",
       "1     Italy 2–1 Czechoslovakia, Final     8      8  \n",
       "2     France 1–3 Italy, Quarter-final    10      9  \n",
       "3  Brazil 1–2 Uruguay, Deciding match     6      6  \n",
       "4     West Germany 3–2 Hungary, Final     6      6  "
      ]
     },
     "execution_count": 19,
     "metadata": {},
     "output_type": "execute_result"
    }
   ],
   "source": [
    "df.head()"
   ]
  },
  {
   "cell_type": "code",
   "execution_count": 20,
   "id": "25194790",
   "metadata": {},
   "outputs": [
    {
     "name": "stdout",
     "output_type": "stream",
     "text": [
      "<class 'pandas.core.frame.DataFrame'>\n",
      "RangeIndex: 21 entries, 0 to 20\n",
      "Data columns (total 10 columns):\n",
      " #   Column                         Non-Null Count  Dtype \n",
      "---  ------                         --------------  ----- \n",
      " 0   Year                           21 non-null     int64 \n",
      " 1   Hosts                          21 non-null     object\n",
      " 2   Totalattendance †              21 non-null     object\n",
      " 3   Matches                        21 non-null     int64 \n",
      " 4   Averageattendance              21 non-null     object\n",
      " 5   highest attendence of Number   21 non-null     object\n",
      " 6   highest attendence of Venue    21 non-null     object\n",
      " 7   highest attendence of Game(s)  21 non-null     object\n",
      " 8   Venue                          21 non-null     object\n",
      " 9   Cities                         21 non-null     object\n",
      "dtypes: int64(2), object(8)\n",
      "memory usage: 1.8+ KB\n"
     ]
    }
   ],
   "source": [
    "df.info()"
   ]
  },
  {
   "cell_type": "code",
   "execution_count": 23,
   "id": "6e4b8350",
   "metadata": {},
   "outputs": [],
   "source": [
    "df['Averageattendance'] = df['Averageattendance'].str.replace(',','').astype('int')"
   ]
  },
  {
   "cell_type": "code",
   "execution_count": 24,
   "id": "6ce3e3f2",
   "metadata": {},
   "outputs": [
    {
     "name": "stdout",
     "output_type": "stream",
     "text": [
      "<class 'pandas.core.frame.DataFrame'>\n",
      "RangeIndex: 21 entries, 0 to 20\n",
      "Data columns (total 10 columns):\n",
      " #   Column                         Non-Null Count  Dtype \n",
      "---  ------                         --------------  ----- \n",
      " 0   Year                           21 non-null     int64 \n",
      " 1   Hosts                          21 non-null     object\n",
      " 2   Totalattendance †              21 non-null     object\n",
      " 3   Matches                        21 non-null     int64 \n",
      " 4   Averageattendance              21 non-null     int32 \n",
      " 5   highest attendence of Number   21 non-null     object\n",
      " 6   highest attendence of Venue    21 non-null     object\n",
      " 7   highest attendence of Game(s)  21 non-null     object\n",
      " 8   Venue                          21 non-null     object\n",
      " 9   Cities                         21 non-null     object\n",
      "dtypes: int32(1), int64(2), object(7)\n",
      "memory usage: 1.7+ KB\n"
     ]
    }
   ],
   "source": [
    "df.info()"
   ]
  },
  {
   "cell_type": "code",
   "execution_count": 25,
   "id": "4c86d5eb",
   "metadata": {},
   "outputs": [
    {
     "data": {
      "text/plain": [
       "0          93,000\n",
       "1          55,000\n",
       "2          58,455\n",
       "3     173,850[86]\n",
       "4          63,000\n",
       "5          50,928\n",
       "6          68,679\n",
       "7          98,270\n",
       "8         108,192\n",
       "9          83,168\n",
       "10         71,712\n",
       "11         95,500\n",
       "12        114,600\n",
       "13         74,765\n",
       "14         94,194\n",
       "15         80,000\n",
       "16         69,029\n",
       "17         72,000\n",
       "18         84,490\n",
       "19         74,738\n",
       "20         78,011\n",
       "Name: highest attendence of Number, dtype: object"
      ]
     },
     "execution_count": 25,
     "metadata": {},
     "output_type": "execute_result"
    }
   ],
   "source": [
    "df['highest attendence of Number']"
   ]
  },
  {
   "cell_type": "code",
   "execution_count": 27,
   "id": "0541bbaa",
   "metadata": {},
   "outputs": [
    {
     "name": "stderr",
     "output_type": "stream",
     "text": [
      "C:\\Users\\yasar\\AppData\\Local\\Temp\\ipykernel_10468\\1107061217.py:1: SettingWithCopyWarning: \n",
      "A value is trying to be set on a copy of a slice from a DataFrame\n",
      "\n",
      "See the caveats in the documentation: https://pandas.pydata.org/pandas-docs/stable/user_guide/indexing.html#returning-a-view-versus-a-copy\n",
      "  df['highest attendence of Number'].iloc[3] = '173,850'\n"
     ]
    }
   ],
   "source": [
    "df['highest attendence of Number'].iloc[3] = '173,850'"
   ]
  },
  {
   "cell_type": "code",
   "execution_count": 28,
   "id": "c1fc9f50",
   "metadata": {},
   "outputs": [
    {
     "data": {
      "text/plain": [
       "0      93,000\n",
       "1      55,000\n",
       "2      58,455\n",
       "3     173,850\n",
       "4      63,000\n",
       "5      50,928\n",
       "6      68,679\n",
       "7      98,270\n",
       "8     108,192\n",
       "9      83,168\n",
       "10     71,712\n",
       "11     95,500\n",
       "12    114,600\n",
       "13     74,765\n",
       "14     94,194\n",
       "15     80,000\n",
       "16     69,029\n",
       "17     72,000\n",
       "18     84,490\n",
       "19     74,738\n",
       "20     78,011\n",
       "Name: highest attendence of Number, dtype: object"
      ]
     },
     "execution_count": 28,
     "metadata": {},
     "output_type": "execute_result"
    }
   ],
   "source": [
    "df['highest attendence of Number']"
   ]
  },
  {
   "cell_type": "code",
   "execution_count": 29,
   "id": "c578ec4c",
   "metadata": {},
   "outputs": [],
   "source": [
    "df['highest attendence of Number'] = df['highest attendence of Number'].str.replace(',','').astype('int')"
   ]
  },
  {
   "cell_type": "code",
   "execution_count": 30,
   "id": "f1e7da4d",
   "metadata": {},
   "outputs": [
    {
     "name": "stdout",
     "output_type": "stream",
     "text": [
      "<class 'pandas.core.frame.DataFrame'>\n",
      "RangeIndex: 21 entries, 0 to 20\n",
      "Data columns (total 10 columns):\n",
      " #   Column                         Non-Null Count  Dtype \n",
      "---  ------                         --------------  ----- \n",
      " 0   Year                           21 non-null     int64 \n",
      " 1   Hosts                          21 non-null     object\n",
      " 2   Totalattendance †              21 non-null     object\n",
      " 3   Matches                        21 non-null     int64 \n",
      " 4   Averageattendance              21 non-null     int32 \n",
      " 5   highest attendence of Number   21 non-null     int32 \n",
      " 6   highest attendence of Venue    21 non-null     object\n",
      " 7   highest attendence of Game(s)  21 non-null     object\n",
      " 8   Venue                          21 non-null     object\n",
      " 9   Cities                         21 non-null     object\n",
      "dtypes: int32(2), int64(2), object(6)\n",
      "memory usage: 1.6+ KB\n"
     ]
    }
   ],
   "source": [
    "df.info()"
   ]
  }
 ],
 "metadata": {
  "kernelspec": {
   "display_name": "Python 3 (ipykernel)",
   "language": "python",
   "name": "python3"
  },
  "language_info": {
   "codemirror_mode": {
    "name": "ipython",
    "version": 3
   },
   "file_extension": ".py",
   "mimetype": "text/x-python",
   "name": "python",
   "nbconvert_exporter": "python",
   "pygments_lexer": "ipython3",
   "version": "3.10.8"
  }
 },
 "nbformat": 4,
 "nbformat_minor": 5
}
