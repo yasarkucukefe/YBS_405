{
 "cells": [
  {
   "cell_type": "markdown",
   "id": "db09b28e",
   "metadata": {},
   "source": [
    "## Titanic Veri Seti\n",
    "### EDA : Keşifsel Veri Analizi (Exploratory Data Analyis)\n",
    "https://tr.wikipedia.org/wiki/Ke%C5%9Fifsel_veri_analizi"
   ]
  },
  {
   "cell_type": "code",
   "execution_count": 1,
   "id": "389817d2",
   "metadata": {},
   "outputs": [],
   "source": [
    "import numpy as np\n",
    "import pandas as pd\n",
    "import matplotlib.pyplot as plt\n",
    "import seaborn as sns\n",
    "plt.style.use('fivethirtyeight')\n",
    "import warnings\n",
    "warnings.filterwarnings('ignore')\n",
    "%matplotlib inline"
   ]
  },
  {
   "cell_type": "code",
   "execution_count": 31,
   "id": "4043e982",
   "metadata": {},
   "outputs": [],
   "source": [
    "# Veri seti\n",
    "data = pd.read_csv(\"https://raw.githubusercontent.com/yasarkucukefe/YBS_405/main/data/titanic.csv\")"
   ]
  },
  {
   "cell_type": "code",
   "execution_count": 3,
   "id": "0181fb75",
   "metadata": {},
   "outputs": [
    {
     "data": {
      "text/plain": [
       "(892, 12)"
      ]
     },
     "execution_count": 3,
     "metadata": {},
     "output_type": "execute_result"
    }
   ],
   "source": [
    "# Kaç tane kayıt var?\n",
    "data.shape"
   ]
  },
  {
   "cell_type": "code",
   "execution_count": 4,
   "id": "3ceaa581",
   "metadata": {},
   "outputs": [
    {
     "data": {
      "text/plain": [
       "PassengerId      0\n",
       "Survived         0\n",
       "Pclass           0\n",
       "Name             0\n",
       "Sex              0\n",
       "Age            177\n",
       "SibSp            0\n",
       "Parch            0\n",
       "Ticket           0\n",
       "Fare             0\n",
       "Cabin          688\n",
       "Embarked         2\n",
       "dtype: int64"
      ]
     },
     "execution_count": 4,
     "metadata": {},
     "output_type": "execute_result"
    }
   ],
   "source": [
    "# Bir değer olmayan kayıtlar (null)\n",
    "data.isnull().sum()"
   ]
  },
  {
   "cell_type": "code",
   "execution_count": 32,
   "id": "e3b32cc6",
   "metadata": {},
   "outputs": [],
   "source": [
    "for i in data:\n",
    "    data['Initial']=data.Name.str.extract('([A-Za-z]+)\\.')"
   ]
  },
  {
   "cell_type": "code",
   "execution_count": 33,
   "id": "d4b56bb5",
   "metadata": {},
   "outputs": [],
   "source": [
    "data['Initial'].replace(['Mlle','Mme','Ms','Dr','Major','Lady','Countess','Jonkheer','Col','Rev','Capt','Sir','Don'],\n",
    "                        ['Miss','Miss','Miss','Mr','Mr','Mrs','Mrs','Mr','Mr','Mr','Mr','Mr','Mr'],inplace=True)"
   ]
  },
  {
   "cell_type": "code",
   "execution_count": 11,
   "id": "c4857266",
   "metadata": {},
   "outputs": [
    {
     "data": {
      "text/plain": [
       "Mr        539\n",
       "Miss      186\n",
       "Mrs       127\n",
       "Master     40\n",
       "Name: Initial, dtype: int64"
      ]
     },
     "execution_count": 11,
     "metadata": {},
     "output_type": "execute_result"
    }
   ],
   "source": [
    "data['Initial'].value_counts()"
   ]
  },
  {
   "cell_type": "code",
   "execution_count": 12,
   "id": "776b9f71",
   "metadata": {},
   "outputs": [
    {
     "data": {
      "text/plain": [
       "Initial\n",
       "Master     4.574167\n",
       "Miss      21.860000\n",
       "Mr        33.020286\n",
       "Mrs       35.981818\n",
       "Name: Age, dtype: float64"
      ]
     },
     "execution_count": 12,
     "metadata": {},
     "output_type": "execute_result"
    }
   ],
   "source": [
    "data.groupby('Initial')['Age'].mean()"
   ]
  },
  {
   "cell_type": "code",
   "execution_count": 34,
   "id": "9f23f0b2",
   "metadata": {},
   "outputs": [],
   "source": [
    "data.loc[(data.Age.isnull())&(data.Initial=='Mr'),'Age'] = 33\n",
    "data.loc[(data.Age.isnull())&(data.Initial=='Mrs'),'Age'] = 36\n",
    "data.loc[(data.Age.isnull())&(data.Initial=='Master'),'Age'] = 5\n",
    "data.loc[(data.Age.isnull())&(data.Initial=='Miss'),'Age'] = 22\n",
    "data.loc[(data.Age.isnull())&(data.Initial=='Other'),'Age'] = 38"
   ]
  },
  {
   "cell_type": "code",
   "execution_count": 14,
   "id": "83cb962a",
   "metadata": {},
   "outputs": [
    {
     "data": {
      "text/plain": [
       "False"
      ]
     },
     "execution_count": 14,
     "metadata": {},
     "output_type": "execute_result"
    }
   ],
   "source": [
    "# Null değer var mı kontrolü?\n",
    "data.Age.isnull().any()"
   ]
  },
  {
   "cell_type": "code",
   "execution_count": 35,
   "id": "753f9316",
   "metadata": {},
   "outputs": [
    {
     "data": {
      "text/plain": [
       "PassengerId      0\n",
       "Survived         0\n",
       "Pclass           0\n",
       "Name             0\n",
       "Sex              0\n",
       "Age              0\n",
       "SibSp            0\n",
       "Parch            0\n",
       "Ticket           0\n",
       "Fare             0\n",
       "Cabin          688\n",
       "Embarked         2\n",
       "Initial          0\n",
       "dtype: int64"
      ]
     },
     "execution_count": 35,
     "metadata": {},
     "output_type": "execute_result"
    }
   ],
   "source": [
    "data.isnull().sum()"
   ]
  },
  {
   "cell_type": "code",
   "execution_count": 16,
   "id": "c257f0c6",
   "metadata": {},
   "outputs": [
    {
     "data": {
      "image/png": "[encoded data removed]",
      "text/plain": [
       "<Figure size 1200x800 with 2 Axes>"
      ]
     },
     "metadata": {},
     "output_type": "display_data"
    }
   ],
   "source": [
    "# Isı haritası\n",
    "sns.heatmap(data.corr(), annot=True, cmap='RdYlGn', linewidths=0.2)\n",
    "fig = plt.gcf()\n",
    "fig.set_size_inches(12,8)"
   ]
  },
  {
   "cell_type": "code",
   "execution_count": 17,
   "id": "36d3f36e",
   "metadata": {},
   "outputs": [],
   "source": [
    "## 14. Hafta"
   ]
  },
  {
   "cell_type": "code",
   "execution_count": 18,
   "id": "aa53bc52",
   "metadata": {},
   "outputs": [
    {
     "data": {
      "text/plain": [
       "<seaborn.axisgrid.FacetGrid at 0x21ea097f5e0>"
      ]
     },
     "execution_count": 18,
     "metadata": {},
     "output_type": "execute_result"
    },
    {
     "data": {
      "image/png": "[encoded data removed]",
      "text/plain": [
       "<Figure size 600x300 with 2 Axes>"
      ]
     },
     "metadata": {},
     "output_type": "display_data"
    }
   ],
   "source": [
    "# Yaşa bağlı olarak kurtulup kurtulamama (survival)\n",
    "g = sns.FacetGrid(data, col='Survived')\n",
    "g.map(plt.hist, 'Age', bins=20)"
   ]
  },
  {
   "cell_type": "code",
   "execution_count": 21,
   "id": "a71aa160",
   "metadata": {},
   "outputs": [
    {
     "data": {
      "text/plain": [
       "<seaborn.axisgrid.FacetGrid at 0x21ea0bd6ec0>"
      ]
     },
     "execution_count": 21,
     "metadata": {},
     "output_type": "execute_result"
    },
    {
     "data": {
      "image/png": "[encoded data removed]",
      "text/plain": [
       "<Figure size 615.556x900 with 6 Axes>"
      ]
     },
     "metadata": {},
     "output_type": "display_data"
    }
   ],
   "source": [
    "# yaşa ve seyahat edilen sınıfa bağlı kurtulup kurtulmama durumu\n",
    "plt.rcParams[\"figure.figsize\"] = (12,8)\n",
    "g = sns.FacetGrid(data, col='Survived', row='Pclass')\n",
    "g.map(plt.hist, 'Age', alpha=0.5, bins=20)\n",
    "g.add_legend()"
   ]
  },
  {
   "cell_type": "markdown",
   "id": "5862584c",
   "metadata": {},
   "source": [
    "## Makine Öğrenmesi Modelleri"
   ]
  },
  {
   "cell_type": "code",
   "execution_count": 22,
   "id": "8ad69112",
   "metadata": {},
   "outputs": [],
   "source": [
    "from sklearn.linear_model import LogisticRegression, Perceptron, SGDClassifier\n",
    "from sklearn.svm import SVC, LinearSVC\n",
    "from sklearn.ensemble import RandomForestClassifier\n",
    "from sklearn.neighbors import KNeighborsClassifier\n",
    "from sklearn.naive_bayes import GaussianNB\n",
    "from sklearn.tree import DecisionTreeClassifier"
   ]
  },
  {
   "cell_type": "code",
   "execution_count": 36,
   "id": "42e3d0eb",
   "metadata": {},
   "outputs": [],
   "source": [
    "# Verinin hazırlanması\n",
    "# Kullanılmayacaklar => drop\n",
    "data.drop(\"PassengerId\",axis=1,inplace=True)\n",
    "data.drop(\"Ticket\",axis=1,inplace=True)\n",
    "data.drop(\"Cabin\",axis=1,inplace=True)\n",
    "data.drop(\"Embarked\",axis=1,inplace=True)\n",
    "data.drop(\"Name\",axis=1,inplace=True)"
   ]
  },
  {
   "cell_type": "code",
   "execution_count": 37,
   "id": "f9d11e50",
   "metadata": {},
   "outputs": [
    {
     "data": {
      "text/html": [
       "<div>\n",
       "<style scoped>\n",
       "    .dataframe tbody tr th:only-of-type {\n",
       "        vertical-align: middle;\n",
       "    }\n",
       "\n",
       "    .dataframe tbody tr th {\n",
       "        vertical-align: top;\n",
       "    }\n",
       "\n",
       "    .dataframe thead th {\n",
       "        text-align: right;\n",
       "    }\n",
       "</style>\n",
       "<table border=\"1\" class=\"dataframe\">\n",
       "  <thead>\n",
       "    <tr style=\"text-align: right;\">\n",
       "      <th></th>\n",
       "      <th>Survived</th>\n",
       "      <th>Pclass</th>\n",
       "      <th>Sex</th>\n",
       "      <th>Age</th>\n",
       "      <th>SibSp</th>\n",
       "      <th>Parch</th>\n",
       "      <th>Fare</th>\n",
       "      <th>Initial</th>\n",
       "    </tr>\n",
       "  </thead>\n",
       "  <tbody>\n",
       "    <tr>\n",
       "      <th>0</th>\n",
       "      <td>0</td>\n",
       "      <td>3</td>\n",
       "      <td>male</td>\n",
       "      <td>22.0</td>\n",
       "      <td>1</td>\n",
       "      <td>0</td>\n",
       "      <td>7.2500</td>\n",
       "      <td>Mr</td>\n",
       "    </tr>\n",
       "    <tr>\n",
       "      <th>1</th>\n",
       "      <td>1</td>\n",
       "      <td>1</td>\n",
       "      <td>female</td>\n",
       "      <td>38.0</td>\n",
       "      <td>1</td>\n",
       "      <td>0</td>\n",
       "      <td>71.2833</td>\n",
       "      <td>Mrs</td>\n",
       "    </tr>\n",
       "    <tr>\n",
       "      <th>2</th>\n",
       "      <td>1</td>\n",
       "      <td>3</td>\n",
       "      <td>female</td>\n",
       "      <td>26.0</td>\n",
       "      <td>0</td>\n",
       "      <td>0</td>\n",
       "      <td>7.9250</td>\n",
       "      <td>Miss</td>\n",
       "    </tr>\n",
       "    <tr>\n",
       "      <th>3</th>\n",
       "      <td>1</td>\n",
       "      <td>1</td>\n",
       "      <td>female</td>\n",
       "      <td>35.0</td>\n",
       "      <td>1</td>\n",
       "      <td>0</td>\n",
       "      <td>53.1000</td>\n",
       "      <td>Mrs</td>\n",
       "    </tr>\n",
       "    <tr>\n",
       "      <th>4</th>\n",
       "      <td>0</td>\n",
       "      <td>3</td>\n",
       "      <td>male</td>\n",
       "      <td>35.0</td>\n",
       "      <td>0</td>\n",
       "      <td>0</td>\n",
       "      <td>8.0500</td>\n",
       "      <td>Mr</td>\n",
       "    </tr>\n",
       "  </tbody>\n",
       "</table>\n",
       "</div>"
      ],
      "text/plain": [
       "   Survived  Pclass     Sex   Age  SibSp  Parch     Fare Initial\n",
       "0         0       3    male  22.0      1      0   7.2500      Mr\n",
       "1         1       1  female  38.0      1      0  71.2833     Mrs\n",
       "2         1       3  female  26.0      0      0   7.9250    Miss\n",
       "3         1       1  female  35.0      1      0  53.1000     Mrs\n",
       "4         0       3    male  35.0      0      0   8.0500      Mr"
      ]
     },
     "execution_count": 37,
     "metadata": {},
     "output_type": "execute_result"
    }
   ],
   "source": [
    "data.head()"
   ]
  },
  {
   "cell_type": "code",
   "execution_count": 38,
   "id": "5ec24fa1",
   "metadata": {},
   "outputs": [],
   "source": [
    "data_org = data.copy() # preserve original"
   ]
  },
  {
   "cell_type": "code",
   "execution_count": 39,
   "id": "01d58d22",
   "metadata": {},
   "outputs": [],
   "source": [
    "# kategorik veriler -> sayısal\n",
    "from sklearn.preprocessing import LabelEncoder\n",
    "label_encoder = LabelEncoder()\n",
    "data['Cinsiyet'] = label_encoder.fit_transform(data.Sex)\n",
    "data.drop(\"Sex\",axis=1,inplace=True)"
   ]
  },
  {
   "cell_type": "code",
   "execution_count": 40,
   "id": "0611d00a",
   "metadata": {},
   "outputs": [
    {
     "data": {
      "text/html": [
       "<div>\n",
       "<style scoped>\n",
       "    .dataframe tbody tr th:only-of-type {\n",
       "        vertical-align: middle;\n",
       "    }\n",
       "\n",
       "    .dataframe tbody tr th {\n",
       "        vertical-align: top;\n",
       "    }\n",
       "\n",
       "    .dataframe thead th {\n",
       "        text-align: right;\n",
       "    }\n",
       "</style>\n",
       "<table border=\"1\" class=\"dataframe\">\n",
       "  <thead>\n",
       "    <tr style=\"text-align: right;\">\n",
       "      <th></th>\n",
       "      <th>Survived</th>\n",
       "      <th>Pclass</th>\n",
       "      <th>Age</th>\n",
       "      <th>SibSp</th>\n",
       "      <th>Parch</th>\n",
       "      <th>Fare</th>\n",
       "      <th>Initial</th>\n",
       "      <th>Cinsiyet</th>\n",
       "    </tr>\n",
       "  </thead>\n",
       "  <tbody>\n",
       "    <tr>\n",
       "      <th>0</th>\n",
       "      <td>0</td>\n",
       "      <td>3</td>\n",
       "      <td>22.0</td>\n",
       "      <td>1</td>\n",
       "      <td>0</td>\n",
       "      <td>7.2500</td>\n",
       "      <td>Mr</td>\n",
       "      <td>1</td>\n",
       "    </tr>\n",
       "    <tr>\n",
       "      <th>1</th>\n",
       "      <td>1</td>\n",
       "      <td>1</td>\n",
       "      <td>38.0</td>\n",
       "      <td>1</td>\n",
       "      <td>0</td>\n",
       "      <td>71.2833</td>\n",
       "      <td>Mrs</td>\n",
       "      <td>0</td>\n",
       "    </tr>\n",
       "    <tr>\n",
       "      <th>2</th>\n",
       "      <td>1</td>\n",
       "      <td>3</td>\n",
       "      <td>26.0</td>\n",
       "      <td>0</td>\n",
       "      <td>0</td>\n",
       "      <td>7.9250</td>\n",
       "      <td>Miss</td>\n",
       "      <td>0</td>\n",
       "    </tr>\n",
       "    <tr>\n",
       "      <th>3</th>\n",
       "      <td>1</td>\n",
       "      <td>1</td>\n",
       "      <td>35.0</td>\n",
       "      <td>1</td>\n",
       "      <td>0</td>\n",
       "      <td>53.1000</td>\n",
       "      <td>Mrs</td>\n",
       "      <td>0</td>\n",
       "    </tr>\n",
       "    <tr>\n",
       "      <th>4</th>\n",
       "      <td>0</td>\n",
       "      <td>3</td>\n",
       "      <td>35.0</td>\n",
       "      <td>0</td>\n",
       "      <td>0</td>\n",
       "      <td>8.0500</td>\n",
       "      <td>Mr</td>\n",
       "      <td>1</td>\n",
       "    </tr>\n",
       "  </tbody>\n",
       "</table>\n",
       "</div>"
      ],
      "text/plain": [
       "   Survived  Pclass   Age  SibSp  Parch     Fare Initial  Cinsiyet\n",
       "0         0       3  22.0      1      0   7.2500      Mr         1\n",
       "1         1       1  38.0      1      0  71.2833     Mrs         0\n",
       "2         1       3  26.0      0      0   7.9250    Miss         0\n",
       "3         1       1  35.0      1      0  53.1000     Mrs         0\n",
       "4         0       3  35.0      0      0   8.0500      Mr         1"
      ]
     },
     "execution_count": 40,
     "metadata": {},
     "output_type": "execute_result"
    }
   ],
   "source": [
    "data.head()"
   ]
  },
  {
   "cell_type": "code",
   "execution_count": 41,
   "id": "87b67b0a",
   "metadata": {},
   "outputs": [],
   "source": [
    "# Initial kolonunun encoding\n",
    "label_encoder2 = LabelEncoder()\n",
    "data['Hitap']=label_encoder2.fit_transform(data.Initial)\n",
    "data.drop(\"Initial\",axis=1,inplace=True)"
   ]
  },
  {
   "cell_type": "code",
   "execution_count": 42,
   "id": "eb76429d",
   "metadata": {
    "scrolled": true
   },
   "outputs": [
    {
     "data": {
      "text/html": [
       "<div>\n",
       "<style scoped>\n",
       "    .dataframe tbody tr th:only-of-type {\n",
       "        vertical-align: middle;\n",
       "    }\n",
       "\n",
       "    .dataframe tbody tr th {\n",
       "        vertical-align: top;\n",
       "    }\n",
       "\n",
       "    .dataframe thead th {\n",
       "        text-align: right;\n",
       "    }\n",
       "</style>\n",
       "<table border=\"1\" class=\"dataframe\">\n",
       "  <thead>\n",
       "    <tr style=\"text-align: right;\">\n",
       "      <th></th>\n",
       "      <th>Survived</th>\n",
       "      <th>Pclass</th>\n",
       "      <th>Age</th>\n",
       "      <th>SibSp</th>\n",
       "      <th>Parch</th>\n",
       "      <th>Fare</th>\n",
       "      <th>Cinsiyet</th>\n",
       "      <th>Hitap</th>\n",
       "    </tr>\n",
       "  </thead>\n",
       "  <tbody>\n",
       "    <tr>\n",
       "      <th>0</th>\n",
       "      <td>0</td>\n",
       "      <td>3</td>\n",
       "      <td>22.0</td>\n",
       "      <td>1</td>\n",
       "      <td>0</td>\n",
       "      <td>7.2500</td>\n",
       "      <td>1</td>\n",
       "      <td>2</td>\n",
       "    </tr>\n",
       "    <tr>\n",
       "      <th>1</th>\n",
       "      <td>1</td>\n",
       "      <td>1</td>\n",
       "      <td>38.0</td>\n",
       "      <td>1</td>\n",
       "      <td>0</td>\n",
       "      <td>71.2833</td>\n",
       "      <td>0</td>\n",
       "      <td>3</td>\n",
       "    </tr>\n",
       "    <tr>\n",
       "      <th>2</th>\n",
       "      <td>1</td>\n",
       "      <td>3</td>\n",
       "      <td>26.0</td>\n",
       "      <td>0</td>\n",
       "      <td>0</td>\n",
       "      <td>7.9250</td>\n",
       "      <td>0</td>\n",
       "      <td>1</td>\n",
       "    </tr>\n",
       "    <tr>\n",
       "      <th>3</th>\n",
       "      <td>1</td>\n",
       "      <td>1</td>\n",
       "      <td>35.0</td>\n",
       "      <td>1</td>\n",
       "      <td>0</td>\n",
       "      <td>53.1000</td>\n",
       "      <td>0</td>\n",
       "      <td>3</td>\n",
       "    </tr>\n",
       "    <tr>\n",
       "      <th>4</th>\n",
       "      <td>0</td>\n",
       "      <td>3</td>\n",
       "      <td>35.0</td>\n",
       "      <td>0</td>\n",
       "      <td>0</td>\n",
       "      <td>8.0500</td>\n",
       "      <td>1</td>\n",
       "      <td>2</td>\n",
       "    </tr>\n",
       "  </tbody>\n",
       "</table>\n",
       "</div>"
      ],
      "text/plain": [
       "   Survived  Pclass   Age  SibSp  Parch     Fare  Cinsiyet  Hitap\n",
       "0         0       3  22.0      1      0   7.2500         1      2\n",
       "1         1       1  38.0      1      0  71.2833         0      3\n",
       "2         1       3  26.0      0      0   7.9250         0      1\n",
       "3         1       1  35.0      1      0  53.1000         0      3\n",
       "4         0       3  35.0      0      0   8.0500         1      2"
      ]
     },
     "execution_count": 42,
     "metadata": {},
     "output_type": "execute_result"
    }
   ],
   "source": [
    "data.head()"
   ]
  },
  {
   "cell_type": "code",
   "execution_count": 44,
   "id": "86674f49",
   "metadata": {},
   "outputs": [],
   "source": [
    "y = data.Survived\n",
    "X = data.drop('Survived', axis=1)"
   ]
  },
  {
   "cell_type": "code",
   "execution_count": 46,
   "id": "6794033f",
   "metadata": {},
   "outputs": [
    {
     "data": {
      "text/html": [
       "<div>\n",
       "<style scoped>\n",
       "    .dataframe tbody tr th:only-of-type {\n",
       "        vertical-align: middle;\n",
       "    }\n",
       "\n",
       "    .dataframe tbody tr th {\n",
       "        vertical-align: top;\n",
       "    }\n",
       "\n",
       "    .dataframe thead th {\n",
       "        text-align: right;\n",
       "    }\n",
       "</style>\n",
       "<table border=\"1\" class=\"dataframe\">\n",
       "  <thead>\n",
       "    <tr style=\"text-align: right;\">\n",
       "      <th></th>\n",
       "      <th>Pclass</th>\n",
       "      <th>Age</th>\n",
       "      <th>SibSp</th>\n",
       "      <th>Parch</th>\n",
       "      <th>Fare</th>\n",
       "      <th>Cinsiyet</th>\n",
       "      <th>Hitap</th>\n",
       "    </tr>\n",
       "  </thead>\n",
       "  <tbody>\n",
       "    <tr>\n",
       "      <th>0</th>\n",
       "      <td>3</td>\n",
       "      <td>22.0</td>\n",
       "      <td>1</td>\n",
       "      <td>0</td>\n",
       "      <td>7.2500</td>\n",
       "      <td>1</td>\n",
       "      <td>2</td>\n",
       "    </tr>\n",
       "    <tr>\n",
       "      <th>1</th>\n",
       "      <td>1</td>\n",
       "      <td>38.0</td>\n",
       "      <td>1</td>\n",
       "      <td>0</td>\n",
       "      <td>71.2833</td>\n",
       "      <td>0</td>\n",
       "      <td>3</td>\n",
       "    </tr>\n",
       "    <tr>\n",
       "      <th>2</th>\n",
       "      <td>3</td>\n",
       "      <td>26.0</td>\n",
       "      <td>0</td>\n",
       "      <td>0</td>\n",
       "      <td>7.9250</td>\n",
       "      <td>0</td>\n",
       "      <td>1</td>\n",
       "    </tr>\n",
       "    <tr>\n",
       "      <th>3</th>\n",
       "      <td>1</td>\n",
       "      <td>35.0</td>\n",
       "      <td>1</td>\n",
       "      <td>0</td>\n",
       "      <td>53.1000</td>\n",
       "      <td>0</td>\n",
       "      <td>3</td>\n",
       "    </tr>\n",
       "    <tr>\n",
       "      <th>4</th>\n",
       "      <td>3</td>\n",
       "      <td>35.0</td>\n",
       "      <td>0</td>\n",
       "      <td>0</td>\n",
       "      <td>8.0500</td>\n",
       "      <td>1</td>\n",
       "      <td>2</td>\n",
       "    </tr>\n",
       "  </tbody>\n",
       "</table>\n",
       "</div>"
      ],
      "text/plain": [
       "   Pclass   Age  SibSp  Parch     Fare  Cinsiyet  Hitap\n",
       "0       3  22.0      1      0   7.2500         1      2\n",
       "1       1  38.0      1      0  71.2833         0      3\n",
       "2       3  26.0      0      0   7.9250         0      1\n",
       "3       1  35.0      1      0  53.1000         0      3\n",
       "4       3  35.0      0      0   8.0500         1      2"
      ]
     },
     "execution_count": 46,
     "metadata": {},
     "output_type": "execute_result"
    }
   ],
   "source": [
    "X.head()"
   ]
  },
  {
   "cell_type": "code",
   "execution_count": 47,
   "id": "448a7941",
   "metadata": {},
   "outputs": [],
   "source": [
    "# Eğitim ve Test verilerine ayırma\n",
    "from sklearn.model_selection import train_test_split\n",
    "X_train, X_test, y_train, y_test = train_test_split(X, y, test_size=0.2, random_state=42)"
   ]
  },
  {
   "cell_type": "code",
   "execution_count": 49,
   "id": "aef697d0",
   "metadata": {},
   "outputs": [
    {
     "data": {
      "text/plain": [
       "0    456\n",
       "1    257\n",
       "Name: Survived, dtype: int64"
      ]
     },
     "execution_count": 49,
     "metadata": {},
     "output_type": "execute_result"
    }
   ],
   "source": [
    "y_train.value_counts()"
   ]
  },
  {
   "cell_type": "code",
   "execution_count": 50,
   "id": "34da6e85",
   "metadata": {},
   "outputs": [
    {
     "data": {
      "text/plain": [
       "0.36044880785413747"
      ]
     },
     "execution_count": 50,
     "metadata": {},
     "output_type": "execute_result"
    }
   ],
   "source": [
    "257 / (456+257)"
   ]
  },
  {
   "cell_type": "markdown",
   "id": "7a75710a",
   "metadata": {},
   "source": [
    "## Logistic Regression\n",
    "https://en.wikipedia.org/wiki/Logistic_regression#:~:text=Logistic%20regression%20is%20a%20statistical,a%20form%20of%20binary%20regression)."
   ]
  },
  {
   "cell_type": "code",
   "execution_count": 141,
   "id": "b0280705",
   "metadata": {},
   "outputs": [
    {
     "name": "stdout",
     "output_type": "stream",
     "text": [
      "83.24\n"
     ]
    }
   ],
   "source": [
    "lr = LogisticRegression()\n",
    "lr.fit(X_train, y_train)\n",
    "y_pred = lr.predict(X_test)\n",
    "dogruluk_lr = round(lr.score(X_test, y_test) * 100,2)\n",
    "print(dogruluk_lr)"
   ]
  },
  {
   "cell_type": "markdown",
   "id": "680e5287",
   "metadata": {},
   "source": [
    "## Support Vector Machines\n",
    "https://en.wikipedia.org/wiki/Support-vector_machine"
   ]
  },
  {
   "cell_type": "code",
   "execution_count": 137,
   "id": "079f0ba8",
   "metadata": {},
   "outputs": [
    {
     "name": "stdout",
     "output_type": "stream",
     "text": [
      "63.13\n"
     ]
    }
   ],
   "source": [
    "svc = SVC()\n",
    "svc.fit(X_train, y_train)\n",
    "dogruluk_svc = round(svc.score(X_test, y_test) * 100,2)\n",
    "print(dogruluk_svc)"
   ]
  },
  {
   "cell_type": "markdown",
   "id": "c1af3064",
   "metadata": {},
   "source": [
    "## K-Nearest Neighbors\n",
    "https://en.wikipedia.org/wiki/K-nearest_neighbors_algorithm"
   ]
  },
  {
   "cell_type": "code",
   "execution_count": 134,
   "id": "2b17367c",
   "metadata": {},
   "outputs": [
    {
     "name": "stdout",
     "output_type": "stream",
     "text": [
      "72.07\n"
     ]
    }
   ],
   "source": [
    "knn = KNeighborsClassifier(n_neighbors=3)\n",
    "knn.fit(X_train, y_train)\n",
    "dogruluk_knn = round(knn.score(X_test, y_test) * 100,2)\n",
    "print(dogruluk_knn)"
   ]
  },
  {
   "cell_type": "markdown",
   "id": "93acde1f",
   "metadata": {},
   "source": [
    "## Gaussian Naive Bayes\n",
    "https://en.wikipedia.org/wiki/Naive_Bayes_classifier"
   ]
  },
  {
   "cell_type": "code",
   "execution_count": 223,
   "id": "0088c608",
   "metadata": {},
   "outputs": [
    {
     "name": "stdout",
     "output_type": "stream",
     "text": [
      "86.03\n"
     ]
    }
   ],
   "source": [
    "gnb = GaussianNB()\n",
    "gnb.fit(X_train, y_train)\n",
    "dogruluk_gnb = round(gnb.score(X_test, y_test) * 100,2)\n",
    "print(dogruluk_gnb)"
   ]
  },
  {
   "cell_type": "markdown",
   "id": "3b2fc796",
   "metadata": {},
   "source": [
    "## Perceptron\n",
    "https://en.wikipedia.org/wiki/Perceptron"
   ]
  },
  {
   "cell_type": "code",
   "execution_count": 120,
   "id": "dbb7bc36",
   "metadata": {},
   "outputs": [
    {
     "name": "stdout",
     "output_type": "stream",
     "text": [
      "74.86\n"
     ]
    }
   ],
   "source": [
    "perceptron = Perceptron()\n",
    "perceptron.fit(X_train, y_train)\n",
    "dogruluk_per = round(perceptron.score(X_test, y_test) * 100,2)\n",
    "print(dogruluk_per)"
   ]
  },
  {
   "cell_type": "markdown",
   "id": "8abb0869",
   "metadata": {},
   "source": [
    "## Linear SVC\n",
    "https://en.wikipedia.org/wiki/Linear_classifier"
   ]
  },
  {
   "cell_type": "code",
   "execution_count": 161,
   "id": "8b54aac7",
   "metadata": {},
   "outputs": [
    {
     "name": "stdout",
     "output_type": "stream",
     "text": [
      "61.45\n"
     ]
    }
   ],
   "source": [
    "l_svc = LinearSVC()\n",
    "l_svc.fit(X_train, y_train)\n",
    "dogruluk_linSVC = round(l_svc.score(X_test, y_test) * 100,2)\n",
    "print(dogruluk_linSVC)"
   ]
  },
  {
   "cell_type": "markdown",
   "id": "45a9aaa5",
   "metadata": {},
   "source": [
    "## Stochastic Gradient Descent\n",
    "https://en.wikipedia.org/wiki/Stochastic_gradient_descent"
   ]
  },
  {
   "cell_type": "code",
   "execution_count": 162,
   "id": "a7147da9",
   "metadata": {},
   "outputs": [
    {
     "name": "stdout",
     "output_type": "stream",
     "text": [
      "73.74\n"
     ]
    }
   ],
   "source": [
    "sgd = SGDClassifier()\n",
    "sgd.fit(X_train,y_train)\n",
    "dogruluk_sgd = round(sgd.score(X_test, y_test) * 100,2)\n",
    "print(dogruluk_sgd)"
   ]
  },
  {
   "cell_type": "markdown",
   "id": "5b7f8733",
   "metadata": {},
   "source": [
    "## Karar ağacı (Decision Tree)\n",
    "https://en.wikipedia.org/wiki/Decision_tree"
   ]
  },
  {
   "cell_type": "code",
   "execution_count": 188,
   "id": "2e894921",
   "metadata": {},
   "outputs": [
    {
     "name": "stdout",
     "output_type": "stream",
     "text": [
      "79.33\n"
     ]
    }
   ],
   "source": [
    "dtc = DecisionTreeClassifier()\n",
    "dtc.fit(X_train,y_train)\n",
    "dogruluk_dtc = round(dtc.score(X_test, y_test) * 100,2)\n",
    "print(dogruluk_dtc)"
   ]
  },
  {
   "cell_type": "markdown",
   "id": "08c9b187",
   "metadata": {},
   "source": [
    "## Random Forest\n",
    "https://en.wikipedia.org/wiki/Random_forest"
   ]
  },
  {
   "cell_type": "code",
   "execution_count": 198,
   "id": "ce404d99",
   "metadata": {},
   "outputs": [
    {
     "name": "stdout",
     "output_type": "stream",
     "text": [
      "83.24\n"
     ]
    }
   ],
   "source": [
    "rf = RandomForestClassifier()\n",
    "rf.fit(X_train,y_train)\n",
    "dogruluk_rf = round(rf.score(X_test, y_test) * 100,2)\n",
    "print(dogruluk_rf)"
   ]
  },
  {
   "cell_type": "markdown",
   "id": "eb0938a4",
   "metadata": {},
   "source": [
    "## XGBoost\n",
    "https://en.wikipedia.org/wiki/XGBoost \n",
    "\n",
    "https://www.datacamp.com/community/tutorials/xgboost-in-python\n",
    "\n",
    "https://www.kaggle.com/prashant111/xgboost-k-fold-cv-feature-importance"
   ]
  },
  {
   "cell_type": "code",
   "execution_count": 200,
   "id": "a513abd3",
   "metadata": {},
   "outputs": [],
   "source": [
    "# eğer bilgisayarınızda yüklü değilse:\n",
    "# !pip install xgboost"
   ]
  },
  {
   "cell_type": "code",
   "execution_count": 201,
   "id": "945afbea",
   "metadata": {},
   "outputs": [],
   "source": [
    "import xgboost as xgb\n",
    "from xgboost import cv"
   ]
  },
  {
   "cell_type": "code",
   "execution_count": 202,
   "id": "1e9f1170",
   "metadata": {},
   "outputs": [],
   "source": [
    "from sklearn.metrics import mean_squared_error"
   ]
  },
  {
   "cell_type": "code",
   "execution_count": 204,
   "id": "0161e3b3",
   "metadata": {},
   "outputs": [],
   "source": [
    "# XGBoost Dmatrix veri yapısını kullanır\n",
    "data_dmatrix = xgb.DMatrix(data=X_train, label=y_train)"
   ]
  },
  {
   "cell_type": "code",
   "execution_count": 207,
   "id": "535bde13",
   "metadata": {},
   "outputs": [
    {
     "name": "stdout",
     "output_type": "stream",
     "text": [
      "84.92\n"
     ]
    }
   ],
   "source": [
    "xgc = xgb.XGBClassifier(objective='binary:logistic', eval_metric='logloss',n_estimators=50, max_depth=4)\n",
    "xgc.fit(X_train,y_train)\n",
    "preds = xgc.predict(X_test)\n",
    "dogruluk_xgb = round(xgc.score(X_test,y_test)*100,2)\n",
    "print(dogruluk_xgb)"
   ]
  },
  {
   "cell_type": "code",
   "execution_count": 208,
   "id": "0608b168",
   "metadata": {},
   "outputs": [
    {
     "data": {
      "text/plain": [
       "0.8491620111731844"
      ]
     },
     "execution_count": 208,
     "metadata": {},
     "output_type": "execute_result"
    }
   ],
   "source": [
    "# Model evaluation\n",
    "xgc.score(X_test,y_test)"
   ]
  },
  {
   "cell_type": "code",
   "execution_count": 209,
   "id": "18cb3b40",
   "metadata": {},
   "outputs": [],
   "source": [
    "# Hyper parameter tuning\n",
    "# XGboost hiper tuning (Parametrelerinin optimize edilmesi)\n",
    "params = {\"objective\":'binary:logistic', 'colsample_bytree':0.3, 'learning_rate':0.1, 'max_depth':5, 'alpha':10}\n",
    "\n",
    "xgc_cv = cv(dtrain=data_dmatrix, params=params, nfold=3, num_boost_round=50, early_stopping_rounds=10, metrics='auc',as_pandas=True)"
   ]
  },
  {
   "cell_type": "code",
   "execution_count": 210,
   "id": "fbaf8605",
   "metadata": {},
   "outputs": [
    {
     "name": "stdout",
     "output_type": "stream",
     "text": [
      "{'max_depth': 3, 'n_estimators': 30}\n"
     ]
    }
   ],
   "source": [
    "from sklearn.model_selection import GridSearchCV \n",
    "\n",
    "test_params = {\n",
    " 'max_depth':[2,3,4,5],'n_estimators':[10,30,50,70]\n",
    "}\n",
    "\n",
    "model = GridSearchCV(estimator = xgc,param_grid = test_params)\n",
    "model.fit(X_train,y_train)\n",
    "print (model.best_params_)"
   ]
  },
  {
   "cell_type": "code",
   "execution_count": 216,
   "id": "9360481f",
   "metadata": {},
   "outputs": [
    {
     "name": "stdout",
     "output_type": "stream",
     "text": [
      "85.47\n"
     ]
    }
   ],
   "source": [
    "# Best parametreleri kullanarak yeniden model oluştur\n",
    "xgc = xgb.XGBClassifier(objective='binary:logistic', eval_metric='logloss',n_estimators=30, max_depth=3)\n",
    "xgc.fit(X_train,y_train)\n",
    "preds = xgc.predict(X_test)\n",
    "dogruluk_xgb = round(xgc.score(X_test,y_test)*100,2)\n",
    "print(dogruluk_xgb)"
   ]
  },
  {
   "cell_type": "code",
   "execution_count": null,
   "id": "3ef68320",
   "metadata": {},
   "outputs": [],
   "source": []
  },
  {
   "cell_type": "code",
   "execution_count": 211,
   "id": "f9eef586",
   "metadata": {},
   "outputs": [
    {
     "name": "stdout",
     "output_type": "stream",
     "text": [
      "{'n_estimators': 50}\n"
     ]
    }
   ],
   "source": [
    "# Random forest için GridSearchCV\n",
    "rf_param = {'n_estimators':[20,50,100]}\n",
    "model2 = GridSearchCV(estimator=rf, param_grid=rf_param)\n",
    "model2.fit(X_train,y_train)\n",
    "print(model2.best_params_)"
   ]
  },
  {
   "cell_type": "code",
   "execution_count": 212,
   "id": "ffd8e278",
   "metadata": {},
   "outputs": [
    {
     "name": "stdout",
     "output_type": "stream",
     "text": [
      "83.24\n"
     ]
    }
   ],
   "source": [
    "rf2 = RandomForestClassifier(n_estimators=20)\n",
    "rf2.fit(X_train,y_train)\n",
    "dogruluk_rf2 = round(rf2.score(X_test, y_test) * 100,2)\n",
    "print(dogruluk_rf2)"
   ]
  }
 ],
 "metadata": {
  "kernelspec": {
   "display_name": "Python 3 (ipykernel)",
   "language": "python",
   "name": "python3"
  },
  "language_info": {
   "codemirror_mode": {
    "name": "ipython",
    "version": 3
   },
   "file_extension": ".py",
   "mimetype": "text/x-python",
   "name": "python",
   "nbconvert_exporter": "python",
   "pygments_lexer": "ipython3",
   "version": "3.10.8"
  }
 },
 "nbformat": 4,
 "nbformat_minor": 5
}
