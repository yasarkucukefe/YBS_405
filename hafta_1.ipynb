{
 "cells": [
  {
   "cell_type": "code",
   "execution_count": null,
   "id": "beffa2ba",
   "metadata": {},
   "outputs": [],
   "source": [
    "# Veri Madenciliği (Data Mining)\n",
    "# https://tr.wikipedia.org/wiki/Veri_madencili%C4%9Fi"
   ]
  },
  {
   "cell_type": "code",
   "execution_count": 5,
   "id": "7bb47393",
   "metadata": {},
   "outputs": [
    {
     "data": {
      "text/plain": [
       "2"
      ]
     },
     "execution_count": 5,
     "metadata": {},
     "output_type": "execute_result"
    }
   ],
   "source": [
    "1 + 1"
   ]
  },
  {
   "cell_type": "code",
   "execution_count": 6,
   "id": "4f544315",
   "metadata": {},
   "outputs": [
    {
     "data": {
      "text/plain": [
       "16"
      ]
     },
     "execution_count": 6,
     "metadata": {},
     "output_type": "execute_result"
    }
   ],
   "source": [
    "2 ** 4 # 2 üzeri 4"
   ]
  },
  {
   "cell_type": "code",
   "execution_count": 7,
   "id": "cb7bbe81",
   "metadata": {},
   "outputs": [
    {
     "data": {
      "text/plain": [
       "1"
      ]
     },
     "execution_count": 7,
     "metadata": {},
     "output_type": "execute_result"
    }
   ],
   "source": [
    "5 % 2 # modulus operatörü (bölümden kalan değer) "
   ]
  },
  {
   "cell_type": "code",
   "execution_count": 8,
   "id": "8be41f2b",
   "metadata": {},
   "outputs": [],
   "source": [
    "degisken_isim = 2"
   ]
  },
  {
   "cell_type": "code",
   "execution_count": 9,
   "id": "b67d81cc",
   "metadata": {},
   "outputs": [
    {
     "data": {
      "text/plain": [
       "4"
      ]
     },
     "execution_count": 9,
     "metadata": {},
     "output_type": "execute_result"
    }
   ],
   "source": [
    "2 * degisken_isim"
   ]
  },
  {
   "cell_type": "code",
   "execution_count": 10,
   "id": "ab08ff75",
   "metadata": {},
   "outputs": [
    {
     "name": "stdout",
     "output_type": "stream",
     "text": [
      "2\n"
     ]
    }
   ],
   "source": [
    "print(degisken_isim)"
   ]
  },
  {
   "cell_type": "code",
   "execution_count": 11,
   "id": "93bf3805",
   "metadata": {},
   "outputs": [],
   "source": [
    "gun_ad = \"Salı\""
   ]
  },
  {
   "cell_type": "code",
   "execution_count": 12,
   "id": "21ab8731",
   "metadata": {},
   "outputs": [
    {
     "name": "stdout",
     "output_type": "stream",
     "text": [
      "Bugün günlerden Salı\n"
     ]
    }
   ],
   "source": [
    "print(\"Bugün günlerden \" + gun_ad)"
   ]
  },
  {
   "cell_type": "code",
   "execution_count": 13,
   "id": "80fddfd1",
   "metadata": {},
   "outputs": [
    {
     "name": "stdout",
     "output_type": "stream",
     "text": [
      "Bugün günlerden Çarşamba\n"
     ]
    }
   ],
   "source": [
    "gun_ad = \"Çarşamba\"\n",
    "print(\"Bugün günlerden \" + gun_ad)"
   ]
  },
  {
   "cell_type": "code",
   "execution_count": 14,
   "id": "e0a9b02e",
   "metadata": {},
   "outputs": [],
   "source": [
    "# String"
   ]
  },
  {
   "cell_type": "code",
   "execution_count": 15,
   "id": "e82d2bf3",
   "metadata": {},
   "outputs": [],
   "source": [
    "x = \"Elma\""
   ]
  },
  {
   "cell_type": "code",
   "execution_count": 16,
   "id": "8aa72dab",
   "metadata": {},
   "outputs": [
    {
     "name": "stdout",
     "output_type": "stream",
     "text": [
      "Elma\n"
     ]
    }
   ],
   "source": [
    "print(x)"
   ]
  },
  {
   "cell_type": "code",
   "execution_count": 17,
   "id": "4d2e863d",
   "metadata": {},
   "outputs": [],
   "source": [
    "kg_fiyat = 12"
   ]
  },
  {
   "cell_type": "code",
   "execution_count": 18,
   "id": "aa3bf82d",
   "metadata": {},
   "outputs": [],
   "source": [
    "mesaj = x"
   ]
  },
  {
   "cell_type": "code",
   "execution_count": 20,
   "id": "38892280",
   "metadata": {},
   "outputs": [
    {
     "name": "stdout",
     "output_type": "stream",
     "text": [
      "Elma\n"
     ]
    }
   ],
   "source": [
    "print(mesaj)"
   ]
  },
  {
   "cell_type": "code",
   "execution_count": 21,
   "id": "6f1aec7b",
   "metadata": {},
   "outputs": [],
   "source": [
    "mesaj = x + \" birim fiyatı \""
   ]
  },
  {
   "cell_type": "code",
   "execution_count": 23,
   "id": "c380f0d6",
   "metadata": {},
   "outputs": [
    {
     "name": "stdout",
     "output_type": "stream",
     "text": [
      "Elma birim fiyatı \n"
     ]
    }
   ],
   "source": [
    "print(mesaj)"
   ]
  },
  {
   "cell_type": "code",
   "execution_count": 26,
   "id": "825ae616",
   "metadata": {},
   "outputs": [],
   "source": [
    "mesaj = x + \" birim fiyatı :\" + str(kg_fiyat) # str: string olmayan bir değeri String datatype'ına \"cast\" eder."
   ]
  },
  {
   "cell_type": "code",
   "execution_count": 27,
   "id": "8b368550",
   "metadata": {},
   "outputs": [
    {
     "name": "stdout",
     "output_type": "stream",
     "text": [
      "Elma birim fiyatı :12\n"
     ]
    }
   ],
   "source": [
    "print(mesaj)"
   ]
  },
  {
   "cell_type": "code",
   "execution_count": 28,
   "id": "e76dcf71",
   "metadata": {},
   "outputs": [
    {
     "data": {
      "text/plain": [
       "'Elma birim fiyatı :12 birim fiyatı: 12'"
      ]
     },
     "execution_count": 28,
     "metadata": {},
     "output_type": "execute_result"
    }
   ],
   "source": [
    "f\"{mesaj} birim fiyatı: {kg_fiyat}\""
   ]
  },
  {
   "cell_type": "code",
   "execution_count": 29,
   "id": "95f77033",
   "metadata": {},
   "outputs": [
    {
     "name": "stdout",
     "output_type": "stream",
     "text": [
      "Elma birim fiyatı :12 birim fiyatı: 12\n"
     ]
    }
   ],
   "source": [
    "print(f\"{mesaj} birim fiyatı: {kg_fiyat}\")"
   ]
  },
  {
   "cell_type": "code",
   "execution_count": 30,
   "id": "3b90dc44",
   "metadata": {},
   "outputs": [],
   "source": [
    "# LİSTELER"
   ]
  },
  {
   "cell_type": "code",
   "execution_count": 31,
   "id": "fa61f48c",
   "metadata": {},
   "outputs": [
    {
     "data": {
      "text/plain": [
       "[1, 2, 3, 4, 5, 6, 7]"
      ]
     },
     "execution_count": 31,
     "metadata": {},
     "output_type": "execute_result"
    }
   ],
   "source": [
    "[1,2,3,4,5,6,7]"
   ]
  },
  {
   "cell_type": "code",
   "execution_count": 32,
   "id": "f300b8f1",
   "metadata": {},
   "outputs": [],
   "source": [
    "liste = [\"Elma\",12,True,[1,2,5],\"Portakal\"]"
   ]
  },
  {
   "cell_type": "code",
   "execution_count": 33,
   "id": "d1c1ecda",
   "metadata": {},
   "outputs": [
    {
     "name": "stdout",
     "output_type": "stream",
     "text": [
      "['Elma', 12, True, [1, 2, 5], 'Portakal']\n"
     ]
    }
   ],
   "source": [
    "print(liste)"
   ]
  },
  {
   "cell_type": "code",
   "execution_count": 34,
   "id": "31c2dc5b",
   "metadata": {},
   "outputs": [],
   "source": [
    "liste.append(100) # Listeye ekleme yap"
   ]
  },
  {
   "cell_type": "code",
   "execution_count": 35,
   "id": "1785f3a1",
   "metadata": {},
   "outputs": [
    {
     "name": "stdout",
     "output_type": "stream",
     "text": [
      "['Elma', 12, True, [1, 2, 5], 'Portakal', 100]\n"
     ]
    }
   ],
   "source": [
    "print(liste)"
   ]
  },
  {
   "cell_type": "code",
   "execution_count": 36,
   "id": "912a8d4d",
   "metadata": {},
   "outputs": [
    {
     "data": {
      "text/plain": [
       "'Elma'"
      ]
     },
     "execution_count": 36,
     "metadata": {},
     "output_type": "execute_result"
    }
   ],
   "source": [
    "liste[0] # Elma => Sıfır index"
   ]
  },
  {
   "cell_type": "code",
   "execution_count": 37,
   "id": "c9d54e16",
   "metadata": {},
   "outputs": [
    {
     "data": {
      "text/plain": [
       "True"
      ]
     },
     "execution_count": 37,
     "metadata": {},
     "output_type": "execute_result"
    }
   ],
   "source": [
    "liste[2] # True"
   ]
  },
  {
   "cell_type": "code",
   "execution_count": 38,
   "id": "b2357ba5",
   "metadata": {},
   "outputs": [
    {
     "data": {
      "text/plain": [
       "[12, True]"
      ]
     },
     "execution_count": 38,
     "metadata": {},
     "output_type": "execute_result"
    }
   ],
   "source": [
    "liste[1:3] # liste'nin 1 ve 3 arasındaki değerleri gelir (3 hariç)"
   ]
  },
  {
   "cell_type": "code",
   "execution_count": 40,
   "id": "0f5a2982",
   "metadata": {},
   "outputs": [
    {
     "data": {
      "text/plain": [
       "'Portakal'"
      ]
     },
     "execution_count": 40,
     "metadata": {},
     "output_type": "execute_result"
    }
   ],
   "source": [
    "liste[4]"
   ]
  },
  {
   "cell_type": "code",
   "execution_count": 41,
   "id": "008992ec",
   "metadata": {},
   "outputs": [
    {
     "data": {
      "text/plain": [
       "6"
      ]
     },
     "execution_count": 41,
     "metadata": {},
     "output_type": "execute_result"
    }
   ],
   "source": [
    "len(liste)"
   ]
  },
  {
   "cell_type": "code",
   "execution_count": 42,
   "id": "11e3a373",
   "metadata": {},
   "outputs": [
    {
     "data": {
      "text/plain": [
       "100"
      ]
     },
     "execution_count": 42,
     "metadata": {},
     "output_type": "execute_result"
    }
   ],
   "source": [
    "liste[-1]"
   ]
  },
  {
   "cell_type": "code",
   "execution_count": 43,
   "id": "f6f0e5c9",
   "metadata": {},
   "outputs": [],
   "source": [
    "liste2 = [\"a\",\"b\",12]"
   ]
  },
  {
   "cell_type": "code",
   "execution_count": 45,
   "id": "030be2d4",
   "metadata": {},
   "outputs": [],
   "source": [
    "liste3 = liste2"
   ]
  },
  {
   "cell_type": "code",
   "execution_count": 46,
   "id": "85242bba",
   "metadata": {},
   "outputs": [
    {
     "data": {
      "text/plain": [
       "['a', 'b', 12]"
      ]
     },
     "execution_count": 46,
     "metadata": {},
     "output_type": "execute_result"
    }
   ],
   "source": [
    "liste3"
   ]
  },
  {
   "cell_type": "code",
   "execution_count": 47,
   "id": "3b0dd16e",
   "metadata": {},
   "outputs": [],
   "source": [
    "liste3.append(20) # liste3'e yeni bir değer eklendi"
   ]
  },
  {
   "cell_type": "code",
   "execution_count": 48,
   "id": "332ddaf6",
   "metadata": {},
   "outputs": [
    {
     "name": "stdout",
     "output_type": "stream",
     "text": [
      "['a', 'b', 12, 20]\n"
     ]
    }
   ],
   "source": [
    "print(liste3)"
   ]
  },
  {
   "cell_type": "code",
   "execution_count": 49,
   "id": "056bc759",
   "metadata": {},
   "outputs": [
    {
     "name": "stdout",
     "output_type": "stream",
     "text": [
      "['a', 'b', 12, 20]\n"
     ]
    }
   ],
   "source": [
    "print(liste2)"
   ]
  },
  {
   "cell_type": "code",
   "execution_count": 50,
   "id": "749b4232",
   "metadata": {},
   "outputs": [],
   "source": [
    "# DICTIONARY"
   ]
  },
  {
   "cell_type": "code",
   "execution_count": 51,
   "id": "e17efda6",
   "metadata": {},
   "outputs": [],
   "source": [
    "sozluk = {\"isim\": \"Yaşar\", \"soyisim\":\"Küçükefe\", \"yas\":51}"
   ]
  },
  {
   "cell_type": "code",
   "execution_count": 52,
   "id": "9f8a34dc",
   "metadata": {},
   "outputs": [
    {
     "name": "stdout",
     "output_type": "stream",
     "text": [
      "{'isim': 'Yaşar', 'soyisim': 'Küçükefe', 'yas': 51}\n"
     ]
    }
   ],
   "source": [
    "print(sozluk)"
   ]
  },
  {
   "cell_type": "code",
   "execution_count": 53,
   "id": "67d368a1",
   "metadata": {},
   "outputs": [
    {
     "data": {
      "text/plain": [
       "'Yaşar'"
      ]
     },
     "execution_count": 53,
     "metadata": {},
     "output_type": "execute_result"
    }
   ],
   "source": [
    "sozluk[\"isim\"] "
   ]
  },
  {
   "cell_type": "code",
   "execution_count": 54,
   "id": "6e8cb9e6",
   "metadata": {},
   "outputs": [
    {
     "data": {
      "text/plain": [
       "51"
      ]
     },
     "execution_count": 54,
     "metadata": {},
     "output_type": "execute_result"
    }
   ],
   "source": [
    "sozluk[\"yas\"]"
   ]
  },
  {
   "cell_type": "code",
   "execution_count": 57,
   "id": "94ce7cf6",
   "metadata": {},
   "outputs": [
    {
     "data": {
      "text/plain": [
       "'Yaşar => 51'"
      ]
     },
     "execution_count": 57,
     "metadata": {},
     "output_type": "execute_result"
    }
   ],
   "source": [
    "f\"{sozluk['isim']} => {sozluk['yas']}\""
   ]
  },
  {
   "cell_type": "code",
   "execution_count": 58,
   "id": "eeea50ed",
   "metadata": {},
   "outputs": [],
   "source": [
    "#TUPLE (deste)"
   ]
  },
  {
   "cell_type": "code",
   "execution_count": 59,
   "id": "275ab5d1",
   "metadata": {},
   "outputs": [],
   "source": [
    "deste = (2,3,4,'isim',True)"
   ]
  },
  {
   "cell_type": "code",
   "execution_count": 60,
   "id": "eb2a8b63",
   "metadata": {},
   "outputs": [
    {
     "name": "stdout",
     "output_type": "stream",
     "text": [
      "(2, 3, 4, 'isim', True)\n"
     ]
    }
   ],
   "source": [
    "print(deste)"
   ]
  },
  {
   "cell_type": "code",
   "execution_count": 61,
   "id": "efb81df8",
   "metadata": {},
   "outputs": [
    {
     "ename": "AttributeError",
     "evalue": "'tuple' object has no attribute 'append'",
     "output_type": "error",
     "traceback": [
      "\u001b[1;31m---------------------------------------------------------------------------\u001b[0m",
      "\u001b[1;31mAttributeError\u001b[0m                            Traceback (most recent call last)",
      "\u001b[1;32m~\\AppData\\Local\\Temp/ipykernel_9880/2541420443.py\u001b[0m in \u001b[0;36m<module>\u001b[1;34m\u001b[0m\n\u001b[1;32m----> 1\u001b[1;33m \u001b[0mdeste\u001b[0m\u001b[1;33m.\u001b[0m\u001b[0mappend\u001b[0m\u001b[1;33m(\u001b[0m\u001b[1;36m2\u001b[0m\u001b[1;33m)\u001b[0m\u001b[1;33m\u001b[0m\u001b[1;33m\u001b[0m\u001b[0m\n\u001b[0m",
      "\u001b[1;31mAttributeError\u001b[0m: 'tuple' object has no attribute 'append'"
     ]
    }
   ],
   "source": [
    "deste.append(2) # tuple değiştirilemez"
   ]
  },
  {
   "cell_type": "code",
   "execution_count": 62,
   "id": "68ebb828",
   "metadata": {},
   "outputs": [],
   "source": [
    "# SET (küme)"
   ]
  },
  {
   "cell_type": "code",
   "execution_count": 64,
   "id": "75fd3d2d",
   "metadata": {},
   "outputs": [],
   "source": [
    "kume = {1,2,2,3,4,4,5,9,10}"
   ]
  },
  {
   "cell_type": "code",
   "execution_count": 65,
   "id": "fbf05a33",
   "metadata": {},
   "outputs": [
    {
     "name": "stdout",
     "output_type": "stream",
     "text": [
      "{1, 2, 3, 4, 5, 9, 10}\n"
     ]
    }
   ],
   "source": [
    "print(kume)"
   ]
  },
  {
   "cell_type": "code",
   "execution_count": 66,
   "id": "85c6c9bf",
   "metadata": {},
   "outputs": [],
   "source": [
    "kume.add(11) # kumeye yeni eleman ekle "
   ]
  },
  {
   "cell_type": "code",
   "execution_count": 67,
   "id": "7d6dad40",
   "metadata": {},
   "outputs": [
    {
     "name": "stdout",
     "output_type": "stream",
     "text": [
      "{1, 2, 3, 4, 5, 9, 10, 11}\n"
     ]
    }
   ],
   "source": [
    "print(kume)"
   ]
  },
  {
   "cell_type": "code",
   "execution_count": 68,
   "id": "a8d9aa1a",
   "metadata": {},
   "outputs": [],
   "source": [
    "kume.add(10) "
   ]
  },
  {
   "cell_type": "code",
   "execution_count": 69,
   "id": "b07ca074",
   "metadata": {},
   "outputs": [
    {
     "name": "stdout",
     "output_type": "stream",
     "text": [
      "{1, 2, 3, 4, 5, 9, 10, 11}\n"
     ]
    }
   ],
   "source": [
    "print(kume)"
   ]
  },
  {
   "cell_type": "code",
   "execution_count": 70,
   "id": "02ae26af",
   "metadata": {},
   "outputs": [],
   "source": [
    "# Koşul kontrolleri"
   ]
  },
  {
   "cell_type": "code",
   "execution_count": 71,
   "id": "b59ebca7",
   "metadata": {},
   "outputs": [
    {
     "data": {
      "text/plain": [
       "False"
      ]
     },
     "execution_count": 71,
     "metadata": {},
     "output_type": "execute_result"
    }
   ],
   "source": [
    " 1 == 2 # False "
   ]
  },
  {
   "cell_type": "code",
   "execution_count": 72,
   "id": "9f60f03a",
   "metadata": {},
   "outputs": [
    {
     "data": {
      "text/plain": [
       "True"
      ]
     },
     "execution_count": 72,
     "metadata": {},
     "output_type": "execute_result"
    }
   ],
   "source": [
    "2 > 1 # True"
   ]
  },
  {
   "cell_type": "code",
   "execution_count": 73,
   "id": "8013a226",
   "metadata": {},
   "outputs": [
    {
     "data": {
      "text/plain": [
       "True"
      ]
     },
     "execution_count": 73,
     "metadata": {},
     "output_type": "execute_result"
    }
   ],
   "source": [
    "1 < 2 # True"
   ]
  },
  {
   "cell_type": "code",
   "execution_count": 74,
   "id": "b33855e6",
   "metadata": {},
   "outputs": [],
   "source": [
    "deger = 20"
   ]
  },
  {
   "cell_type": "code",
   "execution_count": 79,
   "id": "d89374e8",
   "metadata": {},
   "outputs": [],
   "source": [
    "if deger < 10 :\n",
    "    print(\"Deger 10'dan küçüktür\")"
   ]
  },
  {
   "cell_type": "code",
   "execution_count": 81,
   "id": "c12b7194",
   "metadata": {},
   "outputs": [
    {
     "name": "stdout",
     "output_type": "stream",
     "text": [
      "Deger 30'dan küçüktür\n"
     ]
    }
   ],
   "source": [
    "if deger < 30 :\n",
    "    print(\"Deger 30'dan küçüktür\")"
   ]
  },
  {
   "cell_type": "code",
   "execution_count": 83,
   "id": "786ac35a",
   "metadata": {},
   "outputs": [],
   "source": [
    "b = 2"
   ]
  },
  {
   "cell_type": "code",
   "execution_count": 85,
   "id": "8c366c58",
   "metadata": {},
   "outputs": [
    {
     "name": "stdout",
     "output_type": "stream",
     "text": [
      "True\n"
     ]
    }
   ],
   "source": [
    "a = b == 2 # a ?\n",
    "print(a) # ?"
   ]
  },
  {
   "cell_type": "code",
   "execution_count": 84,
   "id": "445c3d32",
   "metadata": {},
   "outputs": [
    {
     "data": {
      "text/plain": [
       "True"
      ]
     },
     "execution_count": 84,
     "metadata": {},
     "output_type": "execute_result"
    }
   ],
   "source": [
    "b == 2"
   ]
  },
  {
   "cell_type": "code",
   "execution_count": 86,
   "id": "593082bc",
   "metadata": {},
   "outputs": [],
   "source": [
    "#and / or"
   ]
  },
  {
   "cell_type": "code",
   "execution_count": 88,
   "id": "9fb7a9c1",
   "metadata": {},
   "outputs": [
    {
     "data": {
      "text/plain": [
       "False"
      ]
     },
     "execution_count": 88,
     "metadata": {},
     "output_type": "execute_result"
    }
   ],
   "source": [
    "True and False"
   ]
  },
  {
   "cell_type": "code",
   "execution_count": 89,
   "id": "7a24e5ac",
   "metadata": {},
   "outputs": [
    {
     "data": {
      "text/plain": [
       "True"
      ]
     },
     "execution_count": 89,
     "metadata": {},
     "output_type": "execute_result"
    }
   ],
   "source": [
    "True or False"
   ]
  },
  {
   "cell_type": "code",
   "execution_count": 91,
   "id": "885171fa",
   "metadata": {},
   "outputs": [
    {
     "data": {
      "text/plain": [
       "True"
      ]
     },
     "execution_count": 91,
     "metadata": {},
     "output_type": "execute_result"
    }
   ],
   "source": [
    "(2 > 1) or (2 < 0) # True"
   ]
  },
  {
   "cell_type": "code",
   "execution_count": 96,
   "id": "65bf5e63",
   "metadata": {},
   "outputs": [],
   "source": [
    "gun = \"Pazar\""
   ]
  },
  {
   "cell_type": "code",
   "execution_count": 100,
   "id": "dc6f705b",
   "metadata": {},
   "outputs": [
    {
     "name": "stdout",
     "output_type": "stream",
     "text": [
      "evde otur\n"
     ]
    }
   ],
   "source": [
    "if gun == \"Çarşamba\":\n",
    "    print(\"Yürüyüş yap\")\n",
    "elif gun == \"Cuma\":\n",
    "    print(\"Spor yap\")\n",
    "elif gun == \"Pazartesi\":\n",
    "    print(\"Arkadaş ziyareti\")\n",
    "else:\n",
    "    print(\"evde otur\")"
   ]
  },
  {
   "cell_type": "code",
   "execution_count": null,
   "id": "d6921ddb",
   "metadata": {},
   "outputs": [],
   "source": [
    "# DÖNGÜLER (LOOP)"
   ]
  },
  {
   "cell_type": "code",
   "execution_count": 101,
   "id": "f9c963aa",
   "metadata": {},
   "outputs": [
    {
     "name": "stdout",
     "output_type": "stream",
     "text": [
      "1\n",
      "2\n",
      "3\n",
      "4\n",
      "5\n"
     ]
    }
   ],
   "source": [
    "seri = [1,2,3,4,5]\n",
    "for rakam in seri:\n",
    "    print(rakam)"
   ]
  },
  {
   "cell_type": "code",
   "execution_count": 106,
   "id": "46e53046",
   "metadata": {},
   "outputs": [],
   "source": [
    "sehirler = [\"İstanbul\",\"Ankara\",\"İzmir\"]\n",
    "plakalar = [\"34\",\"06\",\"35\"]"
   ]
  },
  {
   "cell_type": "code",
   "execution_count": 105,
   "id": "2cede16a",
   "metadata": {},
   "outputs": [
    {
     "name": "stdout",
     "output_type": "stream",
     "text": [
      "İstanbul\n",
      "Ankara\n",
      "İzmir\n"
     ]
    }
   ],
   "source": [
    "for sehir in sehirler:\n",
    "    print(sehir)"
   ]
  },
  {
   "cell_type": "code",
   "execution_count": 107,
   "id": "757e1e54",
   "metadata": {},
   "outputs": [
    {
     "name": "stdout",
     "output_type": "stream",
     "text": [
      "34\n",
      "06\n",
      "35\n"
     ]
    }
   ],
   "source": [
    "for plaka in plakalar:\n",
    "    print(plaka)"
   ]
  },
  {
   "cell_type": "code",
   "execution_count": 108,
   "id": "bde4b0eb",
   "metadata": {},
   "outputs": [
    {
     "name": "stdout",
     "output_type": "stream",
     "text": [
      "İstanbul=>34\n",
      "Ankara=>06\n",
      "İzmir=>35\n"
     ]
    }
   ],
   "source": [
    "for sehir,plaka in zip(sehirler,plakalar):\n",
    "    print(f\"{sehir}=>{plaka}\")"
   ]
  },
  {
   "cell_type": "code",
   "execution_count": 110,
   "id": "856b47da",
   "metadata": {},
   "outputs": [
    {
     "name": "stdout",
     "output_type": "stream",
     "text": [
      "1\n",
      "2\n",
      "3\n",
      "4\n",
      "5\n",
      "6\n",
      "7\n",
      "8\n",
      "9\n"
     ]
    }
   ],
   "source": [
    "a = 1\n",
    "while a < 10:\n",
    "    print(a)\n",
    "    a = a + 1"
   ]
  },
  {
   "cell_type": "code",
   "execution_count": 1,
   "id": "80020772",
   "metadata": {},
   "outputs": [
    {
     "name": "stdout",
     "output_type": "stream",
     "text": [
      "1\n",
      "2\n",
      "3\n",
      "4\n",
      "5\n",
      "6\n",
      "7\n",
      "8\n",
      "9\n",
      "10\n",
      "11\n"
     ]
    }
   ],
   "source": [
    "a = 1\n",
    "while True:\n",
    "    print(a)\n",
    "    if a > 10 :\n",
    "        break\n",
    "    a = a + 1"
   ]
  },
  {
   "cell_type": "code",
   "execution_count": 2,
   "id": "3b17cce5",
   "metadata": {},
   "outputs": [],
   "source": [
    "# RANGE"
   ]
  },
  {
   "cell_type": "code",
   "execution_count": 3,
   "id": "c63fe8c3",
   "metadata": {},
   "outputs": [
    {
     "data": {
      "text/plain": [
       "range(0, 5)"
      ]
     },
     "execution_count": 3,
     "metadata": {},
     "output_type": "execute_result"
    }
   ],
   "source": [
    "range(5) # "
   ]
  },
  {
   "cell_type": "code",
   "execution_count": 4,
   "id": "1ff690a2",
   "metadata": {},
   "outputs": [
    {
     "name": "stdout",
     "output_type": "stream",
     "text": [
      "0\n",
      "1\n",
      "2\n",
      "3\n",
      "4\n"
     ]
    }
   ],
   "source": [
    "for rakam in range(5):\n",
    "    print(rakam)"
   ]
  },
  {
   "cell_type": "code",
   "execution_count": 5,
   "id": "f05a5fde",
   "metadata": {},
   "outputs": [
    {
     "name": "stdout",
     "output_type": "stream",
     "text": [
      "range(0, 5)\n"
     ]
    }
   ],
   "source": [
    "print(range(5)) # ?"
   ]
  },
  {
   "cell_type": "code",
   "execution_count": 6,
   "id": "155e561f",
   "metadata": {},
   "outputs": [
    {
     "data": {
      "text/plain": [
       "int"
      ]
     },
     "execution_count": 6,
     "metadata": {},
     "output_type": "execute_result"
    }
   ],
   "source": [
    "type(a)"
   ]
  },
  {
   "cell_type": "code",
   "execution_count": 7,
   "id": "cbc909e0",
   "metadata": {},
   "outputs": [
    {
     "data": {
      "text/plain": [
       "list"
      ]
     },
     "execution_count": 7,
     "metadata": {},
     "output_type": "execute_result"
    }
   ],
   "source": [
    "liste = [1,2,3]\n",
    "type(liste)"
   ]
  },
  {
   "cell_type": "code",
   "execution_count": 8,
   "id": "9c23fc59",
   "metadata": {},
   "outputs": [],
   "source": [
    "b = range(0,10)"
   ]
  },
  {
   "cell_type": "code",
   "execution_count": 9,
   "id": "f8734f2d",
   "metadata": {},
   "outputs": [
    {
     "data": {
      "text/plain": [
       "range"
      ]
     },
     "execution_count": 9,
     "metadata": {},
     "output_type": "execute_result"
    }
   ],
   "source": [
    "type(b)"
   ]
  },
  {
   "cell_type": "code",
   "execution_count": 10,
   "id": "a1d3fd2b",
   "metadata": {},
   "outputs": [
    {
     "data": {
      "text/plain": [
       "[0, 1, 2, 3, 4, 5, 6, 7, 8, 9]"
      ]
     },
     "execution_count": 10,
     "metadata": {},
     "output_type": "execute_result"
    }
   ],
   "source": [
    "list(b)"
   ]
  },
  {
   "cell_type": "code",
   "execution_count": 11,
   "id": "c89adc8f",
   "metadata": {},
   "outputs": [
    {
     "data": {
      "text/plain": [
       "range(3, 18, 4)"
      ]
     },
     "execution_count": 11,
     "metadata": {},
     "output_type": "execute_result"
    }
   ],
   "source": [
    "range(3,18,4)# range(basla,bitir,adım)"
   ]
  },
  {
   "cell_type": "code",
   "execution_count": 12,
   "id": "249c90b4",
   "metadata": {},
   "outputs": [
    {
     "data": {
      "text/plain": [
       "[3, 7, 11, 15]"
      ]
     },
     "execution_count": 12,
     "metadata": {},
     "output_type": "execute_result"
    }
   ],
   "source": [
    "list(range(3,18,4))"
   ]
  },
  {
   "cell_type": "code",
   "execution_count": 15,
   "id": "c962b328",
   "metadata": {},
   "outputs": [
    {
     "name": "stdout",
     "output_type": "stream",
     "text": [
      "range(2, 6, 2)\n"
     ]
    }
   ],
   "source": [
    "print(range(2,6,2)) # ? [2,4] veya [2,4,6] veya range(2,6,2)"
   ]
  },
  {
   "cell_type": "code",
   "execution_count": 16,
   "id": "5cd40bd5",
   "metadata": {},
   "outputs": [
    {
     "name": "stdout",
     "output_type": "stream",
     "text": [
      "[2, 4]\n"
     ]
    }
   ],
   "source": [
    "print(list(range(2,6,2))) # ? [2,4] veya [2,4,6] veya range(2,6,2)"
   ]
  },
  {
   "cell_type": "code",
   "execution_count": 17,
   "id": "43c4cabe",
   "metadata": {},
   "outputs": [],
   "source": [
    "# LIST COMPREHENSION"
   ]
  },
  {
   "cell_type": "code",
   "execution_count": 18,
   "id": "81ffd0a6",
   "metadata": {},
   "outputs": [
    {
     "name": "stdout",
     "output_type": "stream",
     "text": [
      "[4, 16, 36, 81]\n"
     ]
    }
   ],
   "source": [
    "x = [2,4,6,9]\n",
    "kare = []\n",
    "for rakam in x:\n",
    "    karesi = rakam ** 2\n",
    "    kare.append(karesi)\n",
    "print(kare)"
   ]
  },
  {
   "cell_type": "code",
   "execution_count": 19,
   "id": "374754f5",
   "metadata": {},
   "outputs": [
    {
     "data": {
      "text/plain": [
       "[4, 16, 36, 81]"
      ]
     },
     "execution_count": 19,
     "metadata": {},
     "output_type": "execute_result"
    }
   ],
   "source": [
    "[rakam**2 for rakam in x]"
   ]
  },
  {
   "cell_type": "code",
   "execution_count": 21,
   "id": "b4c47e4f",
   "metadata": {},
   "outputs": [
    {
     "name": "stdout",
     "output_type": "stream",
     "text": [
      "[4, 16, 36, 81]\n"
     ]
    }
   ],
   "source": [
    "kare = [rakam**2 for rakam in x]\n",
    "print(kare)"
   ]
  },
  {
   "cell_type": "code",
   "execution_count": 26,
   "id": "cd65ca44",
   "metadata": {},
   "outputs": [
    {
     "name": "stdout",
     "output_type": "stream",
     "text": [
      "[4, 16, 36]\n"
     ]
    }
   ],
   "source": [
    "x = [2,4,6,9]\n",
    "kare = []\n",
    "for rakam in x:\n",
    "    if rakam % 2 == 0 : # çift sayı\n",
    "        karesi = rakam ** 2\n",
    "        kare.append(karesi)\n",
    "print(kare)"
   ]
  },
  {
   "cell_type": "code",
   "execution_count": 27,
   "id": "80287c9a",
   "metadata": {},
   "outputs": [
    {
     "data": {
      "text/plain": [
       "[4, 16, 36]"
      ]
     },
     "execution_count": 27,
     "metadata": {},
     "output_type": "execute_result"
    }
   ],
   "source": [
    "[rakam**2 for rakam in x if rakam % 2 == 0]"
   ]
  },
  {
   "cell_type": "code",
   "execution_count": 28,
   "id": "bf6cf07c",
   "metadata": {},
   "outputs": [],
   "source": [
    "# FONKSİYONLAR"
   ]
  },
  {
   "cell_type": "code",
   "execution_count": 29,
   "id": "3c8fffff",
   "metadata": {},
   "outputs": [],
   "source": [
    "def tekmi_ciftmi(rakam):\n",
    "    if rakam % 2 == 0:\n",
    "        return \"çift sayı\"\n",
    "    else:\n",
    "        return \"tek sayı\""
   ]
  },
  {
   "cell_type": "code",
   "execution_count": 30,
   "id": "d83c5d22",
   "metadata": {},
   "outputs": [
    {
     "name": "stdout",
     "output_type": "stream",
     "text": [
      "tek sayı\n"
     ]
    }
   ],
   "source": [
    "print(tekmi_ciftmi(3))"
   ]
  },
  {
   "cell_type": "code",
   "execution_count": 31,
   "id": "6a1f2620",
   "metadata": {},
   "outputs": [
    {
     "name": "stdout",
     "output_type": "stream",
     "text": [
      "çift sayı\n"
     ]
    }
   ],
   "source": [
    "print(tekmi_ciftmi(8))"
   ]
  },
  {
   "cell_type": "code",
   "execution_count": 32,
   "id": "c9e286e1",
   "metadata": {},
   "outputs": [],
   "source": [
    "def iki_deger_return (a,b,c) :\n",
    "    toplam = a + b + c\n",
    "    ortalama = toplam / 3\n",
    "    return toplam, ortalama"
   ]
  },
  {
   "cell_type": "code",
   "execution_count": 33,
   "id": "02448a50",
   "metadata": {},
   "outputs": [],
   "source": [
    "sum_deger,avg_deger = iki_deger_return(2,3,6) #"
   ]
  },
  {
   "cell_type": "code",
   "execution_count": 34,
   "id": "b5e569a2",
   "metadata": {},
   "outputs": [
    {
     "name": "stdout",
     "output_type": "stream",
     "text": [
      "11 3.6666666666666665\n"
     ]
    }
   ],
   "source": [
    "print (sum_deger, avg_deger)"
   ]
  },
  {
   "cell_type": "code",
   "execution_count": 35,
   "id": "e9a9f38e",
   "metadata": {},
   "outputs": [],
   "source": [
    "a, b = 3, 9 # a=3, b=9"
   ]
  },
  {
   "cell_type": "code",
   "execution_count": 36,
   "id": "88773879",
   "metadata": {},
   "outputs": [],
   "source": [
    "a = 3\n",
    "b = 9"
   ]
  },
  {
   "cell_type": "code",
   "execution_count": null,
   "id": "a26d8ea8",
   "metadata": {},
   "outputs": [],
   "source": []
  }
 ],
 "metadata": {
  "kernelspec": {
   "display_name": "Python 3 (ipykernel)",
   "language": "python",
   "name": "python3"
  },
  "language_info": {
   "codemirror_mode": {
    "name": "ipython",
    "version": 3
   },
   "file_extension": ".py",
   "mimetype": "text/x-python",
   "name": "python",
   "nbconvert_exporter": "python",
   "pygments_lexer": "ipython3",
   "version": "3.9.5"
  }
 },
 "nbformat": 4,
 "nbformat_minor": 5
}
