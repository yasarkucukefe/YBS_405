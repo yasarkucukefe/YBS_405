{
 "cells": [
  {
   "cell_type": "markdown",
   "id": "general-arrest",
   "metadata": {},
   "source": [
    "## Kümeleme (örnek uygulama)\n",
    "\n",
    "\"Source: Divided We Stand: Three Psychological Regions of the United States and\n",
    "Their Political, Economic, Social, and Health Correlates\"\t\n",
    "Rentfrow et al. 2013\t\n",
    "http://www.apa.org/pubs/journals/releases/psp-a0034434.pdf\t\n"
   ]
  },
  {
   "cell_type": "code",
   "execution_count": 2,
   "id": "brazilian-recovery",
   "metadata": {},
   "outputs": [],
   "source": [
    "import pandas as pd\n",
    "import numpy as np\n",
    "import matplotlib.pyplot as plt"
   ]
  },
  {
   "cell_type": "code",
   "execution_count": 3,
   "id": "copyrighted-providence",
   "metadata": {},
   "outputs": [],
   "source": [
    "df = pd.read_csv(\"ClusterData.csv\")"
   ]
  },
  {
   "cell_type": "code",
   "execution_count": 4,
   "id": "intended-appliance",
   "metadata": {},
   "outputs": [
    {
     "data": {
      "text/html": [
       "<div>\n",
       "<style scoped>\n",
       "    .dataframe tbody tr th:only-of-type {\n",
       "        vertical-align: middle;\n",
       "    }\n",
       "\n",
       "    .dataframe tbody tr th {\n",
       "        vertical-align: top;\n",
       "    }\n",
       "\n",
       "    .dataframe thead th {\n",
       "        text-align: right;\n",
       "    }\n",
       "</style>\n",
       "<table border=\"1\" class=\"dataframe\">\n",
       "  <thead>\n",
       "    <tr style=\"text-align: right;\">\n",
       "      <th></th>\n",
       "      <th>State</th>\n",
       "      <th>state_code</th>\n",
       "      <th>data science</th>\n",
       "      <th>cluster analysis</th>\n",
       "      <th>college</th>\n",
       "      <th>startup</th>\n",
       "      <th>entrepreneur</th>\n",
       "      <th>ceo</th>\n",
       "      <th>mortgage</th>\n",
       "      <th>nba</th>\n",
       "      <th>...</th>\n",
       "      <th>obfuscation</th>\n",
       "      <th>unicorn</th>\n",
       "      <th>Extraversion</th>\n",
       "      <th>Agreeableness</th>\n",
       "      <th>Conscientiousness</th>\n",
       "      <th>Neuroticism</th>\n",
       "      <th>Openness</th>\n",
       "      <th>PsychRegions</th>\n",
       "      <th>region</th>\n",
       "      <th>division</th>\n",
       "    </tr>\n",
       "  </thead>\n",
       "  <tbody>\n",
       "    <tr>\n",
       "      <th>0</th>\n",
       "      <td>Alabama</td>\n",
       "      <td>AL</td>\n",
       "      <td>-1.00</td>\n",
       "      <td>-0.13</td>\n",
       "      <td>1.10</td>\n",
       "      <td>-0.68</td>\n",
       "      <td>0.15</td>\n",
       "      <td>-0.73</td>\n",
       "      <td>1.53</td>\n",
       "      <td>-0.74</td>\n",
       "      <td>...</td>\n",
       "      <td>-0.32</td>\n",
       "      <td>-1.03</td>\n",
       "      <td>55.5</td>\n",
       "      <td>52.7</td>\n",
       "      <td>55.5</td>\n",
       "      <td>48.7</td>\n",
       "      <td>42.7</td>\n",
       "      <td>1</td>\n",
       "      <td>3</td>\n",
       "      <td>6</td>\n",
       "    </tr>\n",
       "    <tr>\n",
       "      <th>1</th>\n",
       "      <td>Arizona</td>\n",
       "      <td>AZ</td>\n",
       "      <td>-0.42</td>\n",
       "      <td>-0.73</td>\n",
       "      <td>-0.10</td>\n",
       "      <td>0.11</td>\n",
       "      <td>0.57</td>\n",
       "      <td>0.25</td>\n",
       "      <td>0.95</td>\n",
       "      <td>0.38</td>\n",
       "      <td>...</td>\n",
       "      <td>0.38</td>\n",
       "      <td>0.10</td>\n",
       "      <td>50.6</td>\n",
       "      <td>46.6</td>\n",
       "      <td>58.4</td>\n",
       "      <td>38.1</td>\n",
       "      <td>54.7</td>\n",
       "      <td>2</td>\n",
       "      <td>4</td>\n",
       "      <td>8</td>\n",
       "    </tr>\n",
       "    <tr>\n",
       "      <th>2</th>\n",
       "      <td>Arkansas</td>\n",
       "      <td>AR</td>\n",
       "      <td>-0.66</td>\n",
       "      <td>-0.39</td>\n",
       "      <td>-0.64</td>\n",
       "      <td>-0.08</td>\n",
       "      <td>0.01</td>\n",
       "      <td>-0.66</td>\n",
       "      <td>-0.50</td>\n",
       "      <td>-0.71</td>\n",
       "      <td>...</td>\n",
       "      <td>-0.45</td>\n",
       "      <td>-0.32</td>\n",
       "      <td>49.9</td>\n",
       "      <td>52.7</td>\n",
       "      <td>41.0</td>\n",
       "      <td>56.2</td>\n",
       "      <td>40.3</td>\n",
       "      <td>1</td>\n",
       "      <td>3</td>\n",
       "      <td>7</td>\n",
       "    </tr>\n",
       "    <tr>\n",
       "      <th>3</th>\n",
       "      <td>California</td>\n",
       "      <td>CA</td>\n",
       "      <td>1.95</td>\n",
       "      <td>-0.62</td>\n",
       "      <td>-0.26</td>\n",
       "      <td>2.02</td>\n",
       "      <td>0.46</td>\n",
       "      <td>1.27</td>\n",
       "      <td>-0.97</td>\n",
       "      <td>1.46</td>\n",
       "      <td>...</td>\n",
       "      <td>0.70</td>\n",
       "      <td>-0.38</td>\n",
       "      <td>51.4</td>\n",
       "      <td>49.0</td>\n",
       "      <td>43.2</td>\n",
       "      <td>39.1</td>\n",
       "      <td>65.0</td>\n",
       "      <td>2</td>\n",
       "      <td>4</td>\n",
       "      <td>9</td>\n",
       "    </tr>\n",
       "    <tr>\n",
       "      <th>4</th>\n",
       "      <td>Colorado</td>\n",
       "      <td>CO</td>\n",
       "      <td>0.34</td>\n",
       "      <td>0.00</td>\n",
       "      <td>-0.61</td>\n",
       "      <td>1.49</td>\n",
       "      <td>0.05</td>\n",
       "      <td>0.33</td>\n",
       "      <td>1.38</td>\n",
       "      <td>-0.80</td>\n",
       "      <td>...</td>\n",
       "      <td>1.32</td>\n",
       "      <td>0.20</td>\n",
       "      <td>45.3</td>\n",
       "      <td>47.5</td>\n",
       "      <td>58.8</td>\n",
       "      <td>34.3</td>\n",
       "      <td>57.9</td>\n",
       "      <td>1</td>\n",
       "      <td>4</td>\n",
       "      <td>8</td>\n",
       "    </tr>\n",
       "  </tbody>\n",
       "</table>\n",
       "<p>5 rows × 30 columns</p>\n",
       "</div>"
      ],
      "text/plain": [
       "        State state_code  data science  cluster analysis  college  startup  \\\n",
       "0     Alabama         AL         -1.00             -0.13     1.10    -0.68   \n",
       "1     Arizona         AZ         -0.42             -0.73    -0.10     0.11   \n",
       "2    Arkansas         AR         -0.66             -0.39    -0.64    -0.08   \n",
       "3  California         CA          1.95             -0.62    -0.26     2.02   \n",
       "4    Colorado         CO          0.34              0.00    -0.61     1.49   \n",
       "\n",
       "   entrepreneur   ceo  mortgage   nba  ...  obfuscation  unicorn  \\\n",
       "0          0.15 -0.73      1.53 -0.74  ...        -0.32    -1.03   \n",
       "1          0.57  0.25      0.95  0.38  ...         0.38     0.10   \n",
       "2          0.01 -0.66     -0.50 -0.71  ...        -0.45    -0.32   \n",
       "3          0.46  1.27     -0.97  1.46  ...         0.70    -0.38   \n",
       "4          0.05  0.33      1.38 -0.80  ...         1.32     0.20   \n",
       "\n",
       "   Extraversion  Agreeableness  Conscientiousness  Neuroticism  Openness  \\\n",
       "0          55.5           52.7               55.5         48.7      42.7   \n",
       "1          50.6           46.6               58.4         38.1      54.7   \n",
       "2          49.9           52.7               41.0         56.2      40.3   \n",
       "3          51.4           49.0               43.2         39.1      65.0   \n",
       "4          45.3           47.5               58.8         34.3      57.9   \n",
       "\n",
       "   PsychRegions  region  division  \n",
       "0             1       3         6  \n",
       "1             2       4         8  \n",
       "2             1       3         7  \n",
       "3             2       4         9  \n",
       "4             1       4         8  \n",
       "\n",
       "[5 rows x 30 columns]"
      ]
     },
     "execution_count": 4,
     "metadata": {},
     "output_type": "execute_result"
    }
   ],
   "source": [
    "df.head()"
   ]
  },
  {
   "cell_type": "code",
   "execution_count": 5,
   "id": "relevant-wrong",
   "metadata": {},
   "outputs": [],
   "source": [
    "from scipy.cluster.hierarchy import dendrogram, linkage"
   ]
  },
  {
   "cell_type": "code",
   "execution_count": 6,
   "id": "incomplete-performer",
   "metadata": {},
   "outputs": [
    {
     "data": {
      "text/plain": [
       "['State',\n",
       " 'state_code',\n",
       " 'data science',\n",
       " 'cluster analysis',\n",
       " 'college',\n",
       " 'startup',\n",
       " 'entrepreneur',\n",
       " 'ceo',\n",
       " 'mortgage',\n",
       " 'nba',\n",
       " 'nfl',\n",
       " 'mlb',\n",
       " 'fifa',\n",
       " 'modern dance',\n",
       " 'prius',\n",
       " 'escalade',\n",
       " 'subaru',\n",
       " 'jello',\n",
       " 'bbq',\n",
       " 'royal family',\n",
       " 'obfuscation',\n",
       " 'unicorn',\n",
       " 'Extraversion',\n",
       " 'Agreeableness',\n",
       " 'Conscientiousness',\n",
       " 'Neuroticism',\n",
       " 'Openness',\n",
       " 'PsychRegions',\n",
       " 'region',\n",
       " 'division']"
      ]
     },
     "execution_count": 6,
     "metadata": {},
     "output_type": "execute_result"
    }
   ],
   "source": [
    "list(df.columns.values)"
   ]
  },
  {
   "cell_type": "code",
   "execution_count": 7,
   "id": "legendary-christmas",
   "metadata": {},
   "outputs": [],
   "source": [
    "st = df[df.columns[2:]]"
   ]
  },
  {
   "cell_type": "code",
   "execution_count": 8,
   "id": "atmospheric-penalty",
   "metadata": {},
   "outputs": [
    {
     "data": {
      "text/html": [
       "<div>\n",
       "<style scoped>\n",
       "    .dataframe tbody tr th:only-of-type {\n",
       "        vertical-align: middle;\n",
       "    }\n",
       "\n",
       "    .dataframe tbody tr th {\n",
       "        vertical-align: top;\n",
       "    }\n",
       "\n",
       "    .dataframe thead th {\n",
       "        text-align: right;\n",
       "    }\n",
       "</style>\n",
       "<table border=\"1\" class=\"dataframe\">\n",
       "  <thead>\n",
       "    <tr style=\"text-align: right;\">\n",
       "      <th></th>\n",
       "      <th>data science</th>\n",
       "      <th>cluster analysis</th>\n",
       "      <th>college</th>\n",
       "      <th>startup</th>\n",
       "      <th>entrepreneur</th>\n",
       "      <th>ceo</th>\n",
       "      <th>mortgage</th>\n",
       "      <th>nba</th>\n",
       "      <th>nfl</th>\n",
       "      <th>mlb</th>\n",
       "      <th>...</th>\n",
       "      <th>obfuscation</th>\n",
       "      <th>unicorn</th>\n",
       "      <th>Extraversion</th>\n",
       "      <th>Agreeableness</th>\n",
       "      <th>Conscientiousness</th>\n",
       "      <th>Neuroticism</th>\n",
       "      <th>Openness</th>\n",
       "      <th>PsychRegions</th>\n",
       "      <th>region</th>\n",
       "      <th>division</th>\n",
       "    </tr>\n",
       "  </thead>\n",
       "  <tbody>\n",
       "    <tr>\n",
       "      <th>0</th>\n",
       "      <td>-1.00</td>\n",
       "      <td>-0.13</td>\n",
       "      <td>1.10</td>\n",
       "      <td>-0.68</td>\n",
       "      <td>0.15</td>\n",
       "      <td>-0.73</td>\n",
       "      <td>1.53</td>\n",
       "      <td>-0.74</td>\n",
       "      <td>-1.83</td>\n",
       "      <td>-1.30</td>\n",
       "      <td>...</td>\n",
       "      <td>-0.32</td>\n",
       "      <td>-1.03</td>\n",
       "      <td>55.5</td>\n",
       "      <td>52.7</td>\n",
       "      <td>55.5</td>\n",
       "      <td>48.7</td>\n",
       "      <td>42.7</td>\n",
       "      <td>1</td>\n",
       "      <td>3</td>\n",
       "      <td>6</td>\n",
       "    </tr>\n",
       "    <tr>\n",
       "      <th>1</th>\n",
       "      <td>-0.42</td>\n",
       "      <td>-0.73</td>\n",
       "      <td>-0.10</td>\n",
       "      <td>0.11</td>\n",
       "      <td>0.57</td>\n",
       "      <td>0.25</td>\n",
       "      <td>0.95</td>\n",
       "      <td>0.38</td>\n",
       "      <td>0.68</td>\n",
       "      <td>0.14</td>\n",
       "      <td>...</td>\n",
       "      <td>0.38</td>\n",
       "      <td>0.10</td>\n",
       "      <td>50.6</td>\n",
       "      <td>46.6</td>\n",
       "      <td>58.4</td>\n",
       "      <td>38.1</td>\n",
       "      <td>54.7</td>\n",
       "      <td>2</td>\n",
       "      <td>4</td>\n",
       "      <td>8</td>\n",
       "    </tr>\n",
       "    <tr>\n",
       "      <th>2</th>\n",
       "      <td>-0.66</td>\n",
       "      <td>-0.39</td>\n",
       "      <td>-0.64</td>\n",
       "      <td>-0.08</td>\n",
       "      <td>0.01</td>\n",
       "      <td>-0.66</td>\n",
       "      <td>-0.50</td>\n",
       "      <td>-0.71</td>\n",
       "      <td>-1.59</td>\n",
       "      <td>-1.24</td>\n",
       "      <td>...</td>\n",
       "      <td>-0.45</td>\n",
       "      <td>-0.32</td>\n",
       "      <td>49.9</td>\n",
       "      <td>52.7</td>\n",
       "      <td>41.0</td>\n",
       "      <td>56.2</td>\n",
       "      <td>40.3</td>\n",
       "      <td>1</td>\n",
       "      <td>3</td>\n",
       "      <td>7</td>\n",
       "    </tr>\n",
       "    <tr>\n",
       "      <th>3</th>\n",
       "      <td>1.95</td>\n",
       "      <td>-0.62</td>\n",
       "      <td>-0.26</td>\n",
       "      <td>2.02</td>\n",
       "      <td>0.46</td>\n",
       "      <td>1.27</td>\n",
       "      <td>-0.97</td>\n",
       "      <td>1.46</td>\n",
       "      <td>-0.91</td>\n",
       "      <td>0.39</td>\n",
       "      <td>...</td>\n",
       "      <td>0.70</td>\n",
       "      <td>-0.38</td>\n",
       "      <td>51.4</td>\n",
       "      <td>49.0</td>\n",
       "      <td>43.2</td>\n",
       "      <td>39.1</td>\n",
       "      <td>65.0</td>\n",
       "      <td>2</td>\n",
       "      <td>4</td>\n",
       "      <td>9</td>\n",
       "    </tr>\n",
       "    <tr>\n",
       "      <th>4</th>\n",
       "      <td>0.34</td>\n",
       "      <td>0.00</td>\n",
       "      <td>-0.61</td>\n",
       "      <td>1.49</td>\n",
       "      <td>0.05</td>\n",
       "      <td>0.33</td>\n",
       "      <td>1.38</td>\n",
       "      <td>-0.80</td>\n",
       "      <td>1.17</td>\n",
       "      <td>-0.51</td>\n",
       "      <td>...</td>\n",
       "      <td>1.32</td>\n",
       "      <td>0.20</td>\n",
       "      <td>45.3</td>\n",
       "      <td>47.5</td>\n",
       "      <td>58.8</td>\n",
       "      <td>34.3</td>\n",
       "      <td>57.9</td>\n",
       "      <td>1</td>\n",
       "      <td>4</td>\n",
       "      <td>8</td>\n",
       "    </tr>\n",
       "  </tbody>\n",
       "</table>\n",
       "<p>5 rows × 28 columns</p>\n",
       "</div>"
      ],
      "text/plain": [
       "   data science  cluster analysis  college  startup  entrepreneur   ceo  \\\n",
       "0         -1.00             -0.13     1.10    -0.68          0.15 -0.73   \n",
       "1         -0.42             -0.73    -0.10     0.11          0.57  0.25   \n",
       "2         -0.66             -0.39    -0.64    -0.08          0.01 -0.66   \n",
       "3          1.95             -0.62    -0.26     2.02          0.46  1.27   \n",
       "4          0.34              0.00    -0.61     1.49          0.05  0.33   \n",
       "\n",
       "   mortgage   nba   nfl   mlb  ...  obfuscation  unicorn  Extraversion  \\\n",
       "0      1.53 -0.74 -1.83 -1.30  ...        -0.32    -1.03          55.5   \n",
       "1      0.95  0.38  0.68  0.14  ...         0.38     0.10          50.6   \n",
       "2     -0.50 -0.71 -1.59 -1.24  ...        -0.45    -0.32          49.9   \n",
       "3     -0.97  1.46 -0.91  0.39  ...         0.70    -0.38          51.4   \n",
       "4      1.38 -0.80  1.17 -0.51  ...         1.32     0.20          45.3   \n",
       "\n",
       "   Agreeableness  Conscientiousness  Neuroticism  Openness  PsychRegions  \\\n",
       "0           52.7               55.5         48.7      42.7             1   \n",
       "1           46.6               58.4         38.1      54.7             2   \n",
       "2           52.7               41.0         56.2      40.3             1   \n",
       "3           49.0               43.2         39.1      65.0             2   \n",
       "4           47.5               58.8         34.3      57.9             1   \n",
       "\n",
       "   region  division  \n",
       "0       3         6  \n",
       "1       4         8  \n",
       "2       3         7  \n",
       "3       4         9  \n",
       "4       4         8  \n",
       "\n",
       "[5 rows x 28 columns]"
      ]
     },
     "execution_count": 8,
     "metadata": {},
     "output_type": "execute_result"
    }
   ],
   "source": [
    "st.head()"
   ]
  },
  {
   "cell_type": "code",
   "execution_count": 10,
   "id": "fallen-snapshot",
   "metadata": {},
   "outputs": [],
   "source": [
    "st.index = df.state_code"
   ]
  },
  {
   "cell_type": "code",
   "execution_count": 11,
   "id": "advisory-nerve",
   "metadata": {},
   "outputs": [
    {
     "data": {
      "text/html": [
       "<div>\n",
       "<style scoped>\n",
       "    .dataframe tbody tr th:only-of-type {\n",
       "        vertical-align: middle;\n",
       "    }\n",
       "\n",
       "    .dataframe tbody tr th {\n",
       "        vertical-align: top;\n",
       "    }\n",
       "\n",
       "    .dataframe thead th {\n",
       "        text-align: right;\n",
       "    }\n",
       "</style>\n",
       "<table border=\"1\" class=\"dataframe\">\n",
       "  <thead>\n",
       "    <tr style=\"text-align: right;\">\n",
       "      <th></th>\n",
       "      <th>data science</th>\n",
       "      <th>cluster analysis</th>\n",
       "      <th>college</th>\n",
       "      <th>startup</th>\n",
       "      <th>entrepreneur</th>\n",
       "      <th>ceo</th>\n",
       "      <th>mortgage</th>\n",
       "      <th>nba</th>\n",
       "      <th>nfl</th>\n",
       "      <th>mlb</th>\n",
       "      <th>...</th>\n",
       "      <th>obfuscation</th>\n",
       "      <th>unicorn</th>\n",
       "      <th>Extraversion</th>\n",
       "      <th>Agreeableness</th>\n",
       "      <th>Conscientiousness</th>\n",
       "      <th>Neuroticism</th>\n",
       "      <th>Openness</th>\n",
       "      <th>PsychRegions</th>\n",
       "      <th>region</th>\n",
       "      <th>division</th>\n",
       "    </tr>\n",
       "    <tr>\n",
       "      <th>state_code</th>\n",
       "      <th></th>\n",
       "      <th></th>\n",
       "      <th></th>\n",
       "      <th></th>\n",
       "      <th></th>\n",
       "      <th></th>\n",
       "      <th></th>\n",
       "      <th></th>\n",
       "      <th></th>\n",
       "      <th></th>\n",
       "      <th></th>\n",
       "      <th></th>\n",
       "      <th></th>\n",
       "      <th></th>\n",
       "      <th></th>\n",
       "      <th></th>\n",
       "      <th></th>\n",
       "      <th></th>\n",
       "      <th></th>\n",
       "      <th></th>\n",
       "      <th></th>\n",
       "    </tr>\n",
       "  </thead>\n",
       "  <tbody>\n",
       "    <tr>\n",
       "      <th>AL</th>\n",
       "      <td>-1.00</td>\n",
       "      <td>-0.13</td>\n",
       "      <td>1.10</td>\n",
       "      <td>-0.68</td>\n",
       "      <td>0.15</td>\n",
       "      <td>-0.73</td>\n",
       "      <td>1.53</td>\n",
       "      <td>-0.74</td>\n",
       "      <td>-1.83</td>\n",
       "      <td>-1.30</td>\n",
       "      <td>...</td>\n",
       "      <td>-0.32</td>\n",
       "      <td>-1.03</td>\n",
       "      <td>55.5</td>\n",
       "      <td>52.7</td>\n",
       "      <td>55.5</td>\n",
       "      <td>48.7</td>\n",
       "      <td>42.7</td>\n",
       "      <td>1</td>\n",
       "      <td>3</td>\n",
       "      <td>6</td>\n",
       "    </tr>\n",
       "    <tr>\n",
       "      <th>AZ</th>\n",
       "      <td>-0.42</td>\n",
       "      <td>-0.73</td>\n",
       "      <td>-0.10</td>\n",
       "      <td>0.11</td>\n",
       "      <td>0.57</td>\n",
       "      <td>0.25</td>\n",
       "      <td>0.95</td>\n",
       "      <td>0.38</td>\n",
       "      <td>0.68</td>\n",
       "      <td>0.14</td>\n",
       "      <td>...</td>\n",
       "      <td>0.38</td>\n",
       "      <td>0.10</td>\n",
       "      <td>50.6</td>\n",
       "      <td>46.6</td>\n",
       "      <td>58.4</td>\n",
       "      <td>38.1</td>\n",
       "      <td>54.7</td>\n",
       "      <td>2</td>\n",
       "      <td>4</td>\n",
       "      <td>8</td>\n",
       "    </tr>\n",
       "    <tr>\n",
       "      <th>AR</th>\n",
       "      <td>-0.66</td>\n",
       "      <td>-0.39</td>\n",
       "      <td>-0.64</td>\n",
       "      <td>-0.08</td>\n",
       "      <td>0.01</td>\n",
       "      <td>-0.66</td>\n",
       "      <td>-0.50</td>\n",
       "      <td>-0.71</td>\n",
       "      <td>-1.59</td>\n",
       "      <td>-1.24</td>\n",
       "      <td>...</td>\n",
       "      <td>-0.45</td>\n",
       "      <td>-0.32</td>\n",
       "      <td>49.9</td>\n",
       "      <td>52.7</td>\n",
       "      <td>41.0</td>\n",
       "      <td>56.2</td>\n",
       "      <td>40.3</td>\n",
       "      <td>1</td>\n",
       "      <td>3</td>\n",
       "      <td>7</td>\n",
       "    </tr>\n",
       "    <tr>\n",
       "      <th>CA</th>\n",
       "      <td>1.95</td>\n",
       "      <td>-0.62</td>\n",
       "      <td>-0.26</td>\n",
       "      <td>2.02</td>\n",
       "      <td>0.46</td>\n",
       "      <td>1.27</td>\n",
       "      <td>-0.97</td>\n",
       "      <td>1.46</td>\n",
       "      <td>-0.91</td>\n",
       "      <td>0.39</td>\n",
       "      <td>...</td>\n",
       "      <td>0.70</td>\n",
       "      <td>-0.38</td>\n",
       "      <td>51.4</td>\n",
       "      <td>49.0</td>\n",
       "      <td>43.2</td>\n",
       "      <td>39.1</td>\n",
       "      <td>65.0</td>\n",
       "      <td>2</td>\n",
       "      <td>4</td>\n",
       "      <td>9</td>\n",
       "    </tr>\n",
       "    <tr>\n",
       "      <th>CO</th>\n",
       "      <td>0.34</td>\n",
       "      <td>0.00</td>\n",
       "      <td>-0.61</td>\n",
       "      <td>1.49</td>\n",
       "      <td>0.05</td>\n",
       "      <td>0.33</td>\n",
       "      <td>1.38</td>\n",
       "      <td>-0.80</td>\n",
       "      <td>1.17</td>\n",
       "      <td>-0.51</td>\n",
       "      <td>...</td>\n",
       "      <td>1.32</td>\n",
       "      <td>0.20</td>\n",
       "      <td>45.3</td>\n",
       "      <td>47.5</td>\n",
       "      <td>58.8</td>\n",
       "      <td>34.3</td>\n",
       "      <td>57.9</td>\n",
       "      <td>1</td>\n",
       "      <td>4</td>\n",
       "      <td>8</td>\n",
       "    </tr>\n",
       "  </tbody>\n",
       "</table>\n",
       "<p>5 rows × 28 columns</p>\n",
       "</div>"
      ],
      "text/plain": [
       "            data science  cluster analysis  college  startup  entrepreneur  \\\n",
       "state_code                                                                   \n",
       "AL                 -1.00             -0.13     1.10    -0.68          0.15   \n",
       "AZ                 -0.42             -0.73    -0.10     0.11          0.57   \n",
       "AR                 -0.66             -0.39    -0.64    -0.08          0.01   \n",
       "CA                  1.95             -0.62    -0.26     2.02          0.46   \n",
       "CO                  0.34              0.00    -0.61     1.49          0.05   \n",
       "\n",
       "             ceo  mortgage   nba   nfl   mlb  ...  obfuscation  unicorn  \\\n",
       "state_code                                    ...                         \n",
       "AL         -0.73      1.53 -0.74 -1.83 -1.30  ...        -0.32    -1.03   \n",
       "AZ          0.25      0.95  0.38  0.68  0.14  ...         0.38     0.10   \n",
       "AR         -0.66     -0.50 -0.71 -1.59 -1.24  ...        -0.45    -0.32   \n",
       "CA          1.27     -0.97  1.46 -0.91  0.39  ...         0.70    -0.38   \n",
       "CO          0.33      1.38 -0.80  1.17 -0.51  ...         1.32     0.20   \n",
       "\n",
       "            Extraversion  Agreeableness  Conscientiousness  Neuroticism  \\\n",
       "state_code                                                                \n",
       "AL                  55.5           52.7               55.5         48.7   \n",
       "AZ                  50.6           46.6               58.4         38.1   \n",
       "AR                  49.9           52.7               41.0         56.2   \n",
       "CA                  51.4           49.0               43.2         39.1   \n",
       "CO                  45.3           47.5               58.8         34.3   \n",
       "\n",
       "            Openness  PsychRegions  region  division  \n",
       "state_code                                            \n",
       "AL              42.7             1       3         6  \n",
       "AZ              54.7             2       4         8  \n",
       "AR              40.3             1       3         7  \n",
       "CA              65.0             2       4         9  \n",
       "CO              57.9             1       4         8  \n",
       "\n",
       "[5 rows x 28 columns]"
      ]
     },
     "execution_count": 11,
     "metadata": {},
     "output_type": "execute_result"
    }
   ],
   "source": [
    "st.head()"
   ]
  },
  {
   "cell_type": "code",
   "execution_count": 12,
   "id": "worst-italy",
   "metadata": {},
   "outputs": [
    {
     "data": {
      "text/plain": [
       "Index(['AL', 'AZ', 'AR', 'CA', 'CO', 'CT', 'DE', 'FL', 'GA', 'ID', 'IL', 'IN',\n",
       "       'IA', 'KS', 'KY', 'LA', 'ME', 'MD', 'MA', 'MI', 'MN', 'MS', 'MO', 'MT',\n",
       "       'NE', 'NV', 'NH', 'NJ', 'NM', 'NY', 'NC', 'ND', 'OH', 'OK', 'OR', 'PA',\n",
       "       'RI', 'SC', 'SD', 'TN', 'TX', 'UT', 'VT', 'VA', 'WA', 'WV', 'WI', 'WY'],\n",
       "      dtype='object', name='state_code')"
      ]
     },
     "execution_count": 12,
     "metadata": {},
     "output_type": "execute_result"
    }
   ],
   "source": [
    "st.index"
   ]
  },
  {
   "cell_type": "code",
   "execution_count": 13,
   "id": "flying-dinner",
   "metadata": {},
   "outputs": [],
   "source": [
    "Z = linkage(st, 'ward')"
   ]
  },
  {
   "cell_type": "code",
   "execution_count": 16,
   "id": "dedicated-birmingham",
   "metadata": {},
   "outputs": [
    {
     "data": {
      "image/png": "[encoded data removed]",
      "text/plain": [
       "<Figure size 1800x720 with 1 Axes>"
      ]
     },
     "metadata": {
      "needs_background": "light"
     },
     "output_type": "display_data"
    }
   ],
   "source": [
    "# plot\n",
    "plt.figure(figsize=(25,10))\n",
    "plt.title('Kümeleme')\n",
    "plt.ylabel('distance')\n",
    "dendrogram(Z, labels = st.index, leaf_rotation=0, leaf_font_size=12)\n",
    "plt.show()"
   ]
  },
  {
   "cell_type": "markdown",
   "id": "suited-poster",
   "metadata": {},
   "source": [
    "## Sınıflandırma (Classification)\n",
    "http://archive.ics.uci.edu/ml/datasets/default+of+credit+card+clients"
   ]
  },
  {
   "cell_type": "code",
   "execution_count": 17,
   "id": "acute-conditioning",
   "metadata": {},
   "outputs": [],
   "source": [
    "import pylab as pl\n",
    "from sklearn.neighbors import KNeighborsClassifier"
   ]
  },
  {
   "cell_type": "code",
   "execution_count": 19,
   "id": "saved-bryan",
   "metadata": {},
   "outputs": [
    {
     "data": {
      "text/plain": [
       "['ID',\n",
       " 'LIMIT_BAL',\n",
       " 'SEX',\n",
       " 'EDUCATION',\n",
       " 'MARRIAGE',\n",
       " 'AGE',\n",
       " 'PAY_0',\n",
       " 'PAY_2',\n",
       " 'PAY_3',\n",
       " 'PAY_4',\n",
       " 'PAY_5',\n",
       " 'PAY_6',\n",
       " 'BILL_AMT1',\n",
       " 'BILL_AMT2',\n",
       " 'BILL_AMT3',\n",
       " 'BILL_AMT4',\n",
       " 'BILL_AMT5',\n",
       " 'BILL_AMT6',\n",
       " 'PAY_AMT1',\n",
       " 'PAY_AMT2',\n",
       " 'PAY_AMT3',\n",
       " 'PAY_AMT4',\n",
       " 'PAY_AMT5',\n",
       " 'PAY_AMT6',\n",
       " 'DEFAULT']"
      ]
     },
     "execution_count": 19,
     "metadata": {},
     "output_type": "execute_result"
    }
   ],
   "source": [
    "# veri oku\n",
    "df = pd.read_csv('ccdefault.csv')\n",
    "list(df.columns.values)"
   ]
  },
  {
   "cell_type": "code",
   "execution_count": 20,
   "id": "above-portfolio",
   "metadata": {},
   "outputs": [],
   "source": [
    "ccd = df[df.columns[1:]] # ID kolonu gitsin"
   ]
  },
  {
   "cell_type": "code",
   "execution_count": 24,
   "id": "individual-trauma",
   "metadata": {},
   "outputs": [],
   "source": [
    "# Veriyi eğitim ve test olarak ikiye ayıralım\n",
    "test_idx = np.random.uniform(0,1, len(ccd)) <= 0.3"
   ]
  },
  {
   "cell_type": "code",
   "execution_count": 30,
   "id": "turkish-increase",
   "metadata": {},
   "outputs": [],
   "source": [
    "train = ccd[test_idx == False]\n",
    "test = ccd[test_idx == True]"
   ]
  },
  {
   "cell_type": "code",
   "execution_count": 31,
   "id": "efficient-tolerance",
   "metadata": {},
   "outputs": [
    {
     "data": {
      "text/plain": [
       "(21013, 24)"
      ]
     },
     "execution_count": 31,
     "metadata": {},
     "output_type": "execute_result"
    }
   ],
   "source": [
    "train.shape"
   ]
  },
  {
   "cell_type": "code",
   "execution_count": 32,
   "id": "absolute-window",
   "metadata": {},
   "outputs": [
    {
     "data": {
      "text/plain": [
       "(8987, 24)"
      ]
     },
     "execution_count": 32,
     "metadata": {},
     "output_type": "execute_result"
    }
   ],
   "source": [
    "test.shape"
   ]
  },
  {
   "cell_type": "code",
   "execution_count": 33,
   "id": "happy-musical",
   "metadata": {},
   "outputs": [],
   "source": [
    "features = ['LIMIT_BAL','SEX','EDUCATION','MARRIAGE','AGE', 'PAY_0','PAY_2','PAY_3','PAY_4','PAY_5','PAY_6','BILL_AMT1','BILL_AMT2','BILL_AMT3','BILL_AMT4','BILL_AMT5','BILL_AMT6','PAY_AMT1','PAY_AMT2','PAY_AMT3','PAY_AMT4','PAY_AMT5','PAY_AMT6']"
   ]
  },
  {
   "cell_type": "code",
   "execution_count": 34,
   "id": "commercial-vatican",
   "metadata": {},
   "outputs": [],
   "source": [
    "# Knn sınıflandırması için n = 5\n",
    "n = 5\n",
    "\n",
    "sonuclar = []\n",
    "\n",
    "knn = KNeighborsClassifier(n_neighbors=n)\n",
    "knn.fit(train[features], train['DEFAULT'])\n",
    "tahminler = knn.predict(test[features])"
   ]
  },
  {
   "cell_type": "code",
   "execution_count": 35,
   "id": "short-immune",
   "metadata": {},
   "outputs": [
    {
     "data": {
      "text/plain": [
       "array([0, 0, 0, ..., 0, 0, 0], dtype=int64)"
      ]
     },
     "execution_count": 35,
     "metadata": {},
     "output_type": "execute_result"
    }
   ],
   "source": [
    "tahminler"
   ]
  },
  {
   "cell_type": "code",
   "execution_count": 36,
   "id": "harmful-greenhouse",
   "metadata": {},
   "outputs": [],
   "source": [
    "dogruluk = np.where(tahminler == test['DEFAULT'], 1, 0).sum() / float(len(test)) * 100"
   ]
  },
  {
   "cell_type": "code",
   "execution_count": 37,
   "id": "silent-flood",
   "metadata": {},
   "outputs": [
    {
     "data": {
      "text/plain": [
       "76.05430065650384"
      ]
     },
     "execution_count": 37,
     "metadata": {},
     "output_type": "execute_result"
    }
   ],
   "source": [
    "dogruluk"
   ]
  },
  {
   "cell_type": "code",
   "execution_count": 38,
   "id": "waiting-gravity",
   "metadata": {},
   "outputs": [],
   "source": [
    "# Hiç bir model kullanmadan, sadece kredi kartı borcunu ödemeyenlerin oranını bir olasılık değeri olarak kullanabilir miyiz?"
   ]
  },
  {
   "cell_type": "code",
   "execution_count": 39,
   "id": "proof-notice",
   "metadata": {},
   "outputs": [],
   "source": [
    "default_oran = np.where(1 == df['DEFAULT'], 1, 0).sum() / float(len(df)) * 100"
   ]
  },
  {
   "cell_type": "code",
   "execution_count": 40,
   "id": "historical-democracy",
   "metadata": {},
   "outputs": [
    {
     "name": "stdout",
     "output_type": "stream",
     "text": [
      "22.12\n"
     ]
    }
   ],
   "source": [
    "print(default_oran)"
   ]
  },
  {
   "cell_type": "code",
   "execution_count": null,
   "id": "immune-investing",
   "metadata": {},
   "outputs": [],
   "source": [
    "# Müşterilerin % 78'i borçlarını ödüyor\n",
    "# Bütün müşteriler için borcunu ödeyecek şeklinde bir tahmin bile % 78 başarıya sahip !"
   ]
  }
 ],
 "metadata": {
  "kernelspec": {
   "display_name": "Python 3",
   "language": "python",
   "name": "python3"
  },
  "language_info": {
   "codemirror_mode": {
    "name": "ipython",
    "version": 3
   },
   "file_extension": ".py",
   "mimetype": "text/x-python",
   "name": "python",
   "nbconvert_exporter": "python",
   "pygments_lexer": "ipython3",
   "version": "3.8.8"
  }
 },
 "nbformat": 4,
 "nbformat_minor": 5
}
